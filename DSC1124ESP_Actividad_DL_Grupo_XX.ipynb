{
  "cells": [
    {
      "cell_type": "markdown",
      "metadata": {
        "id": "view-in-github",
        "colab_type": "text"
      },
      "source": [
        "<a href=\"https://colab.research.google.com/github/KARENCMP82/Python/blob/main/DSC1124ESP_Actividad_DL_Grupo_XX.ipynb\" target=\"_parent\"><img src=\"https://colab.research.google.com/assets/colab-badge.svg\" alt=\"Open In Colab\"/></a>"
      ]
    },
    {
      "cell_type": "markdown",
      "metadata": {
        "id": "0xzbVGolIg08"
      },
      "source": [
        "# Deep Learning\n",
        "## Actividad 1: Deep Vision"
      ]
    },
    {
      "cell_type": "markdown",
      "source": [
        "Nombre alumn@ 1\n",
        "\n",
        "Nombre alumn@ 2\n",
        "\n",
        "...\n"
      ],
      "metadata": {
        "id": "bNZMjRUJaNv7"
      }
    },
    {
      "cell_type": "markdown",
      "metadata": {
        "id": "BhWjErKXWMTl"
      },
      "source": [
        "# Actividad Deep Vision\n",
        "\n",
        "Diseñar y comparar dos estrategias para la clasificación de imágenes en el dataset CIFAR100 de Keras (https://keras.io/api/datasets/cifar100/)\n",
        "\n",
        "### **Estrategia 1: Red pre-entrenada**\n",
        "\n",
        "La primera estrategia a comparar debe incluir la utilización de redes preentrenadas con el dataset ImageNet, llevando a cabo tareas de *transfer learning* y *fine-tuning* para clasificar los objetos de CIFAR100. Deben compararse al menos dos tipos de arquitecturas (VGGs, ResNet50, Xception, InceptionV3, InceptionResNetV2, MobileNetV2, DenseNet, ResNet...) y se debe seleccionar la que mayor precisión nos dé (información sobre las arquitecturas disponibles en https://keras.io/applications/). Se espera que el ejercicio presente una profunda experimentación haciendo uso todas las técnicas de optimización mostradas en clase de forma justificada para la mejora del rendimiento de la red neuronal (weight regularization, dropout, batch normalization, data augmentation, etc.).\n",
        "\n",
        "### **Estrategia 2: Entrenar desde cero o from scratch**\n",
        "\n",
        "La segunda estrategia a comparar será una red neuronal que se debe diseñar, entrenar y optimizar. Se requiere una justificación empírica de las decisiones que llevaron a la selección de atributos, capas e hiperparámetros a los que se ha llegado. Se espera que el ejercicio presente una profunda experimentación haciendo uso de todas las técnicas de optimización mostradas en clase de forma justificada para la mejora del rendimiento de la red neuronal (weight regularization, dropout, batch normalization, data augmentation...).\n",
        "\n",
        "## Normas a seguir\n",
        "\n",
        "- Se debe entregar un **ÚNICO GOOGLE COLAB notebook** (archivo .ipynb) que incluya las instrucciones presentes y su **EJECUCIÓN!!!**. Debe aparecer todo el proceso seguido (carga de datos, visualización de datos, proceso de entrenamiento y proceso de validación del modelo).\n",
        "- Poner el nombre del grupo en el nombre del archivo y el nombre de todos los integrantes del grupo al inicio del notebook.\n",
        "- Las redes utilizadas deben estar entrenadas y con las métricas extraídas en el conjunto de test.\n",
        "- Es recomendable crear una última sección de texto en el notebook en la que se discutan los diferentes modelos obtenidos y se extraigan las conclusiones pertinentes.\n",
        "\n",
        "## Criterio de evaluación\n",
        "\n",
        "- Seguimiento de las normas establecidas en la actividad.\n",
        "- Efectividad al presentar las comparaciones entre métricas de evaluación de ambos modelos.\n",
        "- Demostración de la utilización de técnicas de optimización para mejorar el rendimiento de los modelos.\n",
        "- Modelos predictivos con rendimiento superior al aleatorio.\n",
        "- Corrección en el uso de algoritmos, modelos y formas idiomáticas en Python.\n",
        "- El código debe poder ejecutarse sin modificación alguna en Google Colaboratory."
      ]
    },
    {
      "cell_type": "markdown",
      "metadata": {
        "id": "H0p5cu6LTUiZ"
      },
      "source": [
        "Recomendaciones en el Uso de Colab:\n",
        "\n",
        "- Eliminar las variables innecesarias para liberar RAM mediante la sentencia:"
      ]
    },
    {
      "cell_type": "code",
      "source": [
        "#LIBRERIAS\n",
        "#Importar librerías esenciales (TensorFlow/Keras, NumPy, Matplotlib).\n",
        "from tensorflow.keras.datasets import cifar100\n",
        "import matplotlib.pyplot as plt\n",
        "# Importar las bibliotecas necesarias\n",
        "import h5py  # Biblioteca para interactuar con archivos HDF5 (formato común para guardar grandes datasets)\n",
        "import numpy as np # Biblioteca para operaciones numéricas, especialmente con arrays\n",
        "import keras as ks\n",
        "from keras.models import Sequential\n",
        "from keras.layers import Flatten, Dense, Dropout, Activation\n",
        "import random\n",
        "from tensorflow.keras.utils import to_categorical\n",
        "from tensorflow.keras.applications import VGG16\n",
        "from tensorflow.keras.preprocessing.image import ImageDataGenerator\n"
      ],
      "metadata": {
        "id": "FTiMJZ3z0PHc"
      },
      "execution_count": 1,
      "outputs": []
    },
    {
      "cell_type": "markdown",
      "source": [
        "x_train: Son las imágenes que usarás para entrenar tu red neuronal. Es el conjunto de datos más grande, con el que el modelo \"aprende\".\n",
        "\n",
        "y_train: Son las etiquetas correctas (números del 0 al 99 que representan cada categoría) correspondientes a cada imagen en x_train. Le dicen al modelo cuál es la respuesta correcta durante el entrenamiento.\n",
        "\n",
        "x_test: Son las imágenes que usarás para probar qué tan bien ha aprendido tu modelo después de entrenarlo. El modelo no ve estas imágenes durante el entrenamiento.\n",
        "\n",
        "y_test: Son las etiquetas correctas correspondientes a cada imagen en x_test. Las usas para comparar las predicciones del modelo en x_test y ver cuántas acierta."
      ],
      "metadata": {
        "id": "5ayt9Kiv11b6"
      }
    },
    {
      "cell_type": "code",
      "source": [
        "# Cargar dataset: (x_train, y_train), (x_test, y_test) = cifar100.load_data().\n",
        "print(\"[INFO]: Loading CIFAR-100 data...\")\n",
        "((x_train, y_train), (x_test, y_test)) = cifar100.load_data()\n",
        "# Para verificar que se cargó correctamente, puedes imprimir las formas (shapes)\n",
        "print(\"###########################\")\n",
        "print(f\"Forma de x_train: {x_train.shape}\")\n",
        "print(f\"Forma de y_train: {y_train.shape}\")\n",
        "print(f\"Forma de x_test: {x_test.shape}\")\n",
        "print(f\"Forma de y_test: {y_test.shape}\")"
      ],
      "metadata": {
        "colab": {
          "base_uri": "https://localhost:8080/"
        },
        "id": "GcC6FEKW0t8g",
        "outputId": "b90825bc-f4f8-46b6-8ec0-b3b3c6da881b"
      },
      "execution_count": 4,
      "outputs": [
        {
          "output_type": "stream",
          "name": "stdout",
          "text": [
            "[INFO]: Loading CIFAR-100 data...\n",
            "###########################\n",
            "Forma de x_train: (50000, 32, 32, 3)\n",
            "Forma de y_train: (50000, 1)\n",
            "Forma de x_test: (10000, 32, 32, 3)\n",
            "Forma de y_test: (10000, 1)\n"
          ]
        }
      ]
    },
    {
      "cell_type": "code",
      "source": [
        "#Definir los nombres de las clases (etiquetas finas):\n",
        "# Nombres de las 100 clases \"finas\" de CIFAR-100\n",
        "# Estos nombres están en el orden correspondiente a las etiquetas numéricas 0-99\n",
        "fine_label_names = [\n",
        "    'apple', 'aquarium_fish', 'baby', 'bear', 'beaver', 'bed', 'bee', 'beetle',\n",
        "    'bicycle', 'bottle', 'bowl', 'boy', 'bridge', 'bus', 'butterfly', 'camel',\n",
        "    'can', 'castle', 'caterpillar', 'cattle', 'chair', 'chimpanzee', 'clock',\n",
        "    'cloud', 'cockroach', 'couch', 'crab', 'crocodile', 'cup', 'dinosaur',\n",
        "    'dolphin', 'elephant', 'flatfish', 'forest', 'fox', 'girl', 'hamster',\n",
        "    'house', 'kangaroo', 'keyboard', 'lamp', 'lawn_mower', 'leopard', 'lion',\n",
        "    'lizard', 'lobster', 'man', 'maple_tree', 'motorcycle', 'mountain', 'mouse',\n",
        "    'mushroom', 'oak_tree', 'orange', 'orchid', 'otter', 'palm_tree', 'pear',\n",
        "    'pickup_truck', 'pine_tree', 'plain', 'plate', 'poppy', 'porcupine',\n",
        "    'possum', 'rabbit', 'raccoon', 'ray', 'road', 'rocket', 'rose',\n",
        "    'sea', 'seal', 'shark', 'shrew', 'skunk', 'skyscraper', 'snail', 'snake',\n",
        "    'spider', 'squirrel', 'streetcar', 'sunflower', 'sweet_pepper', 'table',\n",
        "    'tank', 'telephone', 'television', 'tiger', 'tractor', 'train', 'trout',\n",
        "    'tulip', 'turtle', 'wardrobe', 'whale', 'willow_tree', 'wolf', 'woman',\n",
        "    'worm'\n",
        "]"
      ],
      "metadata": {
        "id": "d2YLvJm7DKVM"
      },
      "execution_count": 2,
      "outputs": []
    },
    {
      "cell_type": "code",
      "source": [
        "#Visualizar algunas imágenes y sus etiquetas para entender los datos.\n",
        "print()\n"
      ],
      "metadata": {
        "colab": {
          "base_uri": "https://localhost:8080/",
          "height": 176
        },
        "id": "csg8y5eY2Pp_",
        "outputId": "ad5a5c1e-cdcd-4f19-e500-9a3586612985"
      },
      "execution_count": 4,
      "outputs": [
        {
          "output_type": "error",
          "ename": "NameError",
          "evalue": "name 'plot_images' is not defined",
          "traceback": [
            "\u001b[0;31m---------------------------------------------------------------------------\u001b[0m",
            "\u001b[0;31mNameError\u001b[0m                                 Traceback (most recent call last)",
            "\u001b[0;32m<ipython-input-4-7a27da6c37e2>\u001b[0m in \u001b[0;36m<cell line: 0>\u001b[0;34m()\u001b[0m\n\u001b[1;32m      1\u001b[0m \u001b[0;31m#Visualizar algunas imágenes y sus etiquetas para entender los datos.\u001b[0m\u001b[0;34m\u001b[0m\u001b[0;34m\u001b[0m\u001b[0m\n\u001b[1;32m      2\u001b[0m \u001b[0;34m\u001b[0m\u001b[0m\n\u001b[0;32m----> 3\u001b[0;31m \u001b[0mplot_images\u001b[0m\u001b[0;34m(\u001b[0m\u001b[0mx_train\u001b[0m\u001b[0;34m,\u001b[0m \u001b[0my_train\u001b[0m\u001b[0;34m,\u001b[0m \u001b[0mclass_names\u001b[0m\u001b[0;34m)\u001b[0m\u001b[0;34m\u001b[0m\u001b[0;34m\u001b[0m\u001b[0m\n\u001b[0m",
            "\u001b[0;31mNameError\u001b[0m: name 'plot_images' is not defined"
          ]
        }
      ]
    }
  ],
  "metadata": {
    "accelerator": "GPU",
    "colab": {
      "provenance": [],
      "include_colab_link": true
    },
    "gpuClass": "standard",
    "kernelspec": {
      "display_name": "Python 3",
      "name": "python3"
    },
    "language_info": {
      "codemirror_mode": {
        "name": "ipython",
        "version": 3
      },
      "file_extension": ".py",
      "mimetype": "text/x-python",
      "name": "python",
      "nbconvert_exporter": "python",
      "pygments_lexer": "ipython3",
      "version": "3.6.5"
    }
  },
  "nbformat": 4,
  "nbformat_minor": 0
}