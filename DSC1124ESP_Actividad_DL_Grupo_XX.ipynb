{
  "cells": [
    {
      "cell_type": "markdown",
      "metadata": {
        "id": "view-in-github",
        "colab_type": "text"
      },
      "source": [
        "<a href=\"https://colab.research.google.com/github/KARENCMP82/Python/blob/main/DSC1124ESP_Actividad_DL_Grupo_XX.ipynb\" target=\"_parent\"><img src=\"https://colab.research.google.com/assets/colab-badge.svg\" alt=\"Open In Colab\"/></a>"
      ]
    },
    {
      "cell_type": "markdown",
      "metadata": {
        "id": "0xzbVGolIg08"
      },
      "source": [
        "# Deep Learning\n",
        "## Actividad 1: Deep Vision"
      ]
    },
    {
      "cell_type": "markdown",
      "source": [
        "Nombre alumn@ 1\n",
        "\n",
        "Nombre alumn@ 2\n",
        "\n",
        "...\n"
      ],
      "metadata": {
        "id": "bNZMjRUJaNv7"
      }
    },
    {
      "cell_type": "markdown",
      "metadata": {
        "id": "BhWjErKXWMTl"
      },
      "source": [
        "# Actividad Deep Vision\n",
        "\n",
        "Diseñar y comparar dos estrategias para la clasificación de imágenes en el dataset CIFAR100 de Keras (https://keras.io/api/datasets/cifar100/)\n",
        "\n",
        "### **Estrategia 1: Red pre-entrenada**\n",
        "\n",
        "La primera estrategia a comparar debe incluir la utilización de redes preentrenadas con el dataset ImageNet, llevando a cabo tareas de *transfer learning* y *fine-tuning* para clasificar los objetos de CIFAR100. Deben compararse al menos dos tipos de arquitecturas (VGGs, ResNet50, Xception, InceptionV3, InceptionResNetV2, MobileNetV2, DenseNet, ResNet...) y se debe seleccionar la que mayor precisión nos dé (información sobre las arquitecturas disponibles en https://keras.io/applications/). Se espera que el ejercicio presente una profunda experimentación haciendo uso todas las técnicas de optimización mostradas en clase de forma justificada para la mejora del rendimiento de la red neuronal (weight regularization, dropout, batch normalization, data augmentation, etc.).\n",
        "\n",
        "### **Estrategia 2: Entrenar desde cero o from scratch**\n",
        "\n",
        "La segunda estrategia a comparar será una red neuronal que se debe diseñar, entrenar y optimizar. Se requiere una justificación empírica de las decisiones que llevaron a la selección de atributos, capas e hiperparámetros a los que se ha llegado. Se espera que el ejercicio presente una profunda experimentación haciendo uso de todas las técnicas de optimización mostradas en clase de forma justificada para la mejora del rendimiento de la red neuronal (weight regularization, dropout, batch normalization, data augmentation...).\n",
        "\n",
        "## Normas a seguir\n",
        "\n",
        "- Se debe entregar un **ÚNICO GOOGLE COLAB notebook** (archivo .ipynb) que incluya las instrucciones presentes y su **EJECUCIÓN!!!**. Debe aparecer todo el proceso seguido (carga de datos, visualización de datos, proceso de entrenamiento y proceso de validación del modelo).\n",
        "- Poner el nombre del grupo en el nombre del archivo y el nombre de todos los integrantes del grupo al inicio del notebook.\n",
        "- Las redes utilizadas deben estar entrenadas y con las métricas extraídas en el conjunto de test.\n",
        "- Es recomendable crear una última sección de texto en el notebook en la que se discutan los diferentes modelos obtenidos y se extraigan las conclusiones pertinentes.\n",
        "\n",
        "## Criterio de evaluación\n",
        "\n",
        "- Seguimiento de las normas establecidas en la actividad.\n",
        "- Efectividad al presentar las comparaciones entre métricas de evaluación de ambos modelos.\n",
        "- Demostración de la utilización de técnicas de optimización para mejorar el rendimiento de los modelos.\n",
        "- Modelos predictivos con rendimiento superior al aleatorio.\n",
        "- Corrección en el uso de algoritmos, modelos y formas idiomáticas en Python.\n",
        "- El código debe poder ejecutarse sin modificación alguna en Google Colaboratory."
      ]
    },
    {
      "cell_type": "markdown",
      "metadata": {
        "id": "H0p5cu6LTUiZ"
      },
      "source": [
        "Recomendaciones en el Uso de Colab:\n",
        "\n",
        "- Eliminar las variables innecesarias para liberar RAM mediante la sentencia:"
      ]
    },
    {
      "cell_type": "code",
      "source": [
        "from tensorflow.keras.datasets import cifar100\n",
        "import matplotlib.pyplot as plt\n",
        "# Importar las bibliotecas necesarias\n",
        "import h5py  # Biblioteca para interactuar con archivos HDF5 (formato común para guardar grandes datasets)\n",
        "import numpy as np # Biblioteca para operaciones numéricas, especialmente con arrays\n",
        "import keras as ks\n",
        "from keras.models import Sequential\n",
        "from keras.layers import Flatten, Dense, Dropout, Activation\n",
        "from keras.models import Sequential\n",
        "import random\n",
        "from tensorflow.keras.utils import to_categorical\n",
        "from tensorflow.keras.applications import VGG16\n"
      ],
      "metadata": {
        "id": "FTiMJZ3z0PHc"
      },
      "execution_count": 13,
      "outputs": []
    },
    {
      "cell_type": "markdown",
      "source": [
        "x_train: Son las imágenes que usarás para entrenar tu red neuronal. Es el conjunto de datos más grande, con el que el modelo \"aprende\".\n",
        "\n",
        "y_train: Son las etiquetas correctas (números del 0 al 99 que representan cada categoría) correspondientes a cada imagen en x_train. Le dicen al modelo cuál es la respuesta correcta durante el entrenamiento.\n",
        "\n",
        "x_test: Son las imágenes que usarás para probar qué tan bien ha aprendido tu modelo después de entrenarlo. El modelo no ve estas imágenes durante el entrenamiento.\n",
        "\n",
        "y_test: Son las etiquetas correctas correspondientes a cada imagen en x_test. Las usas para comparar las predicciones del modelo en x_test y ver cuántas acierta."
      ],
      "metadata": {
        "id": "5ayt9Kiv11b6"
      }
    },
    {
      "cell_type": "code",
      "source": [
        "# Carga de datos\n",
        "print(\"[INFO]: Loading CIFAR-100 data...\")\n",
        "((x_train, y_train), (x_test, y_test)) = cifar100.load_data()"
      ],
      "metadata": {
        "colab": {
          "base_uri": "https://localhost:8080/"
        },
        "id": "GcC6FEKW0t8g",
        "outputId": "b6852603-a639-48e4-aada-9fe4d66a4e85"
      },
      "execution_count": 2,
      "outputs": [
        {
          "output_type": "stream",
          "name": "stdout",
          "text": [
            "[INFO]: Loading CIFAR-100 data...\n",
            "Downloading data from https://www.cs.toronto.edu/~kriz/cifar-100-python.tar.gz\n",
            "\u001b[1m169001437/169001437\u001b[0m \u001b[32m━━━━━━━━━━━━━━━━━━━━\u001b[0m\u001b[37m\u001b[0m \u001b[1m4s\u001b[0m 0us/step\n"
          ]
        }
      ]
    },
    {
      "cell_type": "code",
      "execution_count": 3,
      "metadata": {
        "id": "RFjm7WwHgpXo"
      },
      "outputs": [],
      "source": [
        "nombresEtiquetas = ['manzana', 'pez_de_acuario', 'bebé', 'oso', 'castor', 'cama', 'abeja', 'escarabajo', 'bicicleta', 'botella', 'cuenco', 'niño', 'puente', 'autobús', 'mariposa', 'camello', 'lata', 'castillo', 'oruga', 'ganado', 'silla', 'chimpancé',\n",
        "                    'reloj', 'nube', 'cucaracha', 'sofá', 'cangrejo', 'cocodrilo', 'taza', 'dinosaurio', 'delfín', 'elefante', 'pez_plano', 'bosque', 'zorro', 'niña', 'hámster', 'casa', 'canguro', 'teclado', 'lámpara', 'cortacésped', 'leopardo', 'león',\n",
        "                    'lagarto', 'langosta', 'hombre', 'arce', 'motocicleta', 'montaña', 'ratón', 'hongo', 'roble', 'naranja', 'orquídea', 'nutria', 'palmera', 'pera', 'camioneta', 'pino', 'llanura', 'plato', 'amapola', 'puercoespín', 'zarigüeya', 'conejo',\n",
        "                    'mapache', 'raya', 'carretera', 'cohete', 'rosa', 'mar', 'foca', 'tiburón', 'musaraña', 'mofeta', 'rascacielos', 'caracol', 'serpiente', 'araña', 'ardilla', 'tranvía', 'girasol', 'pimiento_dulce', 'mesa', 'tanque', 'teléfono',\n",
        "                    'televisión', 'tigre', 'tractor', 'tren', 'trucha', 'tulipán', 'tortuga', 'armario', 'ballena', 'sauce', 'lobo', 'mujer', 'gusano']"
      ]
    },
    {
      "cell_type": "code",
      "source": [
        "# Imagina que el modelo predice el número 0\n",
        "numero_predicho = 6\n",
        "\n",
        "# Para mostrar el nombre en español\n",
        "print(\"El objeto es:\", nombresEtiquetas[numero_predicho])\n",
        "# Salida: El objeto es: manzana"
      ],
      "metadata": {
        "colab": {
          "base_uri": "https://localhost:8080/"
        },
        "id": "nn3Fb4tN6OFv",
        "outputId": "7b8c9390-2544-4ba9-9fd7-9ecdc9eaec7f"
      },
      "execution_count": 4,
      "outputs": [
        {
          "output_type": "stream",
          "name": "stdout",
          "text": [
            "El objeto es: abeja\n"
          ]
        }
      ]
    },
    {
      "cell_type": "markdown",
      "source": [
        "Mira tus datos: Comprueba las formas (.shape) y visualiza alguna imagen (plt.imshow).\n",
        "\n",
        "Prepara tus datos: Normaliza las imágenes (/ 255.0) y convierte las etiquetas a one-hot (to_categorical)."
      ],
      "metadata": {
        "id": "X8wzIVUu8mkG"
      }
    },
    {
      "cell_type": "markdown",
      "source": [
        "Ver dimensiones: Añade estas líneas en una nueva celda para ver cuántas imágenes tienes y de qué tamaño son:"
      ],
      "metadata": {
        "id": "_zcwZnGz6r9I"
      }
    },
    {
      "cell_type": "code",
      "source": [
        "print(\"Forma de x_train:\", x_train.shape)\n",
        "# Salida esperada: (50000, 32, 32, 3) -> 50000 imágenes de entrenamiento, 32x32 píxeles, 3 canales de color (RGB)\n",
        "print(\"Forma de y_train:\", y_train.shape)\n",
        "# Salida esperada: (50000, 1) -> 50000 etiquetas (números del 0 al 99)\n",
        "print(\"Número total de categorías:\", len(nombresEtiquetas))\n",
        "# Salida esperada: 100"
      ],
      "metadata": {
        "colab": {
          "base_uri": "https://localhost:8080/"
        },
        "id": "Uo4pBI9P6ri6",
        "outputId": "1769c308-734b-40f1-c862-388eaea4dfae"
      },
      "execution_count": 5,
      "outputs": [
        {
          "output_type": "stream",
          "name": "stdout",
          "text": [
            "Forma de x_train: (50000, 32, 32, 3)\n",
            "Forma de y_train: (50000, 1)\n",
            "Número total de categorías: 100\n"
          ]
        }
      ]
    },
    {
      "cell_type": "markdown",
      "source": [
        "Mostrar una imagen: Añade esto para ver una imagen al azar y su etiqueta en español:"
      ],
      "metadata": {
        "id": "Hu39TXlS6rFK"
      }
    },
    {
      "cell_type": "code",
      "source": [
        "# Genera un índice aleatorio entre 0 y el tamaño del conjunto de entrenamiento menos 1\n",
        "indice_aleatorio = random.randint(0, x_train.shape[0] - 1)\n",
        "\n",
        "# Muestra la imagen en el índice aleatorio generado\n",
        "plt.imshow(x_train[indice_aleatorio])\n",
        "\n",
        "# Establece el título de la imagen con el índice y la etiqueta correspondiente\n",
        "plt.title(f\"Índice: {indice_aleatorio}, Etiqueta: {nombresEtiquetas[y_train[indice_aleatorio][0]]}\")\n",
        "\n",
        "# Muestra la imagen con el título en una ventana gráfica\n",
        "plt.show()"
      ],
      "metadata": {
        "colab": {
          "base_uri": "https://localhost:8080/",
          "height": 455
        },
        "id": "OHcyvsKr7fXn",
        "outputId": "552df59c-ee67-4115-8d3d-2ee38eb88fe2"
      },
      "execution_count": 6,
      "outputs": [
        {
          "output_type": "display_data",
          "data": {
            "text/plain": [
              "<Figure size 640x480 with 1 Axes>"
            ],
            "image/png": "[encoded data removed]"
          },
          "metadata": {}
        }
      ]
    },
    {
      "cell_type": "markdown",
      "source": [
        "Normalizar Píxeles: Las imágenes tienen valores de píxel de 0 a 255. Es mejor que estén entre 0 y 1. Divide x_train y x_test por 255.0:"
      ],
      "metadata": {
        "id": "Lq5yRrWS7teg"
      }
    },
    {
      "cell_type": "code",
      "source": [
        "# Normaliza los valores de x_train dividiendo cada valor por 255.0\n",
        "x_train_norm = x_train / 255.0\n",
        "\n",
        "# Normaliza los valores de x_test dividiendo cada valor por 255.0\n",
        "x_test_norm = x_test / 255.0\n",
        "\n",
        "# (Opcional) Verificar que la normalización funcionó correctamente\n",
        "print(\"Valor máximo después de normalizar:\", x_train_norm.max())  # Imprime el valor máximo de x_train_norm\n",
        "print(\"Valor mínimo después de normalizar:\", x_train_norm.min())  # Imprime el valor mínimo de x_train_norm"
      ],
      "metadata": {
        "colab": {
          "base_uri": "https://localhost:8080/"
        },
        "id": "BLvxyEbw7tQn",
        "outputId": "ac569d3a-b460-4970-86c7-5c8f9b7f5b4b"
      },
      "execution_count": 7,
      "outputs": [
        {
          "output_type": "stream",
          "name": "stdout",
          "text": [
            "Valor máximo después de normalizar: 1.0\n",
            "Valor mínimo después de normalizar: 0.0\n"
          ]
        }
      ]
    },
    {
      "cell_type": "markdown",
      "source": [
        "Convertir Etiquetas (One-Hot Encoding): Las redes de clasificación suelen necesitar que las etiquetas (0-99) se conviertan en vectores donde solo un elemento es 1 y el resto 0 (ej: el número 2 se convierte en [0, 0, 1, 0, ...] si hay muchas clases). Usa to_categorical:"
      ],
      "metadata": {
        "id": "cbxJO1518POt"
      }
    },
    {
      "cell_type": "code",
      "source": [
        "num_classes = 100 # Número total de categorías en CIFAR-100\n",
        "y_train_cat = to_categorical(y_train, num_classes)\n",
        "y_test_cat = to_categorical(y_test, num_classes)\n",
        "\n",
        "# (Opcional) Verificar la nueva forma\n",
        "print(\"Forma de y_train después de to_categorical:\", y_train_cat.shape)\n",
        "# Salida esperada: (50000, 100)\n",
        "print(\"Ejemplo etiqueta 0 después de to_categorical:\", y_train_cat[0])"
      ],
      "metadata": {
        "colab": {
          "base_uri": "https://localhost:8080/"
        },
        "id": "s7mSlT948QJS",
        "outputId": "97d4ff5f-b145-468e-d32e-839bcef02bf0"
      },
      "execution_count": 8,
      "outputs": [
        {
          "output_type": "stream",
          "name": "stdout",
          "text": [
            "Forma de y_train después de to_categorical: (50000, 100)\n",
            "Ejemplo etiqueta 0 después de to_categorical: [0. 0. 0. 0. 0. 0. 0. 0. 0. 0. 0. 0. 0. 0. 0. 0. 0. 0. 0. 1. 0. 0. 0. 0.\n",
            " 0. 0. 0. 0. 0. 0. 0. 0. 0. 0. 0. 0. 0. 0. 0. 0. 0. 0. 0. 0. 0. 0. 0. 0.\n",
            " 0. 0. 0. 0. 0. 0. 0. 0. 0. 0. 0. 0. 0. 0. 0. 0. 0. 0. 0. 0. 0. 0. 0. 0.\n",
            " 0. 0. 0. 0. 0. 0. 0. 0. 0. 0. 0. 0. 0. 0. 0. 0. 0. 0. 0. 0. 0. 0. 0. 0.\n",
            " 0. 0. 0. 0.]\n"
          ]
        }
      ]
    },
    {
      "cell_type": "markdown",
      "source": [
        "1.\tElegir una Red Pre-entrenada: Keras VGG16"
      ],
      "metadata": {
        "id": "oRqOJK2FCel5"
      }
    },
    {
      "cell_type": "code",
      "source": [
        "# Cargar la base convolucional de VGG16 pre-entrenada en ImageNet\n",
        "# sin incluir las capas finales de clasificación (include_top=False)\n",
        "# y especificando la forma de nuestras imágenes CIFAR-100 (input_shape)\n",
        "conv_base = VGG16(weights='imagenet',\n",
        "                  include_top=False,\n",
        "                  input_shape=(32, 32, 3))"
      ],
      "metadata": {
        "colab": {
          "base_uri": "https://localhost:8080/"
        },
        "id": "NIQEe4glB8kh",
        "outputId": "90cf439e-995a-4089-8dc5-903d97c1d65c"
      },
      "execution_count": 9,
      "outputs": [
        {
          "output_type": "stream",
          "name": "stdout",
          "text": [
            "Downloading data from https://storage.googleapis.com/tensorflow/keras-applications/vgg16/vgg16_weights_tf_dim_ordering_tf_kernels_notop.h5\n",
            "\u001b[1m58889256/58889256\u001b[0m \u001b[32m━━━━━━━━━━━━━━━━━━━━\u001b[0m\u001b[37m\u001b[0m \u001b[1m0s\u001b[0m 0us/step\n"
          ]
        }
      ]
    },
    {
      "cell_type": "code",
      "source": [
        "# Bloquear las capas de la base VGG16 para que no se entrenen\n",
        "conv_base.trainable = False"
      ],
      "metadata": {
        "id": "1MyRIVrWN1cS"
      },
      "execution_count": 10,
      "outputs": []
    },
    {
      "cell_type": "markdown",
      "source": [
        "Aplanar (Flatten): La salida de conv_base es un \"mapa\" (tiene alto, ancho, profundidad). Las capas de clasificación (Dense) necesitan una \"fila\" plana de números. Necesitas una capa que haga esa conversión. Pista: Busca la capa Flatten en Keras."
      ],
      "metadata": {
        "id": "a_RI_TmDB8ZM"
      }
    },
    {
      "cell_type": "code",
      "source": [],
      "metadata": {
        "colab": {
          "base_uri": "https://localhost:8080/",
          "height": 176
        },
        "id": "MNpK5BoBW8lB",
        "outputId": "4254cbe4-afbc-43ff-d261-86e0e7d7fe7a"
      },
      "execution_count": 11,
      "outputs": [
        {
          "output_type": "error",
          "ename": "NameError",
          "evalue": "name 'Sequential' is not defined",
          "traceback": [
            "\u001b[0;31m---------------------------------------------------------------------------\u001b[0m",
            "\u001b[0;31mNameError\u001b[0m                                 Traceback (most recent call last)",
            "\u001b[0;32m<ipython-input-11-dbbf7b83c6b9>\u001b[0m in \u001b[0;36m<cell line: 0>\u001b[0;34m()\u001b[0m\n\u001b[1;32m      1\u001b[0m \u001b[0;31m# Crear el modelo secuencial y añadir la base VGG16\u001b[0m\u001b[0;34m\u001b[0m\u001b[0;34m\u001b[0m\u001b[0m\n\u001b[0;32m----> 2\u001b[0;31m \u001b[0mmodel\u001b[0m \u001b[0;34m=\u001b[0m \u001b[0mSequential\u001b[0m\u001b[0;34m(\u001b[0m\u001b[0;34m)\u001b[0m\u001b[0;34m\u001b[0m\u001b[0;34m\u001b[0m\u001b[0m\n\u001b[0m\u001b[1;32m      3\u001b[0m \u001b[0mmodel\u001b[0m\u001b[0;34m.\u001b[0m\u001b[0madd\u001b[0m\u001b[0;34m(\u001b[0m\u001b[0mconv_base\u001b[0m\u001b[0;34m)\u001b[0m\u001b[0;34m\u001b[0m\u001b[0;34m\u001b[0m\u001b[0m\n",
            "\u001b[0;31mNameError\u001b[0m: name 'Sequential' is not defined"
          ]
        }
      ]
    }
  ],
  "metadata": {
    "accelerator": "GPU",
    "colab": {
      "provenance": [],
      "include_colab_link": true
    },
    "gpuClass": "standard",
    "kernelspec": {
      "display_name": "Python 3",
      "name": "python3"
    },
    "language_info": {
      "codemirror_mode": {
        "name": "ipython",
        "version": 3
      },
      "file_extension": ".py",
      "mimetype": "text/x-python",
      "name": "python",
      "nbconvert_exporter": "python",
      "pygments_lexer": "ipython3",
      "version": "3.6.5"
    }
  },
  "nbformat": 4,
  "nbformat_minor": 0
}