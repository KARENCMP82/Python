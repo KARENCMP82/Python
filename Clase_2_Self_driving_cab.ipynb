{
  "nbformat": 4,
  "nbformat_minor": 0,
  "metadata": {
    "colab": {
      "provenance": [],
      "include_colab_link": true
    },
    "kernelspec": {
      "name": "python3",
      "display_name": "Python 3"
    },
    "language_info": {
      "name": "python"
    }
  },
  "cells": [
    {
      "cell_type": "markdown",
      "metadata": {
        "id": "view-in-github",
        "colab_type": "text"
      },
      "source": [
        "<a href=\"https://colab.research.google.com/github/KARENCMP82/Python/blob/main/Clase_2_Self_driving_cab.ipynb\" target=\"_parent\"><img src=\"https://colab.research.google.com/assets/colab-badge.svg\" alt=\"Open In Colab\"/></a>"
      ]
    },
    {
      "cell_type": "markdown",
      "source": [
        "En este notebook veremos un ejemplo sencillo de cómo programar un taxi automático usando técnicas de Reinforcement Learning.\n",
        "\n",
        "Para empezar, instalamos la libreria OpenAI Gym, que nos proporciona todos los elementos que necesitamos (acciones, estados, recompensas)."
      ],
      "metadata": {
        "id": "Yk1vY6L99Wce"
      }
    },
    {
      "cell_type": "code",
      "execution_count": 5,
      "metadata": {
        "id": "stsw5neJZ1Ke",
        "colab": {
          "base_uri": "https://localhost:8080/"
        },
        "outputId": "0b65ce6a-98fc-4329-a27c-05a3056bf84e"
      },
      "outputs": [
        {
          "output_type": "stream",
          "name": "stdout",
          "text": [
            "Requirement already satisfied: cmake in /usr/local/lib/python3.11/dist-packages (3.31.6)\n",
            "Requirement already satisfied: scipy in /usr/local/lib/python3.11/dist-packages (1.15.3)\n",
            "Requirement already satisfied: gym[atari] in /usr/local/lib/python3.11/dist-packages (0.26.2)\n",
            "Requirement already satisfied: numpy>=1.18.0 in /usr/local/lib/python3.11/dist-packages (from gym[atari]) (2.0.2)\n",
            "Requirement already satisfied: cloudpickle>=1.2.0 in /usr/local/lib/python3.11/dist-packages (from gym[atari]) (3.1.1)\n",
            "Requirement already satisfied: gym_notices>=0.0.4 in /usr/local/lib/python3.11/dist-packages (from gym[atari]) (0.0.8)\n",
            "Requirement already satisfied: ale-py~=0.8.0 in /usr/local/lib/python3.11/dist-packages (from gym[atari]) (0.8.1)\n",
            "Requirement already satisfied: importlib-resources in /usr/local/lib/python3.11/dist-packages (from ale-py~=0.8.0->gym[atari]) (6.5.2)\n"
          ]
        }
      ],
      "source": [
        "!pip install cmake 'gym[atari]' scipy"
      ]
    },
    {
      "cell_type": "code",
      "source": [
        "import gym\n",
        "import numpy as np\n",
        "\n",
        "#env = gym.make(\"Taxi-v3\").env\n",
        "\n",
        "# Especifica render_mode=\"ansi\" al crear el entorno\n",
        "env_raw = gym.make(\"Taxi-v3\", render_mode=\"ansi\")\n",
        "env = env_raw.env # Si sigues queriendo el entorno base sin wrappers, aunque para renderizar puede ser mejor usar env_raw"
      ],
      "metadata": {
        "id": "5Pu9Zr2JZ4hV"
      },
      "execution_count": 6,
      "outputs": []
    },
    {
      "cell_type": "code",
      "source": [
        "# Set seed for experiment reproducibility\n",
        "seed = 42\n",
        "# env.seed(seed) # Línea original con error\n",
        "env.reset(seed=seed) # Forma correcta en gym 0.26.x\n",
        "np.random.seed(seed)"
      ],
      "metadata": {
        "id": "KSxgfu5l7ePT"
      },
      "execution_count": 7,
      "outputs": []
    },
    {
      "cell_type": "markdown",
      "source": [
        "Con el método \"render\" podemos visualizar el entorno:"
      ],
      "metadata": {
        "id": "gWw2dFeA-PeS"
      }
    },
    {
      "cell_type": "code",
      "source": [
        "#env.render()\n",
        "\n",
        "# env.render() ahora devuelve una cadena ANSI, así que necesitas imprimirla.\n",
        "rendered_output = env_raw.render() # O env.render()\n",
        "print(rendered_output)"
      ],
      "metadata": {
        "id": "s84LQYUf-N18",
        "colab": {
          "base_uri": "https://localhost:8080/"
        },
        "outputId": "53850285-15ca-4cc1-d286-514d2d47ba87"
      },
      "execution_count": 8,
      "outputs": [
        {
          "output_type": "stream",
          "name": "stdout",
          "text": [
            "+---------+\n",
            "|R: | : :\u001b[34;1mG\u001b[0m|\n",
            "| : | : : |\n",
            "| : : : : |\n",
            "| | : | :\u001b[43m \u001b[0m|\n",
            "|\u001b[35mY\u001b[0m| : |B: |\n",
            "+---------+\n",
            "\n",
            "\n"
          ]
        }
      ]
    },
    {
      "cell_type": "markdown",
      "source": [
        "El rectangulo representa el taxi, y será amarillo cuando esté sin pasajero y verde con pasajero.\n",
        "\n",
        "Las líneas continuas (\"|\") representan paredes, que el taxi no puede cruzar.\n",
        "\n",
        "R, G, Y, B son las posibles posiciones de recogida y destino. La letra azul representa la posición actual de recogida del pasajero y la letra morada es el destino."
      ],
      "metadata": {
        "id": "hHqWwNKnAC8z"
      }
    },
    {
      "cell_type": "markdown",
      "source": [
        "Visualizamos el conjunto de acciones y estados posibles:"
      ],
      "metadata": {
        "id": "wbJSVvYo-ai6"
      }
    },
    {
      "cell_type": "code",
      "source": [
        "print(\"Action Space {}\".format(env.action_space))\n",
        "print(\"State Space {}\".format(env.observation_space))"
      ],
      "metadata": {
        "id": "zjW79WztZ9RS",
        "colab": {
          "base_uri": "https://localhost:8080/"
        },
        "outputId": "78d4ebf3-ed54-476c-990c-e134d2a4cc7c"
      },
      "execution_count": 9,
      "outputs": [
        {
          "output_type": "stream",
          "name": "stdout",
          "text": [
            "Action Space Discrete(6)\n",
            "State Space Discrete(500)\n"
          ]
        }
      ]
    },
    {
      "cell_type": "markdown",
      "source": [
        "Cómo ya hemos visto, tenemos un action space de tamaño 6 y un state space de tamaño 500.\n",
        "\n",
        "Nuestro algoritmo de Reinforcement Learning no necesitará más información que esta.\n",
        "Todo lo que necesitamos es una forma de identificar un estado de manera única, asignando un número único a cada estado posible.\n",
        "\n",
        "Recordemos que los 500 estados corresponden a una codificación de la posición del taxi (5x5), la posición del pasajero (x5) y el destino (x4).\n",
        "\n",
        "Con env.s podemos ver a qué número entre 0 y 499 corresponde el estado actual:"
      ],
      "metadata": {
        "id": "g5SJ7gA4AjwV"
      }
    },
    {
      "cell_type": "code",
      "source": [
        "state = env.s\n",
        "print(\"State:\", state)"
      ],
      "metadata": {
        "id": "RFMpNYGwGOfY",
        "colab": {
          "base_uri": "https://localhost:8080/"
        },
        "outputId": "e5cfa15c-89e9-4a54-c730-1c84c92c2bcb"
      },
      "execution_count": 10,
      "outputs": [
        {
          "output_type": "stream",
          "name": "stdout",
          "text": [
            "State: 386\n"
          ]
        }
      ]
    },
    {
      "cell_type": "code",
      "source": [
        "env.reset()\n",
        "\n",
        "state = env.s\n",
        "print(\"State:\", state)\n",
        "\n",
        "rendered_output = env_raw.render() # O env.render()\n",
        "print(rendered_output)"
      ],
      "metadata": {
        "id": "oSHdM55AG3YL",
        "colab": {
          "base_uri": "https://localhost:8080/"
        },
        "outputId": "2cd3529e-5b84-46a0-8222-a77316ab1844"
      },
      "execution_count": 11,
      "outputs": [
        {
          "output_type": "stream",
          "name": "stdout",
          "text": [
            "State: 214\n",
            "+---------+\n",
            "|R: | : :G|\n",
            "| : | : : |\n",
            "|\u001b[43m \u001b[0m: : : : |\n",
            "| | : | : |\n",
            "|\u001b[35mY\u001b[0m| : |\u001b[34;1mB\u001b[0m: |\n",
            "+---------+\n",
            "\n",
            "\n"
          ]
        }
      ]
    },
    {
      "cell_type": "markdown",
      "source": [
        "De hecho, podemos considerar nuestra ilustración anterior, codificar su estado y dárselo al entorno para que se renderice en Gym.\n",
        "\n",
        "Tenemos el taxi en la fila 3, columna 1, nuestro pasajero está en la posición 2 y nuestro destino es la posición 0."
      ],
      "metadata": {
        "id": "U0LDlOZQHci5"
      }
    },
    {
      "cell_type": "markdown",
      "source": [
        "![image.png](data:image/png;base64,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)"
      ],
      "metadata": {
        "id": "pllRddaQBzuL"
      }
    },
    {
      "cell_type": "markdown",
      "source": [
        "Usando el método de codificación de estado (\"encode\"), podemos hacer lo siguiente:"
      ],
      "metadata": {
        "id": "K2PgqBciB39I"
      }
    },
    {
      "cell_type": "code",
      "source": [
        "env.reset()\n",
        "\n",
        "state = env.encode(3, 1, 2, 0) # (taxi row, taxi column, passenger index, destination index)\n",
        "print(\"State:\", state)\n",
        "\n",
        "env.s = state\n",
        "rendered_output = env_raw.render() # O env.render()\n",
        "print(rendered_output)"
      ],
      "metadata": {
        "id": "Ih3SY1xbaJRC",
        "colab": {
          "base_uri": "https://localhost:8080/"
        },
        "outputId": "5d845bf5-b59a-44e9-96f3-21d5c8ff436b"
      },
      "execution_count": 12,
      "outputs": [
        {
          "output_type": "stream",
          "name": "stdout",
          "text": [
            "State: 328\n",
            "+---------+\n",
            "|R: | : :\u001b[34;1mG\u001b[0m|\n",
            "| : | : : |\n",
            "| : : : : |\n",
            "| | : | : |\n",
            "|Y|\u001b[43m \u001b[0m: |\u001b[35mB\u001b[0m: |\n",
            "+---------+\n",
            "\n",
            "\n"
          ]
        }
      ]
    },
    {
      "cell_type": "markdown",
      "source": [
        "Estamos usando las coordenadas de nuestra imagen para generar un número correspondiente a un estado entre 0 y 499, que resulta ser 328."
      ],
      "metadata": {
        "id": "BrwXrU0fCk6P"
      }
    },
    {
      "cell_type": "markdown",
      "source": [
        "Hemos visto que el action space es el conjunto de acciones posibles (6)."
      ],
      "metadata": {
        "id": "AYpW7_YT6dGn"
      }
    },
    {
      "cell_type": "code",
      "source": [
        "env.action_space"
      ],
      "metadata": {
        "id": "VF4zN5OP6UYC",
        "colab": {
          "base_uri": "https://localhost:8080/"
        },
        "outputId": "a52ba7b7-3217-409e-9db8-caa5b56b6b10"
      },
      "execution_count": 13,
      "outputs": [
        {
          "output_type": "execute_result",
          "data": {
            "text/plain": [
              "Discrete(6)"
            ]
          },
          "metadata": {},
          "execution_count": 13
        }
      ]
    },
    {
      "cell_type": "markdown",
      "source": [
        "El metodo \"sample\" nos devuelve una accion entre las 6 disponibles:\n",
        "\n",
        "0 = sur\n",
        "1 = norte\n",
        "2 = este\n",
        "3 = oeste\n",
        "4 = recoger\n",
        "5 = dejar"
      ],
      "metadata": {
        "id": "Nv4qVLzE6yJT"
      }
    },
    {
      "cell_type": "code",
      "source": [
        "action = env.action_space.sample()\n",
        "#definido ya en openia gim\n",
        "action"
      ],
      "metadata": {
        "id": "4VIgtZgFRA73",
        "colab": {
          "base_uri": "https://localhost:8080/"
        },
        "outputId": "61a88de2-9445-4847-e3ae-65befc80b912"
      },
      "execution_count": 14,
      "outputs": [
        {
          "output_type": "execute_result",
          "data": {
            "text/plain": [
              "0"
            ]
          },
          "metadata": {},
          "execution_count": 14
        }
      ]
    },
    {
      "cell_type": "markdown",
      "source": [
        "# ¡Nos movemos!"
      ],
      "metadata": {
        "id": "43sCPIWgAIBg"
      }
    },
    {
      "cell_type": "markdown",
      "source": [
        "Supongamos que queremos movernos hacia el norte:"
      ],
      "metadata": {
        "id": "dzTSgdx79cyH"
      }
    },
    {
      "cell_type": "code",
      "source": [
        "action = 1"
      ],
      "metadata": {
        "id": "dGZM7MHc9gwW"
      },
      "execution_count": 15,
      "outputs": []
    },
    {
      "cell_type": "markdown",
      "source": [
        "Con \"step\" veremos qué pasa si realizamos la acción elegida:"
      ],
      "metadata": {
        "id": "71IKPz7d6-Mb"
      }
    },
    {
      "cell_type": "code",
      "source": [
        "observation, reward, terminated, truncated, info = env.step(action)\n",
        "done = terminated or truncated # Para mantener la lógica si el resto del código usa 'done'\n",
        "state = observation           # Si el resto de tu código espera la variable 'state'\n"
      ],
      "metadata": {
        "id": "e6hz6bU2Rni3"
      },
      "execution_count": 17,
      "outputs": []
    },
    {
      "cell_type": "code",
      "source": [
        "print(state, reward, done, info)"
      ],
      "metadata": {
        "id": "RwWUjB-5Q20J",
        "colab": {
          "base_uri": "https://localhost:8080/"
        },
        "outputId": "2e32a07f-2db7-4224-d1f3-8fa7a9085bca"
      },
      "execution_count": 18,
      "outputs": [
        {
          "output_type": "stream",
          "name": "stdout",
          "text": [
            "227 -1 False {'prob': 1.0, 'action_mask': array([1, 1, 1, 1, 0, 0], dtype=int8)}\n"
          ]
        }
      ]
    },
    {
      "cell_type": "markdown",
      "source": [
        "1.   El primer elemento es el nuevo estado.\n",
        "\n",
        "2.   El segundo elemento es la recompensa. Todas las acciones de movimiento tienen una recompensa de -1 (es nuestra penalización pequeña por no llegar a destino después de cada movimiento) y las acciones de recoger/dejar tienen una recompensa de -10 en este estado en particular. Si estaramos en un estado donde el taxi tiene un pasajero y está encima del destino correcto, veríamos una recompensa de 20 en la acción \"dejar\".\n",
        "\n",
        "3.   El tercer elemento, en este caso \"False\", nos indica si hemos dejado al pasajero en el destino correcto.\n",
        "\n",
        "4.   El cuarto elemento es la probabilidad, que en este contexto será siempre 1."
      ],
      "metadata": {
        "id": "qpS_zMQS8RW6"
      }
    },
    {
      "cell_type": "markdown",
      "source": [
        "Visualizamos el nuevo estado:"
      ],
      "metadata": {
        "id": "mwWPlrhR9Gi8"
      }
    },
    {
      "cell_type": "code",
      "source": [
        "print(\"State:\", state)\n",
        "\n",
        "env.s = state\n",
        "rendered_output = env_raw.render() # O env.render()\n",
        "print(rendered_output)"
      ],
      "metadata": {
        "id": "E-1XdvSgSBLz",
        "colab": {
          "base_uri": "https://localhost:8080/"
        },
        "outputId": "b18c8c2e-3163-4e5e-9860-75c510464088"
      },
      "execution_count": 19,
      "outputs": [
        {
          "output_type": "stream",
          "name": "stdout",
          "text": [
            "State: 227\n",
            "+---------+\n",
            "|R: | : :\u001b[34;1mG\u001b[0m|\n",
            "| : | : : |\n",
            "| :\u001b[43m \u001b[0m: : : |\n",
            "| | : | : |\n",
            "|Y| : |\u001b[35mB\u001b[0m: |\n",
            "+---------+\n",
            "  (North)\n",
            "\n"
          ]
        }
      ]
    },
    {
      "cell_type": "code",
      "source": [
        "observation, reward, terminated, truncated, info = env.step(action)\n",
        "done = terminated or truncated # Para mantener la lógica si el resto del código usa 'done'\n",
        "state = observation           # Si el resto de tu código espera la variable 'state'\n",
        "\n",
        "print(\"State:\", state)\n",
        "\n",
        "env.s = state\n",
        "rendered_output = env_raw.render() # O env.render()\n",
        "print(rendered_output)"
      ],
      "metadata": {
        "id": "27v1ttp2SgaF",
        "colab": {
          "base_uri": "https://localhost:8080/"
        },
        "outputId": "5735adbf-0900-4561-803b-8be42cc0d20c"
      },
      "execution_count": 20,
      "outputs": [
        {
          "output_type": "stream",
          "name": "stdout",
          "text": [
            "State: 127\n",
            "+---------+\n",
            "|R: | : :\u001b[34;1mG\u001b[0m|\n",
            "| :\u001b[43m \u001b[0m| : : |\n",
            "| : : : : |\n",
            "| | : | : |\n",
            "|Y| : |\u001b[35mB\u001b[0m: |\n",
            "+---------+\n",
            "  (North)\n",
            "\n"
          ]
        }
      ]
    },
    {
      "cell_type": "code",
      "source": [
        "observation, reward, terminated, truncated, info = env.step(action)\n",
        "done = terminated or truncated # Para mantener la lógica si el resto del código usa 'done'\n",
        "state = observation           # Si el resto de tu código espera la variable 'state'\n",
        "print(state, reward, done, info)"
      ],
      "metadata": {
        "colab": {
          "base_uri": "https://localhost:8080/"
        },
        "id": "j1hzNC9ZiKMp",
        "outputId": "2187e5c3-6bb6-409e-877c-41163840d934"
      },
      "execution_count": 21,
      "outputs": [
        {
          "output_type": "stream",
          "name": "stdout",
          "text": [
            "27 -1 False {'prob': 1.0, 'action_mask': array([1, 0, 0, 1, 0, 0], dtype=int8)}\n"
          ]
        }
      ]
    },
    {
      "cell_type": "code",
      "source": [
        "env.s = state\n",
        "rendered_output = env_raw.render() # O env.render()\n",
        "print(rendered_output)"
      ],
      "metadata": {
        "colab": {
          "base_uri": "https://localhost:8080/"
        },
        "id": "zJyrnzOSii_o",
        "outputId": "ebc3e138-f92c-46b5-af85-32c5cc2a690c"
      },
      "execution_count": 22,
      "outputs": [
        {
          "output_type": "stream",
          "name": "stdout",
          "text": [
            "+---------+\n",
            "|R:\u001b[43m \u001b[0m| : :\u001b[34;1mG\u001b[0m|\n",
            "| : | : : |\n",
            "| : : : : |\n",
            "| | : | : |\n",
            "|Y| : |\u001b[35mB\u001b[0m: |\n",
            "+---------+\n",
            "  (North)\n",
            "\n"
          ]
        }
      ]
    },
    {
      "cell_type": "markdown",
      "source": [
        "# Tabla de recompensas"
      ],
      "metadata": {
        "id": "CTNGt-5L_8Yn"
      }
    },
    {
      "cell_type": "markdown",
      "source": [
        "Otro elemento que importamos con el entorno de OpenAI Gym es la tabla de recompensas."
      ],
      "metadata": {
        "id": "__J2rjpNIVyq"
      }
    },
    {
      "cell_type": "markdown",
      "source": [
        "![Imagen1.png](data:image/png;base64,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)"
      ],
      "metadata": {
        "id": "rJTZEoTYLQVO"
      }
    },
    {
      "cell_type": "markdown",
      "source": [
        "La matriz de recompensas iniciales se llama P, y tiene dimensión (500x6).\n",
        "\n",
        "Podemos ver los valores de recompensa predeterminados asignados al estado de nuestra ilustración:"
      ],
      "metadata": {
        "id": "cKPSuxq-MYkC"
      }
    },
    {
      "cell_type": "code",
      "source": [
        "env.P[328]"
      ],
      "metadata": {
        "id": "2b5U8vcC-uEi",
        "colab": {
          "base_uri": "https://localhost:8080/"
        },
        "outputId": "4e04ec7f-5570-405d-c82b-43b24248cda7"
      },
      "execution_count": 23,
      "outputs": [
        {
          "output_type": "execute_result",
          "data": {
            "text/plain": [
              "{0: [(1.0, 428, -1, False)],\n",
              " 1: [(1.0, 228, -1, False)],\n",
              " 2: [(1.0, 348, -1, False)],\n",
              " 3: [(1.0, 328, -1, False)],\n",
              " 4: [(1.0, 328, -10, False)],\n",
              " 5: [(1.0, 328, -10, False)]}"
            ]
          },
          "metadata": {},
          "execution_count": 23
        }
      ]
    },
    {
      "cell_type": "markdown",
      "source": [
        "1.   El primer número corresponde a las acciones: 0 = sur\n",
        "1 = norte\n",
        "2 = este\n",
        "3 = oeste\n",
        "4 = recoger\n",
        "5 = dejar\n",
        "\n",
        "2.   El segundo número corresponde a la probabilidad, que en este caso es siempre 1.\n",
        "\n",
        "3.   El tercer número es el siguiente estado, en el que estaríamos si tomaramos esa acción.\n",
        "\n",
        "4.   El cuarto número es la recompensa. Todas las acciones de movimiento tienen una recompensa de -1 (es nuestra pensalización pequeña por no llegar a destino después de cada movimiento) y las acciones de recoger/dejar tienen una recompensa de -10 en este estado en particular. Si estaramos en un estado donde el taxi tiene un pasajero y está encima del destino correcto, veríamos una recompensa de 20 en la acción \"dejar\".\n",
        "\n",
        "5.  El último elemento, es este caso siempre \"False\", nos indica si hemos dejado al pasajero en el destino correcto."
      ],
      "metadata": {
        "id": "uS6P12_tNTh5"
      }
    },
    {
      "cell_type": "markdown",
      "source": [
        "Vemos que en este caso no hay penalización especial por ir contra la pared (oeste). Simplemente cuenta cómo perder tiempo."
      ],
      "metadata": {
        "id": "lLR02XeiawrR"
      }
    },
    {
      "cell_type": "markdown",
      "source": [
        "Teniendo la tabla de recompensa predeterminadas, podemos evaluar cómo se comporta nuestro taxi.\n",
        "\n",
        "Creamos un agente que realizará 10 acciones (iteraremos sobre la variable timestep, que irá hasta 10); cuando acabe, miramos el total de recompensas/penalizaciones recibidas y si ha sido capaz de recoger al pasajero y dejarlo en su destino.\n",
        "\n"
      ],
      "metadata": {
        "id": "Zv3cBq0JNIPi"
      }
    },
    {
      "cell_type": "code",
      "source": [
        "# Especifica render_mode=\"ansi\" al crear el entorno si no lo has hecho antes\n",
        "# env_raw = gym.make(\"Taxi-v3\", render_mode=\"ansi\")\n",
        "# env = env_raw.env # Asumimos que 'env' ya está definido y reseteado como discutimos antes.\n",
        "\n",
        "# Asegúrate de que env ha sido reseteado para que .s sea válido si lo vas a usar\n",
        "# y para que render funcione.\n",
        "# Por ejemplo: initial_obs, info = env.reset(seed=seed)\n",
        "# env.s = 328 # Establecer 'env.s' directamente puede ser delicado con las nuevas versiones.\n",
        "             # Es mejor resetear a un estado específico usando env.encode() y env.reset()\n",
        "             # o simplemente dejar que env.reset() elija un estado inicial.\n",
        "             # Si vas a usar env.s = 328, asegúrate de que el entorno esté en un\n",
        "             # estado coherente para ello.\n",
        "\n",
        "# Si el objetivo es partir de un estado específico como 328:\n",
        "# Primero, asegúrate de que el entorno puede ser reseteado.\n",
        "# Esto es importante si has estado ejecutando otros bloques de código.\n",
        "obs, info = env.reset() # Reset general\n",
        "state_to_set = 328\n",
        "env.s = state_to_set # Asignar el estado deseado\n",
        "current_observation = state_to_set # Asumimos que la observación es el estado numérico para Taxi-v3\n",
        "\n",
        "timesteps_count, penalties, reward_val = 0, 0, 0 # Renombré las variables para evitar conflicto con el 'reward' del step\n",
        "\n",
        "print(\"Initial state for the loop:\")\n",
        "print(env.render()) # Muestra el estado inicial ANTES del bucle\n",
        "print(f\"env.s: {env.s}\")\n",
        "\n",
        "# El bucle 'for' ya maneja 'timestep' como contador de 0 a 9.\n",
        "# No necesitas una variable 'timestep' separada inicializada a 0 y luego incrementarla.\n",
        "for current_loop_step in range(10): # 'current_loop_step' irá de 0 a 9\n",
        "\n",
        "    action = env.action_space.sample()\n",
        "    observation, reward_val, terminated, truncated, info = env.step(action)\n",
        "    done = terminated or truncated\n",
        "    # 'state' o 'current_observation' se actualiza con 'observation'\n",
        "    current_observation = observation # Actualiza el estado actual para el siguiente bucle o para la Q-table\n",
        "                                      # Si tu lógica depende de una variable llamada 'state', usa 'state = observation'\n",
        "\n",
        "    if reward_val == -10:\n",
        "        penalties += 1\n",
        "\n",
        "    # No necesitas 'timestep += 1' aquí si usas 'current_loop_step' del for.\n",
        "    # 'timesteps_count' podría ser usado si quieres contar explícitamente los pasos.\n",
        "    # Por ejemplo, podrías hacer timesteps_count += 1 aquí si current_loop_step no es lo que quieres reportar.\n",
        "    # Pero si solo quieres saber cuántas iteraciones hizo el bucle, current_loop_step + 1 al final será 10.\n",
        "\n",
        "    print(f\"\\nAfter step {current_loop_step + 1}:\")\n",
        "    print(f\"Action taken: {action}\")\n",
        "    print(f\"New Observation: {observation}, Reward: {reward_val}, Done: {done}\")\n",
        "    print(env.render()) # Muestra el estado después de cada acción\n",
        "\n",
        "# Al final del bucle 'for', current_loop_step habrá sido 9, por lo que se habrán ejecutado 10 pasos.\n",
        "# Si quieres el total de pasos, es simplemente la cantidad de iteraciones del bucle.\n",
        "total_steps_taken_in_loop = 10 # o len(range(10))\n",
        "\n",
        "print(f\"\\nTimesteps taken: {total_steps_taken_in_loop}\") # Reporta el número de iteraciones\n",
        "print(f\"Penalties incurred: {penalties}\")\n",
        "print(\"Final state after 10 steps:\")\n",
        "# env.render() ya se hizo dentro del bucle. Si quieres mostrar el estado final una vez más:\n",
        "print(env.render())"
      ],
      "metadata": {
        "id": "gpmuxX-tODE4",
        "colab": {
          "base_uri": "https://localhost:8080/"
        },
        "outputId": "30334f12-03b1-4ad8-b100-dd03df762c90"
      },
      "execution_count": 24,
      "outputs": [
        {
          "output_type": "stream",
          "name": "stdout",
          "text": [
            "Initial state for the loop:\n",
            "+---------+\n",
            "|R: | : :\u001b[35mG\u001b[0m|\n",
            "| : | : : |\n",
            "| : : : : |\n",
            "| | : | :\u001b[43m \u001b[0m|\n",
            "|\u001b[34;1mY\u001b[0m| : |B: |\n",
            "+---------+\n",
            "\n",
            "\n",
            "env.s: 328\n",
            "\n",
            "After step 1:\n",
            "Action taken: 4\n",
            "New Observation: 389, Reward: -10, Done: False\n",
            "+---------+\n",
            "|R: | : :\u001b[35mG\u001b[0m|\n",
            "| : | : : |\n",
            "| : : : : |\n",
            "| | : | :\u001b[43m \u001b[0m|\n",
            "|\u001b[34;1mY\u001b[0m| : |B: |\n",
            "+---------+\n",
            "  (Pickup)\n",
            "\n",
            "\n",
            "After step 2:\n",
            "Action taken: 4\n",
            "New Observation: 389, Reward: -10, Done: False\n",
            "+---------+\n",
            "|R: | : :\u001b[35mG\u001b[0m|\n",
            "| : | : : |\n",
            "| : : : : |\n",
            "| | : | :\u001b[43m \u001b[0m|\n",
            "|\u001b[34;1mY\u001b[0m| : |B: |\n",
            "+---------+\n",
            "  (Pickup)\n",
            "\n",
            "\n",
            "After step 3:\n",
            "Action taken: 4\n",
            "New Observation: 389, Reward: -10, Done: False\n",
            "+---------+\n",
            "|R: | : :\u001b[35mG\u001b[0m|\n",
            "| : | : : |\n",
            "| : : : : |\n",
            "| | : | :\u001b[43m \u001b[0m|\n",
            "|\u001b[34;1mY\u001b[0m| : |B: |\n",
            "+---------+\n",
            "  (Pickup)\n",
            "\n",
            "\n",
            "After step 4:\n",
            "Action taken: 0\n",
            "New Observation: 489, Reward: -1, Done: False\n",
            "+---------+\n",
            "|R: | : :\u001b[35mG\u001b[0m|\n",
            "| : | : : |\n",
            "| : : : : |\n",
            "| | : | : |\n",
            "|\u001b[34;1mY\u001b[0m| : |B:\u001b[43m \u001b[0m|\n",
            "+---------+\n",
            "  (South)\n",
            "\n",
            "\n",
            "After step 5:\n",
            "Action taken: 1\n",
            "New Observation: 389, Reward: -1, Done: False\n",
            "+---------+\n",
            "|R: | : :\u001b[35mG\u001b[0m|\n",
            "| : | : : |\n",
            "| : : : : |\n",
            "| | : | :\u001b[43m \u001b[0m|\n",
            "|\u001b[34;1mY\u001b[0m| : |B: |\n",
            "+---------+\n",
            "  (North)\n",
            "\n",
            "\n",
            "After step 6:\n",
            "Action taken: 3\n",
            "New Observation: 369, Reward: -1, Done: False\n",
            "+---------+\n",
            "|R: | : :\u001b[35mG\u001b[0m|\n",
            "| : | : : |\n",
            "| : : : : |\n",
            "| | : |\u001b[43m \u001b[0m: |\n",
            "|\u001b[34;1mY\u001b[0m| : |B: |\n",
            "+---------+\n",
            "  (West)\n",
            "\n",
            "\n",
            "After step 7:\n",
            "Action taken: 1\n",
            "New Observation: 269, Reward: -1, Done: False\n",
            "+---------+\n",
            "|R: | : :\u001b[35mG\u001b[0m|\n",
            "| : | : : |\n",
            "| : : :\u001b[43m \u001b[0m: |\n",
            "| | : | : |\n",
            "|\u001b[34;1mY\u001b[0m| : |B: |\n",
            "+---------+\n",
            "  (North)\n",
            "\n",
            "\n",
            "After step 8:\n",
            "Action taken: 5\n",
            "New Observation: 269, Reward: -10, Done: False\n",
            "+---------+\n",
            "|R: | : :\u001b[35mG\u001b[0m|\n",
            "| : | : : |\n",
            "| : : :\u001b[43m \u001b[0m: |\n",
            "| | : | : |\n",
            "|\u001b[34;1mY\u001b[0m| : |B: |\n",
            "+---------+\n",
            "  (Dropoff)\n",
            "\n",
            "\n",
            "After step 9:\n",
            "Action taken: 4\n",
            "New Observation: 269, Reward: -10, Done: False\n",
            "+---------+\n",
            "|R: | : :\u001b[35mG\u001b[0m|\n",
            "| : | : : |\n",
            "| : : :\u001b[43m \u001b[0m: |\n",
            "| | : | : |\n",
            "|\u001b[34;1mY\u001b[0m| : |B: |\n",
            "+---------+\n",
            "  (Pickup)\n",
            "\n",
            "\n",
            "After step 10:\n",
            "Action taken: 4\n",
            "New Observation: 269, Reward: -10, Done: False\n",
            "+---------+\n",
            "|R: | : :\u001b[35mG\u001b[0m|\n",
            "| : | : : |\n",
            "| : : :\u001b[43m \u001b[0m: |\n",
            "| | : | : |\n",
            "|\u001b[34;1mY\u001b[0m| : |B: |\n",
            "+---------+\n",
            "  (Pickup)\n",
            "\n",
            "\n",
            "Timesteps taken: 10\n",
            "Penalties incurred: 6\n",
            "Final state after 10 steps:\n",
            "+---------+\n",
            "|R: | : :\u001b[35mG\u001b[0m|\n",
            "| : | : : |\n",
            "| : : :\u001b[43m \u001b[0m: |\n",
            "| | : | : |\n",
            "|\u001b[34;1mY\u001b[0m| : |B: |\n",
            "+---------+\n",
            "  (Pickup)\n",
            "\n"
          ]
        }
      ]
    },
    {
      "cell_type": "markdown",
      "source": [
        "Cómo era de esperar, el taxi no ha ni siquiera llegado a recoger al pasajero, y ya ha acumulado un número de penalizaciones.\n",
        "\n",
        "Y si quisieramos saber cuanto tiempo tardaría nuestro taxi en cumplir su objetivo?\n",
        "\n",
        "Aquí es dónde aprovecharemos la variable \"done\", que es la que nos dice si hemos dejado al pasajero en el lugar correcto: en este caso, cogerá valor True.\n",
        "\n",
        "Recordemos que esta información nos viene ya con el entorno, así que podemos crear un loop infinito que itere hasta que done = True."
      ],
      "metadata": {
        "id": "Nrymm_LLQzn-"
      }
    },
    {
      "cell_type": "code",
      "source": [
        "# Asumimos que 'env' ya está definido, con render_mode=\"ansi\", y reseteado.\n",
        "# Por ejemplo:\n",
        "# import gym\n",
        "# env_raw = gym.make(\"Taxi-v3\", render_mode=\"ansi\")\n",
        "# env = env_raw.env # o simplemente usa env_raw\n",
        "# obs_info_tuple = env.reset(seed=42) # Gym 0.26+ reset puede devolver una tupla (obs, info)\n",
        "# current_observation = obs_info_tuple[0] if isinstance(obs_info_tuple, tuple) else obs_info_tuple\n",
        "\n",
        "\n",
        "# Si quieres empezar desde el estado 328 específicamente:\n",
        "# (Asegúrate que env ya está creado y reseteado una vez antes de esto)\n",
        "# obs_info_tuple = env.reset() # Reset general\n",
        "# state_to_set = 328\n",
        "# env.s = state_to_set # Asignar el estado deseado\n",
        "# current_observation = state_to_set # Asumimos que la observación es el estado numérico para Taxi-v3\n",
        "# print(\"Initial state for the loop (env.s = 328):\")\n",
        "# print(env.render())\n",
        "\n",
        "# O, si simplemente quieres que el bucle comience desde un estado aleatorio (más común para entrenar/evaluar)\n",
        "# current_observation_tuple = env.reset() # Reset al inicio del experimento\n",
        "# current_observation = current_observation_tuple[0] if isinstance(current_observation_tuple, tuple) else current_observation_tuple\n",
        "# print(\"Initial state for the loop (random reset):\")\n",
        "# print(env.render())\n",
        "\n",
        "# Para el bucle while, necesitas inicializar el estado antes del bucle\n",
        "# y asegurarte de que 'env' esté correctamente inicializado.\n",
        "# Si env.s = 328 fue la última operación y es válida, entonces el estado actual es 328.\n",
        "\n",
        "# ----- INICIO DE TU BLOQUE DE CÓDIGO MODIFICADO -----\n",
        "# env.s = 328 # Si quieres forzar este estado inicial.\n",
        "             # Ten en cuenta que un reset previo es buena práctica.\n",
        "             # Si este es el primer bloque que se ejecuta con 'env',\n",
        "             # 'env.s = 328' podría funcionar, pero resetear es más seguro.\n",
        "\n",
        "# Para que el bucle funcione correctamente, 'state' (o como lo llames)\n",
        "# debe tener un valor inicial. Si acabas de hacer env.s = 328,\n",
        "# el estado actual del entorno es 328.\n",
        "# Si no, necesitas un env.reset() aquí.\n",
        "# Asumamos que env.s = 328 es válido y queremos partir de ahí, o que env.reset()\n",
        "# ya ha sido llamado y 'state' (o 'current_observation') está inicializado.\n",
        "\n",
        "# Si el estado actual es manejado por env.s, entonces el 'state' para el primer\n",
        "# np.argmax(q_table[state]) (en el código de Q-learning) o para la lógica del bucle\n",
        "# debería ser env.s\n",
        "current_state = env.s # Obtener el estado actual del entorno\n",
        "\n",
        "timesteps_count, penalties, reward_val = 0, 0, 0 # Renombré las variables\n",
        "# 'done' ya estaba inicializada a False antes del bucle en tu código original,\n",
        "# lo cual es correcto para un bucle 'while not done'.\n",
        "done_flag = False # Renombré para claridad, tu 'done = False' estaba bien.\n",
        "\n",
        "while not done_flag: # itera hasta que done_flag = True\n",
        "\n",
        "    action = env.action_space.sample()\n",
        "\n",
        "    # ----- LÍNEA PROBLEMÁTICA Y SU CORRECCIÓN -----\n",
        "    # ORIGINAL:\n",
        "    # state, reward, done, info = env.step(action)\n",
        "\n",
        "    # CORREGIDO:\n",
        "    observation, reward_val, terminated, truncated, info = env.step(action)\n",
        "    done_flag = terminated or truncated # Actualiza la condición del bucle\n",
        "    current_state = observation         # Actualiza el estado para la siguiente iteración\n",
        "    # ----- FIN DE LA CORRECCIÓN DE LA LÍNEA -----\n",
        "\n",
        "    if reward_val == -10:\n",
        "        penalties += 1\n",
        "\n",
        "    timesteps_count += 1\n",
        "\n",
        "    # Opcional: imprimir el estado en cada paso para depuración\n",
        "    # print(f\"Timestep: {timesteps_count}, Action: {action}, New State: {current_state}, Reward: {reward_val}, Done: {done_flag}\")\n",
        "    # print(env.render())\n",
        "    # if timesteps_count > 3000: # Agrega un límite para evitar bucles infinitos durante la prueba\n",
        "    #     print(\"Exceeded 3000 timesteps, breaking loop.\")\n",
        "    #     break\n",
        "\n",
        "print(f\"Timesteps taken: {timesteps_count}\")\n",
        "print(f\"Penalties incurred: {penalties}\")\n",
        "print(\"Final state:\")\n",
        "print(env.render()) # Asegúrate que env.render() se llama después de que el bucle ha terminado."
      ],
      "metadata": {
        "id": "tCQa1T70PD5o",
        "colab": {
          "base_uri": "https://localhost:8080/"
        },
        "outputId": "16299f35-ec05-47cc-b04b-65e0d0b0350f"
      },
      "execution_count": 25,
      "outputs": [
        {
          "output_type": "stream",
          "name": "stdout",
          "text": [
            "Timesteps taken: 1487\n",
            "Penalties incurred: 491\n",
            "Final state:\n",
            "+---------+\n",
            "|R: | : :\u001b[35m\u001b[34;1m\u001b[43mG\u001b[0m\u001b[0m\u001b[0m|\n",
            "| : | : : |\n",
            "| : : : : |\n",
            "| | : | : |\n",
            "|Y| : |B: |\n",
            "+---------+\n",
            "  (Dropoff)\n",
            "\n"
          ]
        }
      ]
    },
    {
      "cell_type": "markdown",
      "source": [
        "Si queremos, podemos visualizar el recorrido de nuestro taxi.\n",
        "\n",
        "Para ello, primero guardamos cada frame en un diccionario:"
      ],
      "metadata": {
        "id": "CGFzdm6IR-8I"
      }
    },
    {
      "cell_type": "code",
      "source": [
        "import gym\n",
        "import numpy as np # Asegúrate de que numpy está importado si lo necesitas en otro lado\n",
        "\n",
        "# --- Asumimos configuración previa de 'env' ---\n",
        "# Ejemplo de cómo podría estar configurado 'env' antes de este bloque:\n",
        "# env_raw = gym.make(\"Taxi-v3\", render_mode=\"ansi\")\n",
        "# env = env_raw # o env_raw.env, dependiendo de tu preferencia\n",
        "#\n",
        "# Para empezar desde un estado específico como 328:\n",
        "# obs_info_tuple = env.reset() # Es buena práctica resetear primero\n",
        "# state_to_set = 328\n",
        "# env.s = state_to_set # Establece el estado deseado\n",
        "# current_observation_for_loop = state_to_set\n",
        "#\n",
        "# O si quieres un estado aleatorio al inicio de esta prueba específica:\n",
        "# reset_output = env.reset(seed=42) # Pasa la semilla aquí si es necesario para esta prueba\n",
        "# current_observation_for_loop = reset_output[0] if isinstance(reset_output, tuple) else reset_output\n",
        "# ---------------------------------------------\n",
        "\n",
        "frames = [] # for animation\n",
        "\n",
        "# Si quieres estar absolutamente seguro de que partes de 328 para ESTE bloque:\n",
        "# (Esto podría sobrescribir un reset anterior si este bloque se ejecuta múltiples veces)\n",
        "# Es importante que 'env' ya esté creado con gym.make(\"Taxi-v3\", render_mode=\"ansi\")\n",
        "env.s = 328\n",
        "# El estado actual para la lógica del bucle (si lo necesitaras antes del primer step,\n",
        "# aunque aquí se obtiene directamente del step) podría ser env.s\n",
        "# current_state_for_logic = env.s\n",
        "\n",
        "timesteps_count, penalties_count, reward_value = 0, 0, 0 # Renombrar para evitar colisiones de nombres\n",
        "\n",
        "done_flag = False # Esta es la variable que controlará el bucle\n",
        "\n",
        "while not done_flag: # itera hasta que done_flag = True\n",
        "\n",
        "    action = env.action_space.sample()\n",
        "\n",
        "    # ----- LÍNEA PROBLEMÁTICA Y SU CORRECCIÓN -----\n",
        "    # ORIGINAL:\n",
        "    # state, reward, done, info = env.step(action)\n",
        "\n",
        "    # CORREGIDO:\n",
        "    observation, reward_value, terminated, truncated, info = env.step(action)\n",
        "    done_flag = terminated or truncated # Actualiza la condición del bucle\n",
        "    current_state_after_step = observation # Este es el nuevo estado\n",
        "    # ----- FIN DE LA CORRECCIÓN DE LA LÍNEA -----\n",
        "\n",
        "    if reward_value == -10:\n",
        "        penalties_count += 1\n",
        "\n",
        "    timesteps_count += 1\n",
        "\n",
        "    # Put each rendered frame into dict for animation\n",
        "    # Nota: env.render() con mode=\"ansi\" ya fue configurado en gym.make.\n",
        "    # Pasar mode='ansi' aquí de nuevo es redundante pero no dañino para 'ansi'.\n",
        "    # Si el render_mode no fuera 'ansi' por defecto, aquí SÍ necesitarías especificarlo.\n",
        "    # Dado que ya hicimos gym.make(\"Taxi-v3\", render_mode=\"ansi\"), podemos simplificar:\n",
        "    frames.append({\n",
        "        'frame': env.render(), # Llama a render directamente.\n",
        "        'state': current_state_after_step, # Usa el estado obtenido del step\n",
        "        'action': action,\n",
        "        'reward': reward_value # Usa la recompensa obtenida del step\n",
        "        }\n",
        "    )\n",
        "\n",
        "print(f\"Timesteps taken: {timesteps_count}\")\n",
        "print(f\"Penalties incurred: {penalties_count}\")\n",
        "\n",
        "# Para visualizar los frames, la función print_frames que tienes después debería funcionar\n",
        "# asumiendo que está definida correctamente.\n",
        "# from IPython.display import clear_output\n",
        "# from time import sleep\n",
        "\n",
        "# def print_frames(frames_list):\n",
        "#     for i, frame_data in enumerate(frames_list):\n",
        "#         clear_output(wait=True)\n",
        "#         print(frame_data['frame']) # 'frame' ya es la cadena ANSI renderizada\n",
        "#         print(f\"Timestep: {i + 1}\") # o timesteps_count si el bucle paró antes, pero i+1 es más directo para el frame\n",
        "#         print(f\"State: {frame_data['state']}\")\n",
        "#         print(f\"Action: {frame_data['action']}\")\n",
        "#         print(f\"Reward: {frame_data['reward']}\")\n",
        "#         sleep(.1) # Ajusta la velocidad\n",
        "\n",
        "# print_frames(frames)"
      ],
      "metadata": {
        "id": "oD4PQlu-K96S",
        "colab": {
          "base_uri": "https://localhost:8080/"
        },
        "outputId": "3f5f0321-5adf-4fb6-8a93-0848c0af64e5"
      },
      "execution_count": 26,
      "outputs": [
        {
          "output_type": "stream",
          "name": "stdout",
          "text": [
            "Timesteps taken: 105\n",
            "Penalties incurred: 40\n"
          ]
        }
      ]
    },
    {
      "cell_type": "markdown",
      "source": [
        "Y luego creamos una función que nos visualice cada frame y toda la info adicional que hemos guardado en el diccionario:"
      ],
      "metadata": {
        "id": "mVMGQZH8FaQp"
      }
    },
    {
      "cell_type": "code",
      "source": [
        "from IPython.display import clear_output\n",
        "from time import sleep\n",
        "\n",
        "def print_frames(frames):\n",
        "    for i, frame in enumerate(frames):\n",
        "        clear_output(wait=True)\n",
        "        print(frame['frame'])\n",
        "        print(f\"Timestep: {i + 1}\")\n",
        "        print(f\"State: {frame['state']}\")\n",
        "        print(f\"Action: {frame['action']}\")\n",
        "        print(f\"Reward: {frame['reward']}\")\n",
        "        sleep(.1)\n",
        "\n",
        "print_frames(frames)"
      ],
      "metadata": {
        "id": "OfCzHYe1EnkP",
        "colab": {
          "base_uri": "https://localhost:8080/"
        },
        "outputId": "a0f444b4-b2a1-4484-ea11-e13c0ba2b844"
      },
      "execution_count": 27,
      "outputs": [
        {
          "output_type": "stream",
          "name": "stdout",
          "text": [
            "+---------+\n",
            "|R: | : :\u001b[35m\u001b[34;1m\u001b[43mG\u001b[0m\u001b[0m\u001b[0m|\n",
            "| : | : : |\n",
            "| : : : : |\n",
            "| | : | : |\n",
            "|Y| : |B: |\n",
            "+---------+\n",
            "  (Dropoff)\n",
            "\n",
            "Timestep: 105\n",
            "State: 85\n",
            "Action: 5\n",
            "Reward: 20\n"
          ]
        }
      ]
    },
    {
      "cell_type": "markdown",
      "source": [
        "Nuestro agente tarda muchísimo tiempo en recoger y llevar a un pasajero, además acumulando muchas penalizaciones.\n",
        "\n",
        "Esto es porque el agente no está aprendiendo de sus errores: en cada momento toma una acción y recibe una recompensa o penalización, pero no tiene memoria de si esa acción fue optima en ese determinado estado.\n",
        "\n",
        "Aprender de la experiencia es exactamente el objetivo del Reinforcement Learning."
      ],
      "metadata": {
        "id": "2i68W-viUkZ_"
      }
    },
    {
      "cell_type": "markdown",
      "source": [
        "# Q-learning"
      ],
      "metadata": {
        "id": "GLbtcJKoV0ex"
      }
    },
    {
      "cell_type": "markdown",
      "source": [
        "El algoritmo Q-learning se encargará de crear la \"memoria\" de nuestro agente.\n",
        "El taxi aprenderá cuál es la acción optima en cada estado, para llegar a conseguir su objetivo en el menor tiempo posible.\n",
        "\n",
        "Para ello, necesitaremos una tabla parecida a la tabla de recompensas, que se llama Q-table."
      ],
      "metadata": {
        "id": "RMmUH6DVV-ms"
      }
    },
    {
      "cell_type": "markdown",
      "source": [
        "![image.png](data:image/png;base64,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)"
      ],
      "metadata": {
        "id": "lpTFihnBXLg8"
      }
    },
    {
      "cell_type": "markdown",
      "source": [
        "La tabla Q tiene las mismas dimensiones que la tabla de recompensas, pero se inicializa a 0."
      ],
      "metadata": {
        "id": "EI_MxBfhXOUi"
      }
    },
    {
      "cell_type": "code",
      "source": [
        "q_table = np.zeros([env.observation_space.n, env.action_space.n])"
      ],
      "metadata": {
        "id": "hz3S9VhHP788"
      },
      "execution_count": 28,
      "outputs": []
    },
    {
      "cell_type": "code",
      "source": [
        "q_table[328]"
      ],
      "metadata": {
        "id": "-1gch1VnR5bz",
        "colab": {
          "base_uri": "https://localhost:8080/"
        },
        "outputId": "04dc637f-2a82-4e51-8c7d-1792d585346f"
      },
      "execution_count": 29,
      "outputs": [
        {
          "output_type": "execute_result",
          "data": {
            "text/plain": [
              "array([0., 0., 0., 0., 0., 0.])"
            ]
          },
          "metadata": {},
          "execution_count": 29
        }
      ]
    },
    {
      "cell_type": "markdown",
      "source": [
        "Definimos la greedy policy, de manera muy parecida a lo que hicimos para el k-bandit:"
      ],
      "metadata": {
        "id": "gfwAtFTCS7Ty"
      }
    },
    {
      "cell_type": "code",
      "source": [
        "#trade-off entre explorar y explotar\n",
        "def greedy(epsilon,q_table,state,env):\n",
        "    if rd.random() < epsilon:\n",
        "        action=env.action_space.sample() #explorar\n",
        "    else:\n",
        "        action=np.argmax(q_table[state]) #explotar\n",
        "    return action"
      ],
      "metadata": {
        "id": "xUxzYP07RFiE"
      },
      "execution_count": 30,
      "outputs": []
    },
    {
      "cell_type": "markdown",
      "source": [
        "Entrenamos nuestro agente con 10000 \"episodes\". Un episodio empieza con un nuevo pasajero y termina cuando el pasajero llega a su destino."
      ],
      "metadata": {
        "id": "85k9VUlCVGRE"
      }
    },
    {
      "cell_type": "code",
      "source": [
        "import random as rd\n",
        "from IPython.display import clear_output\n",
        "import numpy as np # Asegúrate de que numpy está importado\n",
        "\n",
        "# Asumimos que 'env' y 'q_table' ya están definidos y 'greedy' está definida como:\n",
        "# def greedy(epsilon, q_table, current_s, environment): # Cambié 'state' a 'current_s' para evitar confusión\n",
        "#     if rd.random() < epsilon:\n",
        "#         action = environment.action_space.sample() # explorar\n",
        "#     else:\n",
        "#         action = np.argmax(q_table[current_s]) # explotar # 'current_s' debe ser un entero\n",
        "#     return action\n",
        "\n",
        "# --- INICIO DEL BLOQUE DE ENTRENAMIENTO CORREGIDO ---\n",
        "# Hyperparameters\n",
        "alpha = 0.1 # tasa de aprendizaje\n",
        "gamma = 0.6 # tasa de descuento\n",
        "epsilon = 0.2 # greedy policy\n",
        "\n",
        "episodes = 100001 # El notebook original tenía 100001, lo mantengo\n",
        "\n",
        "# Re-inicializa q_table si es necesario (o asegúrate de que está en el estado deseado)\n",
        "# q_table = np.zeros([env.observation_space.n, env.action_space.n])\n",
        "\n",
        "for i in range(episodes):\n",
        "    # CORRECCIÓN 1: env.reset() devuelve (observation, info)\n",
        "    # Necesitamos solo la observación como el estado.\n",
        "    current_state, info = env.reset() # Desempaqueta la tupla\n",
        "                                      # 'current_state' ahora es el entero de estado\n",
        "\n",
        "    timesteps_count, penalties_count, episode_reward_sum = 0, 0, 0 # Renombré variables para claridad\n",
        "    done_flag = False # Renombré 'done' para evitar conflicto con el 'done' de env.step\n",
        "\n",
        "    while not done_flag:\n",
        "        # 'current_state' es un entero, por lo que q_table[current_state] es válido\n",
        "        action = greedy(epsilon, q_table, current_state, env)\n",
        "\n",
        "        # CORRECCIÓN 2: env.step() devuelve (observation, reward, terminated, truncated, info)\n",
        "        next_obs, reward_value, terminated, truncated, step_info = env.step(action)\n",
        "        done_flag = terminated or truncated # 'done' es True si el episodio termina por cualquier razón\n",
        "\n",
        "        # Acceso a la Q-table (esto debería estar bien ahora)\n",
        "        old_value = q_table[current_state, action]\n",
        "        # 'next_obs' es el entero para el siguiente estado\n",
        "        next_max = np.max(q_table[next_obs])\n",
        "\n",
        "        # Actualización de la Q-table\n",
        "        new_value = (1 - alpha) * old_value + alpha * (reward_value + gamma * next_max)\n",
        "        q_table[current_state, action] = new_value\n",
        "\n",
        "        if reward_value == -10: # Usar 'reward_value' del step\n",
        "            penalties_count += 1\n",
        "\n",
        "        current_state = next_obs # Actualizar el estado para la siguiente iteración\n",
        "        timesteps_count += 1\n",
        "\n",
        "    if i % 100 == 0: # Imprimir progreso cada 100 episodios\n",
        "        clear_output(wait=True)\n",
        "        print(f\"Episode: {i}\")\n",
        "        # Podrías añadir más métricas aquí si quieres, como penalties_count promedio, etc.\n",
        "\n",
        "print(\"Training finished.\\n\")\n",
        "# --- FIN DEL BLOQUE DE ENTRENAMIENTO CORREGIDO ---\n",
        "\n",
        "# Para que la función greedy funcione como se espera con estos cambios:\n",
        "def greedy(epsilon_val, q_values_table, current_s, environment_instance):\n",
        "    if rd.random() < epsilon_val:\n",
        "        action_choice = environment_instance.action_space.sample() # explorar\n",
        "    else:\n",
        "        action_choice = np.argmax(q_values_table[current_s]) # explotar\n",
        "    return action_choice"
      ],
      "metadata": {
        "id": "4KvSa1hdRbkv",
        "colab": {
          "base_uri": "https://localhost:8080/"
        },
        "outputId": "ae7ba9ce-06ea-4049-8324-456fec1c20d7"
      },
      "execution_count": 32,
      "outputs": [
        {
          "output_type": "stream",
          "name": "stdout",
          "text": [
            "Episode: 100000\n",
            "Training finished.\n",
            "\n"
          ]
        }
      ]
    },
    {
      "cell_type": "code",
      "source": [
        "q_table[328]"
      ],
      "metadata": {
        "id": "Os51zWJ8Sxda"
      },
      "execution_count": null,
      "outputs": []
    },
    {
      "cell_type": "markdown",
      "source": [
        " Ahora que hemos actualizado la Q-table, podemos ver cómo se comporta nuestro agente según lo que ha aprendido.\n",
        "\n",
        " Ya no necesitamos explorar, así que cambiamos la greedy policy: la acción elegida será siempre la que tiene mayor Q-value.\n"
      ],
      "metadata": {
        "id": "8WSsjDKjUWSG"
      }
    },
    {
      "cell_type": "code",
      "source": [
        "# Asumimos que 'env' y 'q_table' ya están definidos y 'q_table' ha sido entrenada.\n",
        "\n",
        "total_timesteps_eval, total_penalties_eval = 0, 0 # Renombré para evitar confusión si se ejecuta después del entrenamiento\n",
        "num_episodes_eval = 100 # Renombré la variable de episodios\n",
        "\n",
        "for i in range(num_episodes_eval):\n",
        "    # CORRECCIÓN 1: env.reset() devuelve (observation, info)\n",
        "    current_state, info = env.reset() # Desempaquetar, 'current_state' es el entero\n",
        "\n",
        "    timesteps_episode, penalties_episode = 0, 0 # Recompensas no se acumulan, solo se usan para penalizaciones\n",
        "    done_flag = False\n",
        "\n",
        "    while not done_flag:\n",
        "        # 'current_state' es ahora un entero, así que q_table[current_state] es válido\n",
        "        action = np.argmax(q_table[current_state])\n",
        "\n",
        "        # CORRECCIÓN 2: env.step() devuelve 5 valores\n",
        "        next_observation, reward_value, terminated, truncated, step_info = env.step(action)\n",
        "        done_flag = terminated or truncated # Actualizar la condición de finalización\n",
        "\n",
        "        if reward_value == -10:\n",
        "            penalties_episode += 1\n",
        "\n",
        "        current_state = next_observation # Actualizar el estado para la siguiente iteración\n",
        "        timesteps_episode += 1\n",
        "\n",
        "    total_penalties_eval += penalties_episode\n",
        "    total_timesteps_eval += timesteps_episode\n",
        "\n",
        "print(f\"Results after {num_episodes_eval} episodes:\")\n",
        "print(f\"Average timesteps per episode: {total_timesteps_eval / num_episodes_eval}\")\n",
        "print(f\"Average penalties per episode: {total_penalties_eval / num_episodes_eval}\")"
      ],
      "metadata": {
        "id": "0oAmYvSCUnbk",
        "colab": {
          "base_uri": "https://localhost:8080/"
        },
        "outputId": "7a084193-87cc-42ab-f199-4c8ea53069ce"
      },
      "execution_count": 34,
      "outputs": [
        {
          "output_type": "stream",
          "name": "stdout",
          "text": [
            "Results after 100 episodes:\n",
            "Average timesteps per episode: 13.1\n",
            "Average penalties per episode: 0.0\n"
          ]
        }
      ]
    },
    {
      "cell_type": "markdown",
      "source": [
        "Si comparamos estos resultados con los de nuestro agente que no aprendía de la tabla Q:\n"
      ],
      "metadata": {
        "id": "WYrp_dHkVwQO"
      }
    },
    {
      "cell_type": "code",
      "source": [
        "import numpy as np # Aunque no se usa directamente aquí, es buena práctica tenerlo si gym está involucrado\n",
        "\n",
        "# Asumimos que 'env' ya está definido.\n",
        "\n",
        "total_timesteps_random, total_penalties_random = 0, 0\n",
        "num_episodes_random = 100 # Renombré la variable de episodios\n",
        "\n",
        "for i in range(num_episodes_random):\n",
        "    # CORRECCIÓN 1: env.reset() devuelve (observation, info)\n",
        "    current_state, info = env.reset() # Desempaquetar, 'current_state' es el entero\n",
        "                                      # (Aunque para un agente aleatorio, el estado no se usa para decidir la acción)\n",
        "\n",
        "    timesteps_episode, penalties_episode = 0, 0\n",
        "    # 'reward' del step se usará directamente, no necesitamos inicializarla aquí\n",
        "    done_flag = False\n",
        "\n",
        "    while not done_flag:\n",
        "        action = env.action_space.sample() # La acción es aleatoria\n",
        "\n",
        "        # CORRECCIÓN 2: env.step() devuelve 5 valores\n",
        "        next_observation, reward_value, terminated, truncated, step_info = env.step(action)\n",
        "        done_flag = terminated or truncated # Actualizar la condición de finalización\n",
        "\n",
        "        if reward_value == -10:\n",
        "            penalties_episode += 1\n",
        "\n",
        "        # No necesitamos 'current_state = next_observation' para la lógica de acción aleatoria,\n",
        "        # pero es bueno mantenerlo si alguna vez se quiere registrar el estado.\n",
        "        current_state = next_observation\n",
        "        timesteps_episode += 1\n",
        "\n",
        "    total_penalties_random += penalties_episode\n",
        "    total_timesteps_random += timesteps_episode\n",
        "\n",
        "print(f\"Results after {num_episodes_random} episodes (Random Agent):\")\n",
        "print(f\"Average timesteps per episode: {total_timesteps_random / num_episodes_random}\")\n",
        "print(f\"Average penalties per episode: {total_penalties_random / num_episodes_random}\")"
      ],
      "metadata": {
        "id": "yaGI-8iTWhA3",
        "colab": {
          "base_uri": "https://localhost:8080/"
        },
        "outputId": "24d0c3f2-5fe0-4345-d7c5-3af6c2aaae55"
      },
      "execution_count": 36,
      "outputs": [
        {
          "output_type": "stream",
          "name": "stdout",
          "text": [
            "Results after 100 episodes (Random Agent):\n",
            "Average timesteps per episode: 2522.87\n",
            "Average penalties per episode: 814.41\n"
          ]
        }
      ]
    },
    {
      "cell_type": "markdown",
      "source": [
        "Una encuesta de Nature de 2016 indicó que más del 70% de los investigadores han intentado y no han podido reproducir los experimentos de otro científico, y más de la mitad no han podido reproducir sus propios experimentos.\n",
        "\n",
        "OpenAI se creó para eliminar este problema de falta de estandarización, junto con el objetivo de crear mejores puntos de referencia al ofrecer un número versátil de entornos con una gran facilidad de configuración.\n",
        "\n",
        "El objetivo de esta herramienta es aumentar la reproducibilidad en el campo de la IA y proporcionar herramientas con las que todos puedan aprender los conceptos básicos de la IA."
      ],
      "metadata": {
        "id": "Fea8ahy2AUJd"
      }
    },
    {
      "cell_type": "code",
      "source": [
        "# Opción 1: Obtener solo los IDs (nombres)\n",
        "registered_envs_ids = list(gym.envs.registry.keys())\n",
        "print(registered_envs_ids)\n",
        "\n",
        "# Opción 2: Obtener los objetos EnvSpec (más parecido al .all() original en términos de datos)\n",
        "# all_env_specs = list(gym.envs.registry.values())\n",
        "# print(all_env_specs)"
      ],
      "metadata": {
        "colab": {
          "base_uri": "https://localhost:8080/"
        },
        "id": "h0xcwHwg5Wcw",
        "outputId": "4b1570a9-3635-4b09-868d-65f6ca957d50"
      },
      "execution_count": 41,
      "outputs": [
        {
          "output_type": "stream",
          "name": "stdout",
          "text": [
            "['ALE/Adventure-v5', 'ALE/Adventure-ram-v5', 'ALE/AirRaid-v5', 'ALE/AirRaid-ram-v5', 'ALE/Alien-v5', 'ALE/Alien-ram-v5', 'ALE/Amidar-v5', 'ALE/Amidar-ram-v5', 'ALE/Assault-v5', 'ALE/Assault-ram-v5', 'ALE/Asterix-v5', 'ALE/Asterix-ram-v5', 'ALE/Asteroids-v5', 'ALE/Asteroids-ram-v5', 'ALE/Atlantis-v5', 'ALE/Atlantis-ram-v5', 'ALE/Atlantis2-v5', 'ALE/Atlantis2-ram-v5', 'ALE/Backgammon-v5', 'ALE/Backgammon-ram-v5', 'ALE/BankHeist-v5', 'ALE/BankHeist-ram-v5', 'ALE/BasicMath-v5', 'ALE/BasicMath-ram-v5', 'ALE/BattleZone-v5', 'ALE/BattleZone-ram-v5', 'ALE/BeamRider-v5', 'ALE/BeamRider-ram-v5', 'ALE/Berzerk-v5', 'ALE/Berzerk-ram-v5', 'ALE/Blackjack-v5', 'ALE/Blackjack-ram-v5', 'ALE/Bowling-v5', 'ALE/Bowling-ram-v5', 'ALE/Boxing-v5', 'ALE/Boxing-ram-v5', 'ALE/Breakout-v5', 'ALE/Breakout-ram-v5', 'ALE/Carnival-v5', 'ALE/Carnival-ram-v5', 'ALE/Casino-v5', 'ALE/Casino-ram-v5', 'ALE/Centipede-v5', 'ALE/Centipede-ram-v5', 'ALE/ChopperCommand-v5', 'ALE/ChopperCommand-ram-v5', 'ALE/CrazyClimber-v5', 'ALE/CrazyClimber-ram-v5', 'ALE/Crossbow-v5', 'ALE/Crossbow-ram-v5', 'ALE/Darkchambers-v5', 'ALE/Darkchambers-ram-v5', 'ALE/Defender-v5', 'ALE/Defender-ram-v5', 'ALE/DemonAttack-v5', 'ALE/DemonAttack-ram-v5', 'ALE/DonkeyKong-v5', 'ALE/DonkeyKong-ram-v5', 'ALE/DoubleDunk-v5', 'ALE/DoubleDunk-ram-v5', 'ALE/Earthworld-v5', 'ALE/Earthworld-ram-v5', 'ALE/ElevatorAction-v5', 'ALE/ElevatorAction-ram-v5', 'ALE/Enduro-v5', 'ALE/Enduro-ram-v5', 'ALE/Entombed-v5', 'ALE/Entombed-ram-v5', 'ALE/Et-v5', 'ALE/Et-ram-v5', 'ALE/FishingDerby-v5', 'ALE/FishingDerby-ram-v5', 'ALE/FlagCapture-v5', 'ALE/FlagCapture-ram-v5', 'ALE/Freeway-v5', 'ALE/Freeway-ram-v5', 'ALE/Frogger-v5', 'ALE/Frogger-ram-v5', 'ALE/Frostbite-v5', 'ALE/Frostbite-ram-v5', 'ALE/Galaxian-v5', 'ALE/Galaxian-ram-v5', 'ALE/Gopher-v5', 'ALE/Gopher-ram-v5', 'ALE/Gravitar-v5', 'ALE/Gravitar-ram-v5', 'ALE/Hangman-v5', 'ALE/Hangman-ram-v5', 'ALE/HauntedHouse-v5', 'ALE/HauntedHouse-ram-v5', 'ALE/Hero-v5', 'ALE/Hero-ram-v5', 'ALE/HumanCannonball-v5', 'ALE/HumanCannonball-ram-v5', 'ALE/IceHockey-v5', 'ALE/IceHockey-ram-v5', 'ALE/Jamesbond-v5', 'ALE/Jamesbond-ram-v5', 'ALE/JourneyEscape-v5', 'ALE/JourneyEscape-ram-v5', 'ALE/Kaboom-v5', 'ALE/Kaboom-ram-v5', 'ALE/Kangaroo-v5', 'ALE/Kangaroo-ram-v5', 'ALE/KeystoneKapers-v5', 'ALE/KeystoneKapers-ram-v5', 'ALE/KingKong-v5', 'ALE/KingKong-ram-v5', 'ALE/Klax-v5', 'ALE/Klax-ram-v5', 'ALE/Koolaid-v5', 'ALE/Koolaid-ram-v5', 'ALE/Krull-v5', 'ALE/Krull-ram-v5', 'ALE/KungFuMaster-v5', 'ALE/KungFuMaster-ram-v5', 'ALE/LaserGates-v5', 'ALE/LaserGates-ram-v5', 'ALE/LostLuggage-v5', 'ALE/LostLuggage-ram-v5', 'ALE/MarioBros-v5', 'ALE/MarioBros-ram-v5', 'ALE/MiniatureGolf-v5', 'ALE/MiniatureGolf-ram-v5', 'ALE/MontezumaRevenge-v5', 'ALE/MontezumaRevenge-ram-v5', 'ALE/MrDo-v5', 'ALE/MrDo-ram-v5', 'ALE/MsPacman-v5', 'ALE/MsPacman-ram-v5', 'ALE/NameThisGame-v5', 'ALE/NameThisGame-ram-v5', 'ALE/Othello-v5', 'ALE/Othello-ram-v5', 'ALE/Pacman-v5', 'ALE/Pacman-ram-v5', 'ALE/Phoenix-v5', 'ALE/Phoenix-ram-v5', 'ALE/Pitfall-v5', 'ALE/Pitfall-ram-v5', 'ALE/Pitfall2-v5', 'ALE/Pitfall2-ram-v5', 'ALE/Pong-v5', 'ALE/Pong-ram-v5', 'ALE/Pooyan-v5', 'ALE/Pooyan-ram-v5', 'ALE/PrivateEye-v5', 'ALE/PrivateEye-ram-v5', 'ALE/Qbert-v5', 'ALE/Qbert-ram-v5', 'ALE/Riverraid-v5', 'ALE/Riverraid-ram-v5', 'ALE/RoadRunner-v5', 'ALE/RoadRunner-ram-v5', 'ALE/Robotank-v5', 'ALE/Robotank-ram-v5', 'ALE/Seaquest-v5', 'ALE/Seaquest-ram-v5', 'ALE/SirLancelot-v5', 'ALE/SirLancelot-ram-v5', 'ALE/Skiing-v5', 'ALE/Skiing-ram-v5', 'ALE/Solaris-v5', 'ALE/Solaris-ram-v5', 'ALE/SpaceInvaders-v5', 'ALE/SpaceInvaders-ram-v5', 'ALE/SpaceWar-v5', 'ALE/SpaceWar-ram-v5', 'ALE/StarGunner-v5', 'ALE/StarGunner-ram-v5', 'ALE/Superman-v5', 'ALE/Superman-ram-v5', 'ALE/Surround-v5', 'ALE/Surround-ram-v5', 'ALE/Tennis-v5', 'ALE/Tennis-ram-v5', 'ALE/Tetris-v5', 'ALE/Tetris-ram-v5', 'ALE/TicTacToe3D-v5', 'ALE/TicTacToe3D-ram-v5', 'ALE/TimePilot-v5', 'ALE/TimePilot-ram-v5', 'ALE/Trondead-v5', 'ALE/Trondead-ram-v5', 'ALE/Turmoil-v5', 'ALE/Turmoil-ram-v5', 'ALE/Tutankham-v5', 'ALE/Tutankham-ram-v5', 'ALE/UpNDown-v5', 'ALE/UpNDown-ram-v5', 'ALE/Venture-v5', 'ALE/Venture-ram-v5', 'ALE/VideoCheckers-v5', 'ALE/VideoCheckers-ram-v5', 'ALE/VideoChess-v5', 'ALE/VideoChess-ram-v5', 'ALE/VideoCube-v5', 'ALE/VideoCube-ram-v5', 'ALE/VideoPinball-v5', 'ALE/VideoPinball-ram-v5', 'ALE/WizardOfWor-v5', 'ALE/WizardOfWor-ram-v5', 'ALE/WordZapper-v5', 'ALE/WordZapper-ram-v5', 'ALE/YarsRevenge-v5', 'ALE/YarsRevenge-ram-v5', 'ALE/Zaxxon-v5', 'ALE/Zaxxon-ram-v5', 'Adventure-v0', 'AdventureDeterministic-v0', 'AdventureNoFrameskip-v0', 'Adventure-v4', 'AdventureDeterministic-v4', 'AdventureNoFrameskip-v4', 'Adventure-ram-v0', 'Adventure-ramDeterministic-v0', 'Adventure-ramNoFrameskip-v0', 'Adventure-ram-v4', 'Adventure-ramDeterministic-v4', 'Adventure-ramNoFrameskip-v4', 'AirRaid-v0', 'AirRaidDeterministic-v0', 'AirRaidNoFrameskip-v0', 'AirRaid-v4', 'AirRaidDeterministic-v4', 'AirRaidNoFrameskip-v4', 'AirRaid-ram-v0', 'AirRaid-ramDeterministic-v0', 'AirRaid-ramNoFrameskip-v0', 'AirRaid-ram-v4', 'AirRaid-ramDeterministic-v4', 'AirRaid-ramNoFrameskip-v4', 'Alien-v0', 'AlienDeterministic-v0', 'AlienNoFrameskip-v0', 'Alien-v4', 'AlienDeterministic-v4', 'AlienNoFrameskip-v4', 'Alien-ram-v0', 'Alien-ramDeterministic-v0', 'Alien-ramNoFrameskip-v0', 'Alien-ram-v4', 'Alien-ramDeterministic-v4', 'Alien-ramNoFrameskip-v4', 'Amidar-v0', 'AmidarDeterministic-v0', 'AmidarNoFrameskip-v0', 'Amidar-v4', 'AmidarDeterministic-v4', 'AmidarNoFrameskip-v4', 'Amidar-ram-v0', 'Amidar-ramDeterministic-v0', 'Amidar-ramNoFrameskip-v0', 'Amidar-ram-v4', 'Amidar-ramDeterministic-v4', 'Amidar-ramNoFrameskip-v4', 'Assault-v0', 'AssaultDeterministic-v0', 'AssaultNoFrameskip-v0', 'Assault-v4', 'AssaultDeterministic-v4', 'AssaultNoFrameskip-v4', 'Assault-ram-v0', 'Assault-ramDeterministic-v0', 'Assault-ramNoFrameskip-v0', 'Assault-ram-v4', 'Assault-ramDeterministic-v4', 'Assault-ramNoFrameskip-v4', 'Asterix-v0', 'AsterixDeterministic-v0', 'AsterixNoFrameskip-v0', 'Asterix-v4', 'AsterixDeterministic-v4', 'AsterixNoFrameskip-v4', 'Asterix-ram-v0', 'Asterix-ramDeterministic-v0', 'Asterix-ramNoFrameskip-v0', 'Asterix-ram-v4', 'Asterix-ramDeterministic-v4', 'Asterix-ramNoFrameskip-v4', 'Asteroids-v0', 'AsteroidsDeterministic-v0', 'AsteroidsNoFrameskip-v0', 'Asteroids-v4', 'AsteroidsDeterministic-v4', 'AsteroidsNoFrameskip-v4', 'Asteroids-ram-v0', 'Asteroids-ramDeterministic-v0', 'Asteroids-ramNoFrameskip-v0', 'Asteroids-ram-v4', 'Asteroids-ramDeterministic-v4', 'Asteroids-ramNoFrameskip-v4', 'Atlantis-v0', 'AtlantisDeterministic-v0', 'AtlantisNoFrameskip-v0', 'Atlantis-v4', 'AtlantisDeterministic-v4', 'AtlantisNoFrameskip-v4', 'Atlantis-ram-v0', 'Atlantis-ramDeterministic-v0', 'Atlantis-ramNoFrameskip-v0', 'Atlantis-ram-v4', 'Atlantis-ramDeterministic-v4', 'Atlantis-ramNoFrameskip-v4', 'BankHeist-v0', 'BankHeistDeterministic-v0', 'BankHeistNoFrameskip-v0', 'BankHeist-v4', 'BankHeistDeterministic-v4', 'BankHeistNoFrameskip-v4', 'BankHeist-ram-v0', 'BankHeist-ramDeterministic-v0', 'BankHeist-ramNoFrameskip-v0', 'BankHeist-ram-v4', 'BankHeist-ramDeterministic-v4', 'BankHeist-ramNoFrameskip-v4', 'BattleZone-v0', 'BattleZoneDeterministic-v0', 'BattleZoneNoFrameskip-v0', 'BattleZone-v4', 'BattleZoneDeterministic-v4', 'BattleZoneNoFrameskip-v4', 'BattleZone-ram-v0', 'BattleZone-ramDeterministic-v0', 'BattleZone-ramNoFrameskip-v0', 'BattleZone-ram-v4', 'BattleZone-ramDeterministic-v4', 'BattleZone-ramNoFrameskip-v4', 'BeamRider-v0', 'BeamRiderDeterministic-v0', 'BeamRiderNoFrameskip-v0', 'BeamRider-v4', 'BeamRiderDeterministic-v4', 'BeamRiderNoFrameskip-v4', 'BeamRider-ram-v0', 'BeamRider-ramDeterministic-v0', 'BeamRider-ramNoFrameskip-v0', 'BeamRider-ram-v4', 'BeamRider-ramDeterministic-v4', 'BeamRider-ramNoFrameskip-v4', 'Berzerk-v0', 'BerzerkDeterministic-v0', 'BerzerkNoFrameskip-v0', 'Berzerk-v4', 'BerzerkDeterministic-v4', 'BerzerkNoFrameskip-v4', 'Berzerk-ram-v0', 'Berzerk-ramDeterministic-v0', 'Berzerk-ramNoFrameskip-v0', 'Berzerk-ram-v4', 'Berzerk-ramDeterministic-v4', 'Berzerk-ramNoFrameskip-v4', 'Bowling-v0', 'BowlingDeterministic-v0', 'BowlingNoFrameskip-v0', 'Bowling-v4', 'BowlingDeterministic-v4', 'BowlingNoFrameskip-v4', 'Bowling-ram-v0', 'Bowling-ramDeterministic-v0', 'Bowling-ramNoFrameskip-v0', 'Bowling-ram-v4', 'Bowling-ramDeterministic-v4', 'Bowling-ramNoFrameskip-v4', 'Boxing-v0', 'BoxingDeterministic-v0', 'BoxingNoFrameskip-v0', 'Boxing-v4', 'BoxingDeterministic-v4', 'BoxingNoFrameskip-v4', 'Boxing-ram-v0', 'Boxing-ramDeterministic-v0', 'Boxing-ramNoFrameskip-v0', 'Boxing-ram-v4', 'Boxing-ramDeterministic-v4', 'Boxing-ramNoFrameskip-v4', 'Breakout-v0', 'BreakoutDeterministic-v0', 'BreakoutNoFrameskip-v0', 'Breakout-v4', 'BreakoutDeterministic-v4', 'BreakoutNoFrameskip-v4', 'Breakout-ram-v0', 'Breakout-ramDeterministic-v0', 'Breakout-ramNoFrameskip-v0', 'Breakout-ram-v4', 'Breakout-ramDeterministic-v4', 'Breakout-ramNoFrameskip-v4', 'Carnival-v0', 'CarnivalDeterministic-v0', 'CarnivalNoFrameskip-v0', 'Carnival-v4', 'CarnivalDeterministic-v4', 'CarnivalNoFrameskip-v4', 'Carnival-ram-v0', 'Carnival-ramDeterministic-v0', 'Carnival-ramNoFrameskip-v0', 'Carnival-ram-v4', 'Carnival-ramDeterministic-v4', 'Carnival-ramNoFrameskip-v4', 'Centipede-v0', 'CentipedeDeterministic-v0', 'CentipedeNoFrameskip-v0', 'Centipede-v4', 'CentipedeDeterministic-v4', 'CentipedeNoFrameskip-v4', 'Centipede-ram-v0', 'Centipede-ramDeterministic-v0', 'Centipede-ramNoFrameskip-v0', 'Centipede-ram-v4', 'Centipede-ramDeterministic-v4', 'Centipede-ramNoFrameskip-v4', 'ChopperCommand-v0', 'ChopperCommandDeterministic-v0', 'ChopperCommandNoFrameskip-v0', 'ChopperCommand-v4', 'ChopperCommandDeterministic-v4', 'ChopperCommandNoFrameskip-v4', 'ChopperCommand-ram-v0', 'ChopperCommand-ramDeterministic-v0', 'ChopperCommand-ramNoFrameskip-v0', 'ChopperCommand-ram-v4', 'ChopperCommand-ramDeterministic-v4', 'ChopperCommand-ramNoFrameskip-v4', 'CrazyClimber-v0', 'CrazyClimberDeterministic-v0', 'CrazyClimberNoFrameskip-v0', 'CrazyClimber-v4', 'CrazyClimberDeterministic-v4', 'CrazyClimberNoFrameskip-v4', 'CrazyClimber-ram-v0', 'CrazyClimber-ramDeterministic-v0', 'CrazyClimber-ramNoFrameskip-v0', 'CrazyClimber-ram-v4', 'CrazyClimber-ramDeterministic-v4', 'CrazyClimber-ramNoFrameskip-v4', 'Defender-v0', 'DefenderDeterministic-v0', 'DefenderNoFrameskip-v0', 'Defender-v4', 'DefenderDeterministic-v4', 'DefenderNoFrameskip-v4', 'Defender-ram-v0', 'Defender-ramDeterministic-v0', 'Defender-ramNoFrameskip-v0', 'Defender-ram-v4', 'Defender-ramDeterministic-v4', 'Defender-ramNoFrameskip-v4', 'DemonAttack-v0', 'DemonAttackDeterministic-v0', 'DemonAttackNoFrameskip-v0', 'DemonAttack-v4', 'DemonAttackDeterministic-v4', 'DemonAttackNoFrameskip-v4', 'DemonAttack-ram-v0', 'DemonAttack-ramDeterministic-v0', 'DemonAttack-ramNoFrameskip-v0', 'DemonAttack-ram-v4', 'DemonAttack-ramDeterministic-v4', 'DemonAttack-ramNoFrameskip-v4', 'DoubleDunk-v0', 'DoubleDunkDeterministic-v0', 'DoubleDunkNoFrameskip-v0', 'DoubleDunk-v4', 'DoubleDunkDeterministic-v4', 'DoubleDunkNoFrameskip-v4', 'DoubleDunk-ram-v0', 'DoubleDunk-ramDeterministic-v0', 'DoubleDunk-ramNoFrameskip-v0', 'DoubleDunk-ram-v4', 'DoubleDunk-ramDeterministic-v4', 'DoubleDunk-ramNoFrameskip-v4', 'ElevatorAction-v0', 'ElevatorActionDeterministic-v0', 'ElevatorActionNoFrameskip-v0', 'ElevatorAction-v4', 'ElevatorActionDeterministic-v4', 'ElevatorActionNoFrameskip-v4', 'ElevatorAction-ram-v0', 'ElevatorAction-ramDeterministic-v0', 'ElevatorAction-ramNoFrameskip-v0', 'ElevatorAction-ram-v4', 'ElevatorAction-ramDeterministic-v4', 'ElevatorAction-ramNoFrameskip-v4', 'Enduro-v0', 'EnduroDeterministic-v0', 'EnduroNoFrameskip-v0', 'Enduro-v4', 'EnduroDeterministic-v4', 'EnduroNoFrameskip-v4', 'Enduro-ram-v0', 'Enduro-ramDeterministic-v0', 'Enduro-ramNoFrameskip-v0', 'Enduro-ram-v4', 'Enduro-ramDeterministic-v4', 'Enduro-ramNoFrameskip-v4', 'FishingDerby-v0', 'FishingDerbyDeterministic-v0', 'FishingDerbyNoFrameskip-v0', 'FishingDerby-v4', 'FishingDerbyDeterministic-v4', 'FishingDerbyNoFrameskip-v4', 'FishingDerby-ram-v0', 'FishingDerby-ramDeterministic-v0', 'FishingDerby-ramNoFrameskip-v0', 'FishingDerby-ram-v4', 'FishingDerby-ramDeterministic-v4', 'FishingDerby-ramNoFrameskip-v4', 'Freeway-v0', 'FreewayDeterministic-v0', 'FreewayNoFrameskip-v0', 'Freeway-v4', 'FreewayDeterministic-v4', 'FreewayNoFrameskip-v4', 'Freeway-ram-v0', 'Freeway-ramDeterministic-v0', 'Freeway-ramNoFrameskip-v0', 'Freeway-ram-v4', 'Freeway-ramDeterministic-v4', 'Freeway-ramNoFrameskip-v4', 'Frostbite-v0', 'FrostbiteDeterministic-v0', 'FrostbiteNoFrameskip-v0', 'Frostbite-v4', 'FrostbiteDeterministic-v4', 'FrostbiteNoFrameskip-v4', 'Frostbite-ram-v0', 'Frostbite-ramDeterministic-v0', 'Frostbite-ramNoFrameskip-v0', 'Frostbite-ram-v4', 'Frostbite-ramDeterministic-v4', 'Frostbite-ramNoFrameskip-v4', 'Gopher-v0', 'GopherDeterministic-v0', 'GopherNoFrameskip-v0', 'Gopher-v4', 'GopherDeterministic-v4', 'GopherNoFrameskip-v4', 'Gopher-ram-v0', 'Gopher-ramDeterministic-v0', 'Gopher-ramNoFrameskip-v0', 'Gopher-ram-v4', 'Gopher-ramDeterministic-v4', 'Gopher-ramNoFrameskip-v4', 'Gravitar-v0', 'GravitarDeterministic-v0', 'GravitarNoFrameskip-v0', 'Gravitar-v4', 'GravitarDeterministic-v4', 'GravitarNoFrameskip-v4', 'Gravitar-ram-v0', 'Gravitar-ramDeterministic-v0', 'Gravitar-ramNoFrameskip-v0', 'Gravitar-ram-v4', 'Gravitar-ramDeterministic-v4', 'Gravitar-ramNoFrameskip-v4', 'Hero-v0', 'HeroDeterministic-v0', 'HeroNoFrameskip-v0', 'Hero-v4', 'HeroDeterministic-v4', 'HeroNoFrameskip-v4', 'Hero-ram-v0', 'Hero-ramDeterministic-v0', 'Hero-ramNoFrameskip-v0', 'Hero-ram-v4', 'Hero-ramDeterministic-v4', 'Hero-ramNoFrameskip-v4', 'IceHockey-v0', 'IceHockeyDeterministic-v0', 'IceHockeyNoFrameskip-v0', 'IceHockey-v4', 'IceHockeyDeterministic-v4', 'IceHockeyNoFrameskip-v4', 'IceHockey-ram-v0', 'IceHockey-ramDeterministic-v0', 'IceHockey-ramNoFrameskip-v0', 'IceHockey-ram-v4', 'IceHockey-ramDeterministic-v4', 'IceHockey-ramNoFrameskip-v4', 'Jamesbond-v0', 'JamesbondDeterministic-v0', 'JamesbondNoFrameskip-v0', 'Jamesbond-v4', 'JamesbondDeterministic-v4', 'JamesbondNoFrameskip-v4', 'Jamesbond-ram-v0', 'Jamesbond-ramDeterministic-v0', 'Jamesbond-ramNoFrameskip-v0', 'Jamesbond-ram-v4', 'Jamesbond-ramDeterministic-v4', 'Jamesbond-ramNoFrameskip-v4', 'JourneyEscape-v0', 'JourneyEscapeDeterministic-v0', 'JourneyEscapeNoFrameskip-v0', 'JourneyEscape-v4', 'JourneyEscapeDeterministic-v4', 'JourneyEscapeNoFrameskip-v4', 'JourneyEscape-ram-v0', 'JourneyEscape-ramDeterministic-v0', 'JourneyEscape-ramNoFrameskip-v0', 'JourneyEscape-ram-v4', 'JourneyEscape-ramDeterministic-v4', 'JourneyEscape-ramNoFrameskip-v4', 'Kangaroo-v0', 'KangarooDeterministic-v0', 'KangarooNoFrameskip-v0', 'Kangaroo-v4', 'KangarooDeterministic-v4', 'KangarooNoFrameskip-v4', 'Kangaroo-ram-v0', 'Kangaroo-ramDeterministic-v0', 'Kangaroo-ramNoFrameskip-v0', 'Kangaroo-ram-v4', 'Kangaroo-ramDeterministic-v4', 'Kangaroo-ramNoFrameskip-v4', 'Krull-v0', 'KrullDeterministic-v0', 'KrullNoFrameskip-v0', 'Krull-v4', 'KrullDeterministic-v4', 'KrullNoFrameskip-v4', 'Krull-ram-v0', 'Krull-ramDeterministic-v0', 'Krull-ramNoFrameskip-v0', 'Krull-ram-v4', 'Krull-ramDeterministic-v4', 'Krull-ramNoFrameskip-v4', 'KungFuMaster-v0', 'KungFuMasterDeterministic-v0', 'KungFuMasterNoFrameskip-v0', 'KungFuMaster-v4', 'KungFuMasterDeterministic-v4', 'KungFuMasterNoFrameskip-v4', 'KungFuMaster-ram-v0', 'KungFuMaster-ramDeterministic-v0', 'KungFuMaster-ramNoFrameskip-v0', 'KungFuMaster-ram-v4', 'KungFuMaster-ramDeterministic-v4', 'KungFuMaster-ramNoFrameskip-v4', 'MontezumaRevenge-v0', 'MontezumaRevengeDeterministic-v0', 'MontezumaRevengeNoFrameskip-v0', 'MontezumaRevenge-v4', 'MontezumaRevengeDeterministic-v4', 'MontezumaRevengeNoFrameskip-v4', 'MontezumaRevenge-ram-v0', 'MontezumaRevenge-ramDeterministic-v0', 'MontezumaRevenge-ramNoFrameskip-v0', 'MontezumaRevenge-ram-v4', 'MontezumaRevenge-ramDeterministic-v4', 'MontezumaRevenge-ramNoFrameskip-v4', 'MsPacman-v0', 'MsPacmanDeterministic-v0', 'MsPacmanNoFrameskip-v0', 'MsPacman-v4', 'MsPacmanDeterministic-v4', 'MsPacmanNoFrameskip-v4', 'MsPacman-ram-v0', 'MsPacman-ramDeterministic-v0', 'MsPacman-ramNoFrameskip-v0', 'MsPacman-ram-v4', 'MsPacman-ramDeterministic-v4', 'MsPacman-ramNoFrameskip-v4', 'NameThisGame-v0', 'NameThisGameDeterministic-v0', 'NameThisGameNoFrameskip-v0', 'NameThisGame-v4', 'NameThisGameDeterministic-v4', 'NameThisGameNoFrameskip-v4', 'NameThisGame-ram-v0', 'NameThisGame-ramDeterministic-v0', 'NameThisGame-ramNoFrameskip-v0', 'NameThisGame-ram-v4', 'NameThisGame-ramDeterministic-v4', 'NameThisGame-ramNoFrameskip-v4', 'Phoenix-v0', 'PhoenixDeterministic-v0', 'PhoenixNoFrameskip-v0', 'Phoenix-v4', 'PhoenixDeterministic-v4', 'PhoenixNoFrameskip-v4', 'Phoenix-ram-v0', 'Phoenix-ramDeterministic-v0', 'Phoenix-ramNoFrameskip-v0', 'Phoenix-ram-v4', 'Phoenix-ramDeterministic-v4', 'Phoenix-ramNoFrameskip-v4', 'Pitfall-v0', 'PitfallDeterministic-v0', 'PitfallNoFrameskip-v0', 'Pitfall-v4', 'PitfallDeterministic-v4', 'PitfallNoFrameskip-v4', 'Pitfall-ram-v0', 'Pitfall-ramDeterministic-v0', 'Pitfall-ramNoFrameskip-v0', 'Pitfall-ram-v4', 'Pitfall-ramDeterministic-v4', 'Pitfall-ramNoFrameskip-v4', 'Pong-v0', 'PongDeterministic-v0', 'PongNoFrameskip-v0', 'Pong-v4', 'PongDeterministic-v4', 'PongNoFrameskip-v4', 'Pong-ram-v0', 'Pong-ramDeterministic-v0', 'Pong-ramNoFrameskip-v0', 'Pong-ram-v4', 'Pong-ramDeterministic-v4', 'Pong-ramNoFrameskip-v4', 'Pooyan-v0', 'PooyanDeterministic-v0', 'PooyanNoFrameskip-v0', 'Pooyan-v4', 'PooyanDeterministic-v4', 'PooyanNoFrameskip-v4', 'Pooyan-ram-v0', 'Pooyan-ramDeterministic-v0', 'Pooyan-ramNoFrameskip-v0', 'Pooyan-ram-v4', 'Pooyan-ramDeterministic-v4', 'Pooyan-ramNoFrameskip-v4', 'PrivateEye-v0', 'PrivateEyeDeterministic-v0', 'PrivateEyeNoFrameskip-v0', 'PrivateEye-v4', 'PrivateEyeDeterministic-v4', 'PrivateEyeNoFrameskip-v4', 'PrivateEye-ram-v0', 'PrivateEye-ramDeterministic-v0', 'PrivateEye-ramNoFrameskip-v0', 'PrivateEye-ram-v4', 'PrivateEye-ramDeterministic-v4', 'PrivateEye-ramNoFrameskip-v4', 'Qbert-v0', 'QbertDeterministic-v0', 'QbertNoFrameskip-v0', 'Qbert-v4', 'QbertDeterministic-v4', 'QbertNoFrameskip-v4', 'Qbert-ram-v0', 'Qbert-ramDeterministic-v0', 'Qbert-ramNoFrameskip-v0', 'Qbert-ram-v4', 'Qbert-ramDeterministic-v4', 'Qbert-ramNoFrameskip-v4', 'Riverraid-v0', 'RiverraidDeterministic-v0', 'RiverraidNoFrameskip-v0', 'Riverraid-v4', 'RiverraidDeterministic-v4', 'RiverraidNoFrameskip-v4', 'Riverraid-ram-v0', 'Riverraid-ramDeterministic-v0', 'Riverraid-ramNoFrameskip-v0', 'Riverraid-ram-v4', 'Riverraid-ramDeterministic-v4', 'Riverraid-ramNoFrameskip-v4', 'RoadRunner-v0', 'RoadRunnerDeterministic-v0', 'RoadRunnerNoFrameskip-v0', 'RoadRunner-v4', 'RoadRunnerDeterministic-v4', 'RoadRunnerNoFrameskip-v4', 'RoadRunner-ram-v0', 'RoadRunner-ramDeterministic-v0', 'RoadRunner-ramNoFrameskip-v0', 'RoadRunner-ram-v4', 'RoadRunner-ramDeterministic-v4', 'RoadRunner-ramNoFrameskip-v4', 'Robotank-v0', 'RobotankDeterministic-v0', 'RobotankNoFrameskip-v0', 'Robotank-v4', 'RobotankDeterministic-v4', 'RobotankNoFrameskip-v4', 'Robotank-ram-v0', 'Robotank-ramDeterministic-v0', 'Robotank-ramNoFrameskip-v0', 'Robotank-ram-v4', 'Robotank-ramDeterministic-v4', 'Robotank-ramNoFrameskip-v4', 'Seaquest-v0', 'SeaquestDeterministic-v0', 'SeaquestNoFrameskip-v0', 'Seaquest-v4', 'SeaquestDeterministic-v4', 'SeaquestNoFrameskip-v4', 'Seaquest-ram-v0', 'Seaquest-ramDeterministic-v0', 'Seaquest-ramNoFrameskip-v0', 'Seaquest-ram-v4', 'Seaquest-ramDeterministic-v4', 'Seaquest-ramNoFrameskip-v4', 'Skiing-v0', 'SkiingDeterministic-v0', 'SkiingNoFrameskip-v0', 'Skiing-v4', 'SkiingDeterministic-v4', 'SkiingNoFrameskip-v4', 'Skiing-ram-v0', 'Skiing-ramDeterministic-v0', 'Skiing-ramNoFrameskip-v0', 'Skiing-ram-v4', 'Skiing-ramDeterministic-v4', 'Skiing-ramNoFrameskip-v4', 'Solaris-v0', 'SolarisDeterministic-v0', 'SolarisNoFrameskip-v0', 'Solaris-v4', 'SolarisDeterministic-v4', 'SolarisNoFrameskip-v4', 'Solaris-ram-v0', 'Solaris-ramDeterministic-v0', 'Solaris-ramNoFrameskip-v0', 'Solaris-ram-v4', 'Solaris-ramDeterministic-v4', 'Solaris-ramNoFrameskip-v4', 'SpaceInvaders-v0', 'SpaceInvadersDeterministic-v0', 'SpaceInvadersNoFrameskip-v0', 'SpaceInvaders-v4', 'SpaceInvadersDeterministic-v4', 'SpaceInvadersNoFrameskip-v4', 'SpaceInvaders-ram-v0', 'SpaceInvaders-ramDeterministic-v0', 'SpaceInvaders-ramNoFrameskip-v0', 'SpaceInvaders-ram-v4', 'SpaceInvaders-ramDeterministic-v4', 'SpaceInvaders-ramNoFrameskip-v4', 'StarGunner-v0', 'StarGunnerDeterministic-v0', 'StarGunnerNoFrameskip-v0', 'StarGunner-v4', 'StarGunnerDeterministic-v4', 'StarGunnerNoFrameskip-v4', 'StarGunner-ram-v0', 'StarGunner-ramDeterministic-v0', 'StarGunner-ramNoFrameskip-v0', 'StarGunner-ram-v4', 'StarGunner-ramDeterministic-v4', 'StarGunner-ramNoFrameskip-v4', 'Tennis-v0', 'TennisDeterministic-v0', 'TennisNoFrameskip-v0', 'Tennis-v4', 'TennisDeterministic-v4', 'TennisNoFrameskip-v4', 'Tennis-ram-v0', 'Tennis-ramDeterministic-v0', 'Tennis-ramNoFrameskip-v0', 'Tennis-ram-v4', 'Tennis-ramDeterministic-v4', 'Tennis-ramNoFrameskip-v4', 'TimePilot-v0', 'TimePilotDeterministic-v0', 'TimePilotNoFrameskip-v0', 'TimePilot-v4', 'TimePilotDeterministic-v4', 'TimePilotNoFrameskip-v4', 'TimePilot-ram-v0', 'TimePilot-ramDeterministic-v0', 'TimePilot-ramNoFrameskip-v0', 'TimePilot-ram-v4', 'TimePilot-ramDeterministic-v4', 'TimePilot-ramNoFrameskip-v4', 'Tutankham-v0', 'TutankhamDeterministic-v0', 'TutankhamNoFrameskip-v0', 'Tutankham-v4', 'TutankhamDeterministic-v4', 'TutankhamNoFrameskip-v4', 'Tutankham-ram-v0', 'Tutankham-ramDeterministic-v0', 'Tutankham-ramNoFrameskip-v0', 'Tutankham-ram-v4', 'Tutankham-ramDeterministic-v4', 'Tutankham-ramNoFrameskip-v4', 'UpNDown-v0', 'UpNDownDeterministic-v0', 'UpNDownNoFrameskip-v0', 'UpNDown-v4', 'UpNDownDeterministic-v4', 'UpNDownNoFrameskip-v4', 'UpNDown-ram-v0', 'UpNDown-ramDeterministic-v0', 'UpNDown-ramNoFrameskip-v0', 'UpNDown-ram-v4', 'UpNDown-ramDeterministic-v4', 'UpNDown-ramNoFrameskip-v4', 'Venture-v0', 'VentureDeterministic-v0', 'VentureNoFrameskip-v0', 'Venture-v4', 'VentureDeterministic-v4', 'VentureNoFrameskip-v4', 'Venture-ram-v0', 'Venture-ramDeterministic-v0', 'Venture-ramNoFrameskip-v0', 'Venture-ram-v4', 'Venture-ramDeterministic-v4', 'Venture-ramNoFrameskip-v4', 'VideoPinball-v0', 'VideoPinballDeterministic-v0', 'VideoPinballNoFrameskip-v0', 'VideoPinball-v4', 'VideoPinballDeterministic-v4', 'VideoPinballNoFrameskip-v4', 'VideoPinball-ram-v0', 'VideoPinball-ramDeterministic-v0', 'VideoPinball-ramNoFrameskip-v0', 'VideoPinball-ram-v4', 'VideoPinball-ramDeterministic-v4', 'VideoPinball-ramNoFrameskip-v4', 'WizardOfWor-v0', 'WizardOfWorDeterministic-v0', 'WizardOfWorNoFrameskip-v0', 'WizardOfWor-v4', 'WizardOfWorDeterministic-v4', 'WizardOfWorNoFrameskip-v4', 'WizardOfWor-ram-v0', 'WizardOfWor-ramDeterministic-v0', 'WizardOfWor-ramNoFrameskip-v0', 'WizardOfWor-ram-v4', 'WizardOfWor-ramDeterministic-v4', 'WizardOfWor-ramNoFrameskip-v4', 'YarsRevenge-v0', 'YarsRevengeDeterministic-v0', 'YarsRevengeNoFrameskip-v0', 'YarsRevenge-v4', 'YarsRevengeDeterministic-v4', 'YarsRevengeNoFrameskip-v4', 'YarsRevenge-ram-v0', 'YarsRevenge-ramDeterministic-v0', 'YarsRevenge-ramNoFrameskip-v0', 'YarsRevenge-ram-v4', 'YarsRevenge-ramDeterministic-v4', 'YarsRevenge-ramNoFrameskip-v4', 'Zaxxon-v0', 'ZaxxonDeterministic-v0', 'ZaxxonNoFrameskip-v0', 'Zaxxon-v4', 'ZaxxonDeterministic-v4', 'ZaxxonNoFrameskip-v4', 'Zaxxon-ram-v0', 'Zaxxon-ramDeterministic-v0', 'Zaxxon-ramNoFrameskip-v0', 'Zaxxon-ram-v4', 'Zaxxon-ramDeterministic-v4', 'Zaxxon-ramNoFrameskip-v4', 'CartPole-v0', 'CartPole-v1', 'MountainCar-v0', 'MountainCarContinuous-v0', 'Pendulum-v1', 'Acrobot-v1', 'LunarLander-v2', 'LunarLanderContinuous-v2', 'BipedalWalker-v3', 'BipedalWalkerHardcore-v3', 'CarRacing-v2', 'Blackjack-v1', 'FrozenLake-v1', 'FrozenLake8x8-v1', 'CliffWalking-v0', 'Taxi-v3', 'Reacher-v2', 'Reacher-v4', 'Pusher-v2', 'Pusher-v4', 'InvertedPendulum-v2', 'InvertedPendulum-v4', 'InvertedDoublePendulum-v2', 'InvertedDoublePendulum-v4', 'HalfCheetah-v2', 'HalfCheetah-v3', 'HalfCheetah-v4', 'Hopper-v2', 'Hopper-v3', 'Hopper-v4', 'Swimmer-v2', 'Swimmer-v3', 'Swimmer-v4', 'Walker2d-v2', 'Walker2d-v3', 'Walker2d-v4', 'Ant-v2', 'Ant-v3', 'Ant-v4', 'Humanoid-v2', 'Humanoid-v3', 'Humanoid-v4', 'HumanoidStandup-v2', 'HumanoidStandup-v4']\n"
          ]
        }
      ]
    },
    {
      "cell_type": "code",
      "source": [],
      "metadata": {
        "id": "ZriOg_Vj_wn1"
      },
      "execution_count": 37,
      "outputs": []
    }
  ]
}