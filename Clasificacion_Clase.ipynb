{
  "nbformat": 4,
  "nbformat_minor": 0,
  "metadata": {
    "colab": {
      "provenance": [],
      "authorship_tag": "ABX9TyNgZH2e6cRAJm9M0/HtF24f",
      "include_colab_link": true
    },
    "kernelspec": {
      "name": "python3",
      "display_name": "Python 3"
    },
    "language_info": {
      "name": "python"
    }
  },
  "cells": [
    {
      "cell_type": "markdown",
      "metadata": {
        "id": "view-in-github",
        "colab_type": "text"
      },
      "source": [
        "<a href=\"https://colab.research.google.com/github/KARENCMP82/Python/blob/main/Clasificacion_Clase.ipynb\" target=\"_parent\"><img src=\"https://colab.research.google.com/assets/colab-badge.svg\" alt=\"Open In Colab\"/></a>"
      ]
    },
    {
      "cell_type": "markdown",
      "source": [
        "# JFK Delay prediction"
      ],
      "metadata": {
        "id": "i48ANG3DbEVF"
      }
    },
    {
      "cell_type": "markdown",
      "source": [
        "Importe librerias"
      ],
      "metadata": {
        "id": "w4W_wWWKbM3U"
      }
    },
    {
      "cell_type": "code",
      "source": [
        "import numpy as np # linear algebra\n",
        "import pandas as pd # data processing, CSV file I/O (e.g. pd.read_csv)\n",
        "\n",
        "# import libraries for plotting\n",
        "import matplotlib.pyplot as plt\n",
        "import seaborn as sns\n",
        "# from matplotlib import pyplot as plt\n",
        "%matplotlib inline\n",
        "plt.style.use('ggplot')\n",
        "pd.set_option('display.max_rows', 500)\n",
        "pd.options.display.float_format = '{:,.2f}'.format\n"
      ],
      "metadata": {
        "id": "4PkqpQljbLv1"
      },
      "execution_count": 1,
      "outputs": []
    },
    {
      "cell_type": "markdown",
      "source": [
        "También cargaremos todas las funciones de preprocesamientoo de scikit-learn, contenidas en el **scikit preprocessing**.\n"
      ],
      "metadata": {
        "id": "tTIGXb1-csQa"
      }
    },
    {
      "cell_type": "code",
      "source": [
        "from sklearn import preprocessing"
      ],
      "metadata": {
        "id": "3boYkjhTcmoj"
      },
      "execution_count": 5,
      "outputs": []
    },
    {
      "cell_type": "markdown",
      "source": [
        "Y aprovecharemos para comprobar la **versión instalada de scikit-learn**."
      ],
      "metadata": {
        "id": "w6Z6TJEgcvA6"
      }
    },
    {
      "cell_type": "code",
      "source": [
        "from sklearn import __version__ as sklearn_version\n",
        "print('La versión instalada de scikit-learn es {}.'.format(sklearn_version))"
      ],
      "metadata": {
        "colab": {
          "base_uri": "https://localhost:8080/"
        },
        "id": "rnAMxFUHcofK",
        "outputId": "b832fc0d-ad48-41d5-c1ea-3d6b11e4f2ab"
      },
      "execution_count": 2,
      "outputs": [
        {
          "output_type": "stream",
          "name": "stdout",
          "text": [
            "La versión instalada de scikit-learn es 1.6.1.\n"
          ]
        }
      ]
    },
    {
      "cell_type": "markdown",
      "source": [
        "Antes de empezar a repasar la Machine Learning Checklist, importatemos el DataSet de trabajo (**JFKFlights**). Este Dataset se encuentra publicado en la página oficial del Departamento de transporte de Estados Unidos , aunque para facilitar el trabajo lo hemos trasladado a un link de descarga en internet (repositorio público en GitHub)."
      ],
      "metadata": {
        "id": "kQEVcSZLc0N6"
      }
    },
    {
      "cell_type": "code",
      "source": [
        "url1 = 'https://bit.ly/3bf6QNP'\n",
        "url2 = 'https://bit.ly/3kLR2p3'\n",
        "url_weather = 'https://raw.githubusercontent.com/Sitg35/Binary-Classifier-JFK/refs/heads/main/NYC_Weather_2016_2022.csv'"
      ],
      "metadata": {
        "id": "vaB1CKqhbV60"
      },
      "execution_count": 3,
      "outputs": []
    },
    {
      "cell_type": "code",
      "source": [
        "df1= pd.read_csv(url1, index_col=0)\n",
        "#lee la url el csv, con el df1= hacemos q se guarde"
      ],
      "metadata": {
        "id": "XDWqVWyrdHRC"
      },
      "execution_count": 6,
      "outputs": []
    },
    {
      "cell_type": "code",
      "source": [
        "df2= pd.read_csv(url2, index_col=0)"
      ],
      "metadata": {
        "id": "_rcfImiudgNn"
      },
      "execution_count": 4,
      "outputs": []
    },
    {
      "cell_type": "code",
      "source": [
        "df3= pd.read_csv(url_weather, index_col=0)"
      ],
      "metadata": {
        "id": "x_S-ul59dgfQ"
      },
      "execution_count": 7,
      "outputs": []
    },
    {
      "cell_type": "markdown",
      "source": [
        "Unir dos csv, se tuvieron q partir por tamaño"
      ],
      "metadata": {
        "id": "Kx-2hU_Nduji"
      }
    },
    {
      "cell_type": "code",
      "source": [
        "df= pd.concat([df1, df2], ignore_index=True)"
      ],
      "metadata": {
        "id": "JCDpgafPeRLQ"
      },
      "execution_count": 8,
      "outputs": []
    },
    {
      "cell_type": "code",
      "source": [
        "df.describe().T"
      ],
      "metadata": {
        "colab": {
          "base_uri": "https://localhost:8080/",
          "height": 269
        },
        "id": "EEzOoEt2ehqw",
        "outputId": "56b88ad3-ff03-46f5-d3e0-2306d5228d62"
      },
      "execution_count": 9,
      "outputs": [
        {
          "output_type": "execute_result",
          "data": {
            "text/plain": [
              "                           count      mean    std       min       25%  \\\n",
              "OP_CARRIER_AIRLINE_ID 237,644.00 20,152.00 297.88 19,690.00 19,790.00   \n",
              "CRS_DEP_TIME          250,152.00  1,334.61 529.10      3.00    915.00   \n",
              "TAXI_OUT              232,641.00     18.19   9.61      1.00     12.00   \n",
              "CRS_ARR_TIME          250,152.00  1,419.13 580.99      1.00    944.00   \n",
              "ARR_DEL15             250,152.00      0.21   0.41      0.00      0.00   \n",
              "CRS_ELAPSED_TIME      250,152.00    195.65  97.37     47.00    109.00   \n",
              "DISTANCE              250,152.00  1,258.84 898.12     94.00    427.00   \n",
              "\n",
              "                            50%       75%       max  \n",
              "OP_CARRIER_AIRLINE_ID 20,363.00 20,409.00 21,171.00  \n",
              "CRS_DEP_TIME           1,258.00  1,744.00  2,359.00  \n",
              "TAXI_OUT                  16.00     21.00    166.00  \n",
              "CRS_ARR_TIME           1,455.00  1,914.00  2,400.00  \n",
              "ARR_DEL15                  0.00      0.00      1.00  \n",
              "CRS_ELAPSED_TIME         167.00    306.00    595.00  \n",
              "DISTANCE               1,028.00  2,248.00  4,983.00  "
            ],
            "text/html": [
              "\n",
              "  <div id=\"df-950bbc3e-f6cf-43c1-b935-8c379af003f5\" class=\"colab-df-container\">\n",
              "    <div>\n",
              "<style scoped>\n",
              "    .dataframe tbody tr th:only-of-type {\n",
              "        vertical-align: middle;\n",
              "    }\n",
              "\n",
              "    .dataframe tbody tr th {\n",
              "        vertical-align: top;\n",
              "    }\n",
              "\n",
              "    .dataframe thead th {\n",
              "        text-align: right;\n",
              "    }\n",
              "</style>\n",
              "<table border=\"1\" class=\"dataframe\">\n",
              "  <thead>\n",
              "    <tr style=\"text-align: right;\">\n",
              "      <th></th>\n",
              "      <th>count</th>\n",
              "      <th>mean</th>\n",
              "      <th>std</th>\n",
              "      <th>min</th>\n",
              "      <th>25%</th>\n",
              "      <th>50%</th>\n",
              "      <th>75%</th>\n",
              "      <th>max</th>\n",
              "    </tr>\n",
              "  </thead>\n",
              "  <tbody>\n",
              "    <tr>\n",
              "      <th>OP_CARRIER_AIRLINE_ID</th>\n",
              "      <td>237,644.00</td>\n",
              "      <td>20,152.00</td>\n",
              "      <td>297.88</td>\n",
              "      <td>19,690.00</td>\n",
              "      <td>19,790.00</td>\n",
              "      <td>20,363.00</td>\n",
              "      <td>20,409.00</td>\n",
              "      <td>21,171.00</td>\n",
              "    </tr>\n",
              "    <tr>\n",
              "      <th>CRS_DEP_TIME</th>\n",
              "      <td>250,152.00</td>\n",
              "      <td>1,334.61</td>\n",
              "      <td>529.10</td>\n",
              "      <td>3.00</td>\n",
              "      <td>915.00</td>\n",
              "      <td>1,258.00</td>\n",
              "      <td>1,744.00</td>\n",
              "      <td>2,359.00</td>\n",
              "    </tr>\n",
              "    <tr>\n",
              "      <th>TAXI_OUT</th>\n",
              "      <td>232,641.00</td>\n",
              "      <td>18.19</td>\n",
              "      <td>9.61</td>\n",
              "      <td>1.00</td>\n",
              "      <td>12.00</td>\n",
              "      <td>16.00</td>\n",
              "      <td>21.00</td>\n",
              "      <td>166.00</td>\n",
              "    </tr>\n",
              "    <tr>\n",
              "      <th>CRS_ARR_TIME</th>\n",
              "      <td>250,152.00</td>\n",
              "      <td>1,419.13</td>\n",
              "      <td>580.99</td>\n",
              "      <td>1.00</td>\n",
              "      <td>944.00</td>\n",
              "      <td>1,455.00</td>\n",
              "      <td>1,914.00</td>\n",
              "      <td>2,400.00</td>\n",
              "    </tr>\n",
              "    <tr>\n",
              "      <th>ARR_DEL15</th>\n",
              "      <td>250,152.00</td>\n",
              "      <td>0.21</td>\n",
              "      <td>0.41</td>\n",
              "      <td>0.00</td>\n",
              "      <td>0.00</td>\n",
              "      <td>0.00</td>\n",
              "      <td>0.00</td>\n",
              "      <td>1.00</td>\n",
              "    </tr>\n",
              "    <tr>\n",
              "      <th>CRS_ELAPSED_TIME</th>\n",
              "      <td>250,152.00</td>\n",
              "      <td>195.65</td>\n",
              "      <td>97.37</td>\n",
              "      <td>47.00</td>\n",
              "      <td>109.00</td>\n",
              "      <td>167.00</td>\n",
              "      <td>306.00</td>\n",
              "      <td>595.00</td>\n",
              "    </tr>\n",
              "    <tr>\n",
              "      <th>DISTANCE</th>\n",
              "      <td>250,152.00</td>\n",
              "      <td>1,258.84</td>\n",
              "      <td>898.12</td>\n",
              "      <td>94.00</td>\n",
              "      <td>427.00</td>\n",
              "      <td>1,028.00</td>\n",
              "      <td>2,248.00</td>\n",
              "      <td>4,983.00</td>\n",
              "    </tr>\n",
              "  </tbody>\n",
              "</table>\n",
              "</div>\n",
              "    <div class=\"colab-df-buttons\">\n",
              "\n",
              "  <div class=\"colab-df-container\">\n",
              "    <button class=\"colab-df-convert\" onclick=\"convertToInteractive('df-950bbc3e-f6cf-43c1-b935-8c379af003f5')\"\n",
              "            title=\"Convert this dataframe to an interactive table.\"\n",
              "            style=\"display:none;\">\n",
              "\n",
              "  <svg xmlns=\"http://www.w3.org/2000/svg\" height=\"24px\" viewBox=\"0 -960 960 960\">\n",
              "    <path d=\"M120-120v-720h720v720H120Zm60-500h600v-160H180v160Zm220 220h160v-160H400v160Zm0 220h160v-160H400v160ZM180-400h160v-160H180v160Zm440 0h160v-160H620v160ZM180-180h160v-160H180v160Zm440 0h160v-160H620v160Z\"/>\n",
              "  </svg>\n",
              "    </button>\n",
              "\n",
              "  <style>\n",
              "    .colab-df-container {\n",
              "      display:flex;\n",
              "      gap: 12px;\n",
              "    }\n",
              "\n",
              "    .colab-df-convert {\n",
              "      background-color: #E8F0FE;\n",
              "      border: none;\n",
              "      border-radius: 50%;\n",
              "      cursor: pointer;\n",
              "      display: none;\n",
              "      fill: #1967D2;\n",
              "      height: 32px;\n",
              "      padding: 0 0 0 0;\n",
              "      width: 32px;\n",
              "    }\n",
              "\n",
              "    .colab-df-convert:hover {\n",
              "      background-color: #E2EBFA;\n",
              "      box-shadow: 0px 1px 2px rgba(60, 64, 67, 0.3), 0px 1px 3px 1px rgba(60, 64, 67, 0.15);\n",
              "      fill: #174EA6;\n",
              "    }\n",
              "\n",
              "    .colab-df-buttons div {\n",
              "      margin-bottom: 4px;\n",
              "    }\n",
              "\n",
              "    [theme=dark] .colab-df-convert {\n",
              "      background-color: #3B4455;\n",
              "      fill: #D2E3FC;\n",
              "    }\n",
              "\n",
              "    [theme=dark] .colab-df-convert:hover {\n",
              "      background-color: #434B5C;\n",
              "      box-shadow: 0px 1px 3px 1px rgba(0, 0, 0, 0.15);\n",
              "      filter: drop-shadow(0px 1px 2px rgba(0, 0, 0, 0.3));\n",
              "      fill: #FFFFFF;\n",
              "    }\n",
              "  </style>\n",
              "\n",
              "    <script>\n",
              "      const buttonEl =\n",
              "        document.querySelector('#df-950bbc3e-f6cf-43c1-b935-8c379af003f5 button.colab-df-convert');\n",
              "      buttonEl.style.display =\n",
              "        google.colab.kernel.accessAllowed ? 'block' : 'none';\n",
              "\n",
              "      async function convertToInteractive(key) {\n",
              "        const element = document.querySelector('#df-950bbc3e-f6cf-43c1-b935-8c379af003f5');\n",
              "        const dataTable =\n",
              "          await google.colab.kernel.invokeFunction('convertToInteractive',\n",
              "                                                    [key], {});\n",
              "        if (!dataTable) return;\n",
              "\n",
              "        const docLinkHtml = 'Like what you see? Visit the ' +\n",
              "          '<a target=\"_blank\" href=https://colab.research.google.com/notebooks/data_table.ipynb>data table notebook</a>'\n",
              "          + ' to learn more about interactive tables.';\n",
              "        element.innerHTML = '';\n",
              "        dataTable['output_type'] = 'display_data';\n",
              "        await google.colab.output.renderOutput(dataTable, element);\n",
              "        const docLink = document.createElement('div');\n",
              "        docLink.innerHTML = docLinkHtml;\n",
              "        element.appendChild(docLink);\n",
              "      }\n",
              "    </script>\n",
              "  </div>\n",
              "\n",
              "\n",
              "<div id=\"df-7df58b92-3d6d-4079-844b-4560ed29d12a\">\n",
              "  <button class=\"colab-df-quickchart\" onclick=\"quickchart('df-7df58b92-3d6d-4079-844b-4560ed29d12a')\"\n",
              "            title=\"Suggest charts\"\n",
              "            style=\"display:none;\">\n",
              "\n",
              "<svg xmlns=\"http://www.w3.org/2000/svg\" height=\"24px\"viewBox=\"0 0 24 24\"\n",
              "     width=\"24px\">\n",
              "    <g>\n",
              "        <path d=\"M19 3H5c-1.1 0-2 .9-2 2v14c0 1.1.9 2 2 2h14c1.1 0 2-.9 2-2V5c0-1.1-.9-2-2-2zM9 17H7v-7h2v7zm4 0h-2V7h2v10zm4 0h-2v-4h2v4z\"/>\n",
              "    </g>\n",
              "</svg>\n",
              "  </button>\n",
              "\n",
              "<style>\n",
              "  .colab-df-quickchart {\n",
              "      --bg-color: #E8F0FE;\n",
              "      --fill-color: #1967D2;\n",
              "      --hover-bg-color: #E2EBFA;\n",
              "      --hover-fill-color: #174EA6;\n",
              "      --disabled-fill-color: #AAA;\n",
              "      --disabled-bg-color: #DDD;\n",
              "  }\n",
              "\n",
              "  [theme=dark] .colab-df-quickchart {\n",
              "      --bg-color: #3B4455;\n",
              "      --fill-color: #D2E3FC;\n",
              "      --hover-bg-color: #434B5C;\n",
              "      --hover-fill-color: #FFFFFF;\n",
              "      --disabled-bg-color: #3B4455;\n",
              "      --disabled-fill-color: #666;\n",
              "  }\n",
              "\n",
              "  .colab-df-quickchart {\n",
              "    background-color: var(--bg-color);\n",
              "    border: none;\n",
              "    border-radius: 50%;\n",
              "    cursor: pointer;\n",
              "    display: none;\n",
              "    fill: var(--fill-color);\n",
              "    height: 32px;\n",
              "    padding: 0;\n",
              "    width: 32px;\n",
              "  }\n",
              "\n",
              "  .colab-df-quickchart:hover {\n",
              "    background-color: var(--hover-bg-color);\n",
              "    box-shadow: 0 1px 2px rgba(60, 64, 67, 0.3), 0 1px 3px 1px rgba(60, 64, 67, 0.15);\n",
              "    fill: var(--button-hover-fill-color);\n",
              "  }\n",
              "\n",
              "  .colab-df-quickchart-complete:disabled,\n",
              "  .colab-df-quickchart-complete:disabled:hover {\n",
              "    background-color: var(--disabled-bg-color);\n",
              "    fill: var(--disabled-fill-color);\n",
              "    box-shadow: none;\n",
              "  }\n",
              "\n",
              "  .colab-df-spinner {\n",
              "    border: 2px solid var(--fill-color);\n",
              "    border-color: transparent;\n",
              "    border-bottom-color: var(--fill-color);\n",
              "    animation:\n",
              "      spin 1s steps(1) infinite;\n",
              "  }\n",
              "\n",
              "  @keyframes spin {\n",
              "    0% {\n",
              "      border-color: transparent;\n",
              "      border-bottom-color: var(--fill-color);\n",
              "      border-left-color: var(--fill-color);\n",
              "    }\n",
              "    20% {\n",
              "      border-color: transparent;\n",
              "      border-left-color: var(--fill-color);\n",
              "      border-top-color: var(--fill-color);\n",
              "    }\n",
              "    30% {\n",
              "      border-color: transparent;\n",
              "      border-left-color: var(--fill-color);\n",
              "      border-top-color: var(--fill-color);\n",
              "      border-right-color: var(--fill-color);\n",
              "    }\n",
              "    40% {\n",
              "      border-color: transparent;\n",
              "      border-right-color: var(--fill-color);\n",
              "      border-top-color: var(--fill-color);\n",
              "    }\n",
              "    60% {\n",
              "      border-color: transparent;\n",
              "      border-right-color: var(--fill-color);\n",
              "    }\n",
              "    80% {\n",
              "      border-color: transparent;\n",
              "      border-right-color: var(--fill-color);\n",
              "      border-bottom-color: var(--fill-color);\n",
              "    }\n",
              "    90% {\n",
              "      border-color: transparent;\n",
              "      border-bottom-color: var(--fill-color);\n",
              "    }\n",
              "  }\n",
              "</style>\n",
              "\n",
              "  <script>\n",
              "    async function quickchart(key) {\n",
              "      const quickchartButtonEl =\n",
              "        document.querySelector('#' + key + ' button');\n",
              "      quickchartButtonEl.disabled = true;  // To prevent multiple clicks.\n",
              "      quickchartButtonEl.classList.add('colab-df-spinner');\n",
              "      try {\n",
              "        const charts = await google.colab.kernel.invokeFunction(\n",
              "            'suggestCharts', [key], {});\n",
              "      } catch (error) {\n",
              "        console.error('Error during call to suggestCharts:', error);\n",
              "      }\n",
              "      quickchartButtonEl.classList.remove('colab-df-spinner');\n",
              "      quickchartButtonEl.classList.add('colab-df-quickchart-complete');\n",
              "    }\n",
              "    (() => {\n",
              "      let quickchartButtonEl =\n",
              "        document.querySelector('#df-7df58b92-3d6d-4079-844b-4560ed29d12a button');\n",
              "      quickchartButtonEl.style.display =\n",
              "        google.colab.kernel.accessAllowed ? 'block' : 'none';\n",
              "    })();\n",
              "  </script>\n",
              "</div>\n",
              "\n",
              "    </div>\n",
              "  </div>\n"
            ],
            "application/vnd.google.colaboratory.intrinsic+json": {
              "type": "dataframe",
              "summary": "{\n  \"name\": \"#2;41\",\n  \"rows\": 7,\n  \"fields\": [\n    {\n      \"column\": \"count\",\n      \"properties\": {\n        \"dtype\": \"number\",\n        \"std\": 7464.927413291725,\n        \"min\": 232641.0,\n        \"max\": 250152.0,\n        \"num_unique_values\": 3,\n        \"samples\": [\n          237644.0,\n          250152.0,\n          232641.0\n        ],\n        \"semantic_type\": \"\",\n        \"description\": \"\"\n      }\n    },\n    {\n      \"column\": \"mean\",\n      \"properties\": {\n        \"dtype\": \"number\",\n        \"std\": 7378.109480778722,\n        \"min\": 0.21040007675333397,\n        \"max\": 20152.000736395617,\n        \"num_unique_values\": 7,\n        \"samples\": [\n          20152.000736395617,\n          1334.6111644120374,\n          195.64770619463366\n        ],\n        \"semantic_type\": \"\",\n        \"description\": \"\"\n      }\n    },\n    {\n      \"column\": \"std\",\n      \"properties\": {\n        \"dtype\": \"number\",\n        \"std\": 339.18744476338514,\n        \"min\": 0.4075936071412918,\n        \"max\": 898.1161627579947,\n        \"num_unique_values\": 7,\n        \"samples\": [\n          297.88192931747346,\n          529.1003850722607,\n          97.37433913211031\n        ],\n        \"semantic_type\": \"\",\n        \"description\": \"\"\n      }\n    },\n    {\n      \"column\": \"min\",\n      \"properties\": {\n        \"dtype\": \"number\",\n        \"std\": 7433.007460292361,\n        \"min\": 0.0,\n        \"max\": 19690.0,\n        \"num_unique_values\": 6,\n        \"samples\": [\n          19690.0,\n          3.0,\n          94.0\n        ],\n        \"semantic_type\": \"\",\n        \"description\": \"\"\n      }\n    },\n    {\n      \"column\": \"25%\",\n      \"properties\": {\n        \"dtype\": \"number\",\n        \"std\": 7339.165801824255,\n        \"min\": 0.0,\n        \"max\": 19790.0,\n        \"num_unique_values\": 7,\n        \"samples\": [\n          19790.0,\n          915.0,\n          109.0\n        ],\n        \"semantic_type\": \"\",\n        \"description\": \"\"\n      }\n    },\n    {\n      \"column\": \"50%\",\n      \"properties\": {\n        \"dtype\": \"number\",\n        \"std\": 7474.07525733993,\n        \"min\": 0.0,\n        \"max\": 20363.0,\n        \"num_unique_values\": 7,\n        \"samples\": [\n          20363.0,\n          1258.0,\n          167.0\n        ],\n        \"semantic_type\": \"\",\n        \"description\": \"\"\n      }\n    },\n    {\n      \"column\": \"75%\",\n      \"properties\": {\n        \"dtype\": \"number\",\n        \"std\": 7382.189625488271,\n        \"min\": 0.0,\n        \"max\": 20409.0,\n        \"num_unique_values\": 7,\n        \"samples\": [\n          20409.0,\n          1744.0,\n          306.0\n        ],\n        \"semantic_type\": \"\",\n        \"description\": \"\"\n      }\n    },\n    {\n      \"column\": \"max\",\n      \"properties\": {\n        \"dtype\": \"number\",\n        \"std\": 7543.414545151287,\n        \"min\": 1.0,\n        \"max\": 21171.0,\n        \"num_unique_values\": 7,\n        \"samples\": [\n          21171.0,\n          2359.0,\n          595.0\n        ],\n        \"semantic_type\": \"\",\n        \"description\": \"\"\n      }\n    }\n  ]\n}"
            }
          },
          "metadata": {},
          "execution_count": 9
        }
      ]
    },
    {
      "cell_type": "code",
      "source": [
        "df.reset_index(drop=True, inplace=True)"
      ],
      "metadata": {
        "id": "1w_Cx3VyGUmj"
      },
      "execution_count": 10,
      "outputs": []
    },
    {
      "cell_type": "code",
      "source": [
        "df_weather=pd.read_csv(url_weather, index_col=0) #granularidad fecha y hora\n",
        "print(df_weather)"
      ],
      "metadata": {
        "colab": {
          "base_uri": "https://localhost:8080/"
        },
        "id": "u8ruiqnBGgEz",
        "outputId": "e8919a77-9483-4391-c3df-dab0f6500558"
      },
      "execution_count": 18,
      "outputs": [
        {
          "output_type": "stream",
          "name": "stdout",
          "text": [
            "                  temperature_2m (°C)  precipitation (mm)  rain (mm)  \\\n",
            "time                                                                   \n",
            "2016-01-01T00:00                 7.60                0.00       0.00   \n",
            "2016-01-01T01:00                 7.50                0.00       0.00   \n",
            "2016-01-01T02:00                 7.10                0.00       0.00   \n",
            "2016-01-01T03:00                 6.60                0.00       0.00   \n",
            "2016-01-01T04:00                 6.30                0.00       0.00   \n",
            "...                               ...                 ...        ...   \n",
            "2022-10-25T19:00                  NaN                 NaN        NaN   \n",
            "2022-10-25T20:00                  NaN                 NaN        NaN   \n",
            "2022-10-25T21:00                  NaN                 NaN        NaN   \n",
            "2022-10-25T22:00                  NaN                 NaN        NaN   \n",
            "2022-10-25T23:00                  NaN                 NaN        NaN   \n",
            "\n",
            "                  cloudcover (%)  cloudcover_low (%)  cloudcover_mid (%)  \\\n",
            "time                                                                       \n",
            "2016-01-01T00:00           69.00               53.00                0.00   \n",
            "2016-01-01T01:00           20.00                4.00                0.00   \n",
            "2016-01-01T02:00           32.00                3.00                0.00   \n",
            "2016-01-01T03:00           35.00                5.00                0.00   \n",
            "2016-01-01T04:00           34.00                4.00                0.00   \n",
            "...                          ...                 ...                 ...   \n",
            "2022-10-25T19:00             NaN                 NaN                 NaN   \n",
            "2022-10-25T20:00             NaN                 NaN                 NaN   \n",
            "2022-10-25T21:00             NaN                 NaN                 NaN   \n",
            "2022-10-25T22:00             NaN                 NaN                 NaN   \n",
            "2022-10-25T23:00             NaN                 NaN                 NaN   \n",
            "\n",
            "                  cloudcover_high (%)  windspeed_10m (km/h)  \\\n",
            "time                                                          \n",
            "2016-01-01T00:00                72.00                 10.00   \n",
            "2016-01-01T01:00                56.00                  9.80   \n",
            "2016-01-01T02:00                99.00                  9.70   \n",
            "2016-01-01T03:00               100.00                  9.20   \n",
            "2016-01-01T04:00               100.00                  9.10   \n",
            "...                               ...                   ...   \n",
            "2022-10-25T19:00                  NaN                   NaN   \n",
            "2022-10-25T20:00                  NaN                   NaN   \n",
            "2022-10-25T21:00                  NaN                   NaN   \n",
            "2022-10-25T22:00                  NaN                   NaN   \n",
            "2022-10-25T23:00                  NaN                   NaN   \n",
            "\n",
            "                  winddirection_10m (°)  \n",
            "time                                     \n",
            "2016-01-01T00:00                 296.00  \n",
            "2016-01-01T01:00                 287.00  \n",
            "2016-01-01T02:00                 285.00  \n",
            "2016-01-01T03:00                 281.00  \n",
            "2016-01-01T04:00                 279.00  \n",
            "...                                 ...  \n",
            "2022-10-25T19:00                    NaN  \n",
            "2022-10-25T20:00                    NaN  \n",
            "2022-10-25T21:00                    NaN  \n",
            "2022-10-25T22:00                    NaN  \n",
            "2022-10-25T23:00                    NaN  \n",
            "\n",
            "[59760 rows x 9 columns]\n"
          ]
        }
      ]
    },
    {
      "cell_type": "code",
      "source": [
        "df_weather.info()"
      ],
      "metadata": {
        "colab": {
          "base_uri": "https://localhost:8080/"
        },
        "id": "lH1rY8anHIqy",
        "outputId": "650fed17-656b-4ced-be25-d041675ac030"
      },
      "execution_count": 13,
      "outputs": [
        {
          "output_type": "stream",
          "name": "stdout",
          "text": [
            "<class 'pandas.core.frame.DataFrame'>\n",
            "Index: 59760 entries, 2016-01-01T00:00 to 2022-10-25T23:00\n",
            "Data columns (total 9 columns):\n",
            " #   Column                 Non-Null Count  Dtype  \n",
            "---  ------                 --------------  -----  \n",
            " 0   temperature_2m (°C)    59592 non-null  float64\n",
            " 1   precipitation (mm)     59592 non-null  float64\n",
            " 2   rain (mm)              59592 non-null  float64\n",
            " 3   cloudcover (%)         59592 non-null  float64\n",
            " 4   cloudcover_low (%)     59592 non-null  float64\n",
            " 5   cloudcover_mid (%)     59592 non-null  float64\n",
            " 6   cloudcover_high (%)    59592 non-null  float64\n",
            " 7   windspeed_10m (km/h)   59592 non-null  float64\n",
            " 8   winddirection_10m (°)  59587 non-null  float64\n",
            "dtypes: float64(9)\n",
            "memory usage: 4.6+ MB\n"
          ]
        }
      ]
    },
    {
      "cell_type": "code",
      "source": [
        "pd.to_datetime(df_weather['time'])"
      ],
      "metadata": {
        "colab": {
          "base_uri": "https://localhost:8080/",
          "height": 547
        },
        "id": "JrBj-e_oHvsB",
        "outputId": "24998756-a8ef-4505-9f22-026ea49f5eb4"
      },
      "execution_count": 22,
      "outputs": [
        {
          "output_type": "error",
          "ename": "KeyError",
          "evalue": "'time'",
          "traceback": [
            "\u001b[0;31m---------------------------------------------------------------------------\u001b[0m",
            "\u001b[0;31mKeyError\u001b[0m                                  Traceback (most recent call last)",
            "\u001b[0;32m/usr/local/lib/python3.11/dist-packages/pandas/core/indexes/base.py\u001b[0m in \u001b[0;36mget_loc\u001b[0;34m(self, key)\u001b[0m\n\u001b[1;32m   3804\u001b[0m         \u001b[0;32mtry\u001b[0m\u001b[0;34m:\u001b[0m\u001b[0;34m\u001b[0m\u001b[0;34m\u001b[0m\u001b[0m\n\u001b[0;32m-> 3805\u001b[0;31m             \u001b[0;32mreturn\u001b[0m \u001b[0mself\u001b[0m\u001b[0;34m.\u001b[0m\u001b[0m_engine\u001b[0m\u001b[0;34m.\u001b[0m\u001b[0mget_loc\u001b[0m\u001b[0;34m(\u001b[0m\u001b[0mcasted_key\u001b[0m\u001b[0;34m)\u001b[0m\u001b[0;34m\u001b[0m\u001b[0;34m\u001b[0m\u001b[0m\n\u001b[0m\u001b[1;32m   3806\u001b[0m         \u001b[0;32mexcept\u001b[0m \u001b[0mKeyError\u001b[0m \u001b[0;32mas\u001b[0m \u001b[0merr\u001b[0m\u001b[0;34m:\u001b[0m\u001b[0;34m\u001b[0m\u001b[0;34m\u001b[0m\u001b[0m\n",
            "\u001b[0;32mindex.pyx\u001b[0m in \u001b[0;36mpandas._libs.index.IndexEngine.get_loc\u001b[0;34m()\u001b[0m\n",
            "\u001b[0;32mindex.pyx\u001b[0m in \u001b[0;36mpandas._libs.index.IndexEngine.get_loc\u001b[0;34m()\u001b[0m\n",
            "\u001b[0;32mpandas/_libs/hashtable_class_helper.pxi\u001b[0m in \u001b[0;36mpandas._libs.hashtable.PyObjectHashTable.get_item\u001b[0;34m()\u001b[0m\n",
            "\u001b[0;32mpandas/_libs/hashtable_class_helper.pxi\u001b[0m in \u001b[0;36mpandas._libs.hashtable.PyObjectHashTable.get_item\u001b[0;34m()\u001b[0m\n",
            "\u001b[0;31mKeyError\u001b[0m: 'time'",
            "\nThe above exception was the direct cause of the following exception:\n",
            "\u001b[0;31mKeyError\u001b[0m                                  Traceback (most recent call last)",
            "\u001b[0;32m<ipython-input-22-375d4173aea7>\u001b[0m in \u001b[0;36m<cell line: 0>\u001b[0;34m()\u001b[0m\n\u001b[0;32m----> 1\u001b[0;31m \u001b[0mpd\u001b[0m\u001b[0;34m.\u001b[0m\u001b[0mto_datetime\u001b[0m\u001b[0;34m(\u001b[0m\u001b[0mdf_weather\u001b[0m\u001b[0;34m[\u001b[0m\u001b[0;34m'time'\u001b[0m\u001b[0;34m]\u001b[0m\u001b[0;34m)\u001b[0m\u001b[0;34m\u001b[0m\u001b[0;34m\u001b[0m\u001b[0m\n\u001b[0m",
            "\u001b[0;32m/usr/local/lib/python3.11/dist-packages/pandas/core/frame.py\u001b[0m in \u001b[0;36m__getitem__\u001b[0;34m(self, key)\u001b[0m\n\u001b[1;32m   4100\u001b[0m             \u001b[0;32mif\u001b[0m \u001b[0mself\u001b[0m\u001b[0;34m.\u001b[0m\u001b[0mcolumns\u001b[0m\u001b[0;34m.\u001b[0m\u001b[0mnlevels\u001b[0m \u001b[0;34m>\u001b[0m \u001b[0;36m1\u001b[0m\u001b[0;34m:\u001b[0m\u001b[0;34m\u001b[0m\u001b[0;34m\u001b[0m\u001b[0m\n\u001b[1;32m   4101\u001b[0m                 \u001b[0;32mreturn\u001b[0m \u001b[0mself\u001b[0m\u001b[0;34m.\u001b[0m\u001b[0m_getitem_multilevel\u001b[0m\u001b[0;34m(\u001b[0m\u001b[0mkey\u001b[0m\u001b[0;34m)\u001b[0m\u001b[0;34m\u001b[0m\u001b[0;34m\u001b[0m\u001b[0m\n\u001b[0;32m-> 4102\u001b[0;31m             \u001b[0mindexer\u001b[0m \u001b[0;34m=\u001b[0m \u001b[0mself\u001b[0m\u001b[0;34m.\u001b[0m\u001b[0mcolumns\u001b[0m\u001b[0;34m.\u001b[0m\u001b[0mget_loc\u001b[0m\u001b[0;34m(\u001b[0m\u001b[0mkey\u001b[0m\u001b[0;34m)\u001b[0m\u001b[0;34m\u001b[0m\u001b[0;34m\u001b[0m\u001b[0m\n\u001b[0m\u001b[1;32m   4103\u001b[0m             \u001b[0;32mif\u001b[0m \u001b[0mis_integer\u001b[0m\u001b[0;34m(\u001b[0m\u001b[0mindexer\u001b[0m\u001b[0;34m)\u001b[0m\u001b[0;34m:\u001b[0m\u001b[0;34m\u001b[0m\u001b[0;34m\u001b[0m\u001b[0m\n\u001b[1;32m   4104\u001b[0m                 \u001b[0mindexer\u001b[0m \u001b[0;34m=\u001b[0m \u001b[0;34m[\u001b[0m\u001b[0mindexer\u001b[0m\u001b[0;34m]\u001b[0m\u001b[0;34m\u001b[0m\u001b[0;34m\u001b[0m\u001b[0m\n",
            "\u001b[0;32m/usr/local/lib/python3.11/dist-packages/pandas/core/indexes/base.py\u001b[0m in \u001b[0;36mget_loc\u001b[0;34m(self, key)\u001b[0m\n\u001b[1;32m   3810\u001b[0m             ):\n\u001b[1;32m   3811\u001b[0m                 \u001b[0;32mraise\u001b[0m \u001b[0mInvalidIndexError\u001b[0m\u001b[0;34m(\u001b[0m\u001b[0mkey\u001b[0m\u001b[0;34m)\u001b[0m\u001b[0;34m\u001b[0m\u001b[0;34m\u001b[0m\u001b[0m\n\u001b[0;32m-> 3812\u001b[0;31m             \u001b[0;32mraise\u001b[0m \u001b[0mKeyError\u001b[0m\u001b[0;34m(\u001b[0m\u001b[0mkey\u001b[0m\u001b[0;34m)\u001b[0m \u001b[0;32mfrom\u001b[0m \u001b[0merr\u001b[0m\u001b[0;34m\u001b[0m\u001b[0;34m\u001b[0m\u001b[0m\n\u001b[0m\u001b[1;32m   3813\u001b[0m         \u001b[0;32mexcept\u001b[0m \u001b[0mTypeError\u001b[0m\u001b[0;34m:\u001b[0m\u001b[0;34m\u001b[0m\u001b[0;34m\u001b[0m\u001b[0m\n\u001b[1;32m   3814\u001b[0m             \u001b[0;31m# If we have a listlike key, _check_indexing_error will raise\u001b[0m\u001b[0;34m\u001b[0m\u001b[0;34m\u001b[0m\u001b[0m\n",
            "\u001b[0;31mKeyError\u001b[0m: 'time'"
          ]
        }
      ]
    }
  ]
}