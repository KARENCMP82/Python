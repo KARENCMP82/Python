{
  "cells": [
    {
      "cell_type": "markdown",
      "metadata": {
        "id": "view-in-github",
        "colab_type": "text"
      },
      "source": [
        "<a href=\"https://colab.research.google.com/github/KARENCMP82/Python/blob/main/4_PCA_CF_ANIME_RRB_26MAR25.ipynb\" target=\"_parent\"><img src=\"https://colab.research.google.com/assets/colab-badge.svg\" alt=\"Open In Colab\"/></a>"
      ]
    },
    {
      "cell_type": "markdown",
      "source": [
        "# **Nuclio Digital School - Máster en Data Science**\n",
        "\n",
        "# Unsupervised Learning: Reducción de la dimensionalidad y Collaborative filtering\n",
        "\n",
        "# *Profesora: Raquel Revilla*"
      ],
      "metadata": {
        "id": "P4gPnx3IJ9H6"
      }
    },
    {
      "cell_type": "markdown",
      "metadata": {
        "id": "Am3Jk5WUiizb"
      },
      "source": [
        "<a id = \"objetivos\"></a>\n",
        "# Objetivos del notebook\n",
        "[Volver al índice](#toc)\n",
        "\n",
        "Una de las áreas del machine learning con la cual interactuamos casi a diario son los modelos del Collaborative Filtering. Cada vez que nos conectamos a Instagram, Facebook, Amazon recibimos un feed personalizado de productos o servicios. En el notebook de esta sección, vamos a crear un feed personalizado para los fans de animes: **un feed estará basando en modelos de ML (KMeans)** y **otro feed será basado en la similitud de coseno.**\n",
        "\n",
        "El dataset que vamos a utilizar es un dataset de Animes japoneses y se puede descargar en el siguiente [enlace](https://www.kaggle.com/CooperUnion/anime-recommendations-database)\n",
        "\n",
        "![Data Model](https://drive.google.com/uc?export=view&id=11b0WFJxHM3R9Jm5ATir5f3OA_0h78Mu2)\n",
        "\n",
        "Nuestros principales objetivos serán:\n",
        "1. **Hacer una exploración inicial de los dos datasets** y entender la distribución de los datos.\n",
        "\n",
        "\n",
        "\n",
        "2. **Procesar el dataset (eliminar usuarios sin puntuaciones).**\n",
        "\n",
        "\n",
        "\n",
        "3. **Reducir la dimensionalidad de nuestro DataFrame utilizando el PCA.**\n",
        "\n",
        "\n",
        "4. **Segmentar nuestros clientes utilizando el dataset reducido.**\n",
        "\n",
        "\n",
        "5. **Utilizar la similitud del coseno para hacer recomendaciones a nuestro clientes (user and product based).**"
      ]
    },
    {
      "cell_type": "markdown",
      "metadata": {
        "id": "QhR8Vq8Hiizd"
      },
      "source": [
        "<a id = \"toc\"></a>\n",
        "# Índice\n",
        "\n",
        "[Importación de las principales librerías](#import_modules)\n",
        "\n",
        "[Importación de los datos](#import_data)\n",
        "\n",
        "[Exploratory Data Analysis (EDA)](#eda)\n",
        "\n",
        "---> [EDA anime df](#df1)\n",
        "\n",
        "---> [EDA ratings df](#df2)\n",
        "\n",
        "[Join final animes con ratings de usuarios](#join)\n",
        "\n",
        "[Reducción de la dimensionalidad con PCA](#pca)\n",
        "\n",
        "[Elbow curve, KMeans y recomendación basada en modelos de ML](#elbow_curve)\n",
        "\n",
        "[Calculamos la similitud entre usuarios y productos](#colaborative_filtering)\n",
        "\n",
        "[Recomendación \"user based\"](#recomendacion_usuarios)\n",
        "\n",
        "[Recomendación \"product based\"](#recomendacion_animes)\n",
        "\n",
        "[Conclusión](#conclusión)"
      ]
    },
    {
      "cell_type": "markdown",
      "metadata": {
        "id": "BBYNiypLiize"
      },
      "source": [
        "<a id = \"import_modules\"></a>\n",
        "# Importación de las principales librerías\n",
        "[Volver al índice](#toc)\n",
        "\n",
        "En esta sección del kernel vamos a cargar las principales librerías que vamos a usar en nuestro notebook."
      ]
    },
    {
      "cell_type": "code",
      "execution_count": 8,
      "metadata": {
        "ExecuteTime": {
          "end_time": "2021-11-14T16:00:42.583955Z",
          "start_time": "2021-11-14T16:00:40.106259Z"
        },
        "id": "f9it5ITmiizf"
      },
      "outputs": [],
      "source": [
        "# silence warnings\n",
        "import warnings\n",
        "warnings.filterwarnings(\"ignore\")\n",
        "\n",
        "# operating system\n",
        "import os\n",
        "\n",
        "# time calculation to track some processes\n",
        "import time\n",
        "\n",
        "# numeric and matrix operations\n",
        "import math\n",
        "import numpy as np\n",
        "import pandas as pd\n",
        "\n",
        "# scientific computations library\n",
        "import scipy as sp\n",
        "\n",
        "# loading ploting libraries\n",
        "import matplotlib.pyplot as plt\n",
        "%matplotlib inline\n",
        "\n",
        "# import the function to compute cosine_similarity\n",
        "from sklearn.metrics.pairwise import cosine_similarity\n",
        "from sklearn.decomposition import PCA\n",
        "from sklearn.cluster import KMeans\n",
        "from sklearn.impute import SimpleImputer"
      ]
    },
    {
      "cell_type": "code",
      "execution_count": 9,
      "metadata": {
        "id": "37AAiYy3iizg",
        "colab": {
          "base_uri": "https://localhost:8080/"
        },
        "outputId": "72c9d916-cfed-4a7f-9631-a71aa0a626a2"
      },
      "outputs": [
        {
          "output_type": "stream",
          "name": "stdout",
          "text": [
            "Drive already mounted at /content/drive; to attempt to forcibly remount, call drive.mount(\"/content/drive\", force_remount=True).\n"
          ]
        }
      ],
      "source": [
        "from google.colab import drive\n",
        "drive.mount('/content/drive')"
      ]
    },
    {
      "cell_type": "code",
      "execution_count": 10,
      "metadata": {
        "id": "4nNkpGWeiizg"
      },
      "outputs": [],
      "source": [
        "anime_df=pd.read_csv(\"/content/drive/MyDrive/Colab Notebooks/Ejercicios/rating.csv\")\n",
        "rating=pd.read_csv(\"/content/drive/MyDrive/Colab Notebooks/Ejercicios/anime.csv\")"
      ]
    },
    {
      "cell_type": "markdown",
      "metadata": {
        "id": "McoUp1mhiizg"
      },
      "source": [
        "<a id = \"import_data\"></a>\n",
        "# Importación de los datos\n",
        "[Volver al índice](#toc)\n",
        "\n",
        "En la presente sección del kernel vamos a cargar los principales datasets que vamos a usar para construir nuestro recomendador."
      ]
    },
    {
      "cell_type": "code",
      "execution_count": 11,
      "metadata": {
        "ExecuteTime": {
          "end_time": "2021-11-14T16:00:42.584951Z",
          "start_time": "2021-11-14T16:00:40.109Z"
        },
        "id": "YddQexWuiizh"
      },
      "outputs": [],
      "source": [
        "#PATH_ANIME = os.path.join(PATH_FOLDER, 'cf_anime.parquet.gzip')\n",
        "\n",
        "#anime_df = pd.read_parquet(PATH_ANIME)"
      ]
    },
    {
      "cell_type": "code",
      "execution_count": 12,
      "metadata": {
        "ExecuteTime": {
          "end_time": "2021-11-14T16:00:42.585946Z",
          "start_time": "2021-11-14T16:00:40.113Z"
        },
        "id": "rHSNjXa1iizh"
      },
      "outputs": [],
      "source": [
        "#PATH_RATING = os.path.join(PATH_FOLDER, 'cf_rating.parquet.gzip')\n",
        "\n",
        " #rating_df = pd.read_parquet(PATH_RATING)"
      ]
    },
    {
      "cell_type": "markdown",
      "metadata": {
        "id": "NAZQja6xiizh"
      },
      "source": [
        "<a id = \"eda\"></a>\n",
        "# Exploratory Data Analysis (EDA)\n",
        "[Volver al índice](#toc)\n",
        "\n",
        "En la sección del EDA haremos **una primera aproximación a nuestros datos** para ver su composición y que variables tenemos a nuestra disposición."
      ]
    },
    {
      "cell_type": "markdown",
      "metadata": {
        "id": "uqO8ppUKiizi"
      },
      "source": [
        "<a id = \"df1\"></a>\n",
        "# EDA anime df\n",
        "[Volver al índice](#toc)\n",
        "\n",
        "EDA rápido sobre el **dataset de anime.**"
      ]
    },
    {
      "cell_type": "code",
      "execution_count": 13,
      "metadata": {
        "ExecuteTime": {
          "end_time": "2021-11-14T16:00:42.588940Z",
          "start_time": "2021-11-14T16:00:40.121Z"
        },
        "id": "QKDpY6uOiizi"
      },
      "outputs": [],
      "source": [
        "def report_df(df, verbose = True):\n",
        "    '''\n",
        "    Hace un report simple sobre el DataFrame suministrado.\n",
        "    '''\n",
        "    print(df.info(verbose = verbose))\n",
        "    total_nulos = df.isnull().sum().sum()\n",
        "    print()\n",
        "    print(f\"Tenemos un total de {total_nulos} nulos\")"
      ]
    },
    {
      "cell_type": "code",
      "execution_count": 14,
      "metadata": {
        "ExecuteTime": {
          "end_time": "2021-11-14T16:00:42.590934Z",
          "start_time": "2021-11-14T16:00:40.127Z"
        },
        "id": "MwcNNSZNiizj",
        "colab": {
          "base_uri": "https://localhost:8080/",
          "height": 432
        },
        "outputId": "6f5562cd-97c1-47e9-e7c1-ccf6c06a7f4b"
      },
      "outputs": [
        {
          "output_type": "stream",
          "name": "stdout",
          "text": [
            "<class 'pandas.core.frame.DataFrame'>\n",
            "RangeIndex: 7813737 entries, 0 to 7813736\n",
            "Data columns (total 3 columns):\n",
            " #   Column    Dtype\n",
            "---  ------    -----\n",
            " 0   user_id   int64\n",
            " 1   anime_id  int64\n",
            " 2   rating    int64\n",
            "dtypes: int64(3)\n",
            "memory usage: 178.8 MB\n",
            "None\n",
            "\n",
            "Tenemos un total de 0 nulos\n"
          ]
        },
        {
          "output_type": "execute_result",
          "data": {
            "text/plain": [
              "   user_id  anime_id  rating\n",
              "0        1        20      -1\n",
              "1        1        24      -1\n",
              "2        1        79      -1\n",
              "3        1       226      -1\n",
              "4        1       241      -1"
            ],
            "text/html": [
              "\n",
              "  <div id=\"df-6c23f4cf-306e-499b-83b7-135b0cb0857d\" class=\"colab-df-container\">\n",
              "    <div>\n",
              "<style scoped>\n",
              "    .dataframe tbody tr th:only-of-type {\n",
              "        vertical-align: middle;\n",
              "    }\n",
              "\n",
              "    .dataframe tbody tr th {\n",
              "        vertical-align: top;\n",
              "    }\n",
              "\n",
              "    .dataframe thead th {\n",
              "        text-align: right;\n",
              "    }\n",
              "</style>\n",
              "<table border=\"1\" class=\"dataframe\">\n",
              "  <thead>\n",
              "    <tr style=\"text-align: right;\">\n",
              "      <th></th>\n",
              "      <th>user_id</th>\n",
              "      <th>anime_id</th>\n",
              "      <th>rating</th>\n",
              "    </tr>\n",
              "  </thead>\n",
              "  <tbody>\n",
              "    <tr>\n",
              "      <th>0</th>\n",
              "      <td>1</td>\n",
              "      <td>20</td>\n",
              "      <td>-1</td>\n",
              "    </tr>\n",
              "    <tr>\n",
              "      <th>1</th>\n",
              "      <td>1</td>\n",
              "      <td>24</td>\n",
              "      <td>-1</td>\n",
              "    </tr>\n",
              "    <tr>\n",
              "      <th>2</th>\n",
              "      <td>1</td>\n",
              "      <td>79</td>\n",
              "      <td>-1</td>\n",
              "    </tr>\n",
              "    <tr>\n",
              "      <th>3</th>\n",
              "      <td>1</td>\n",
              "      <td>226</td>\n",
              "      <td>-1</td>\n",
              "    </tr>\n",
              "    <tr>\n",
              "      <th>4</th>\n",
              "      <td>1</td>\n",
              "      <td>241</td>\n",
              "      <td>-1</td>\n",
              "    </tr>\n",
              "  </tbody>\n",
              "</table>\n",
              "</div>\n",
              "    <div class=\"colab-df-buttons\">\n",
              "\n",
              "  <div class=\"colab-df-container\">\n",
              "    <button class=\"colab-df-convert\" onclick=\"convertToInteractive('df-6c23f4cf-306e-499b-83b7-135b0cb0857d')\"\n",
              "            title=\"Convert this dataframe to an interactive table.\"\n",
              "            style=\"display:none;\">\n",
              "\n",
              "  <svg xmlns=\"http://www.w3.org/2000/svg\" height=\"24px\" viewBox=\"0 -960 960 960\">\n",
              "    <path d=\"M120-120v-720h720v720H120Zm60-500h600v-160H180v160Zm220 220h160v-160H400v160Zm0 220h160v-160H400v160ZM180-400h160v-160H180v160Zm440 0h160v-160H620v160ZM180-180h160v-160H180v160Zm440 0h160v-160H620v160Z\"/>\n",
              "  </svg>\n",
              "    </button>\n",
              "\n",
              "  <style>\n",
              "    .colab-df-container {\n",
              "      display:flex;\n",
              "      gap: 12px;\n",
              "    }\n",
              "\n",
              "    .colab-df-convert {\n",
              "      background-color: #E8F0FE;\n",
              "      border: none;\n",
              "      border-radius: 50%;\n",
              "      cursor: pointer;\n",
              "      display: none;\n",
              "      fill: #1967D2;\n",
              "      height: 32px;\n",
              "      padding: 0 0 0 0;\n",
              "      width: 32px;\n",
              "    }\n",
              "\n",
              "    .colab-df-convert:hover {\n",
              "      background-color: #E2EBFA;\n",
              "      box-shadow: 0px 1px 2px rgba(60, 64, 67, 0.3), 0px 1px 3px 1px rgba(60, 64, 67, 0.15);\n",
              "      fill: #174EA6;\n",
              "    }\n",
              "\n",
              "    .colab-df-buttons div {\n",
              "      margin-bottom: 4px;\n",
              "    }\n",
              "\n",
              "    [theme=dark] .colab-df-convert {\n",
              "      background-color: #3B4455;\n",
              "      fill: #D2E3FC;\n",
              "    }\n",
              "\n",
              "    [theme=dark] .colab-df-convert:hover {\n",
              "      background-color: #434B5C;\n",
              "      box-shadow: 0px 1px 3px 1px rgba(0, 0, 0, 0.15);\n",
              "      filter: drop-shadow(0px 1px 2px rgba(0, 0, 0, 0.3));\n",
              "      fill: #FFFFFF;\n",
              "    }\n",
              "  </style>\n",
              "\n",
              "    <script>\n",
              "      const buttonEl =\n",
              "        document.querySelector('#df-6c23f4cf-306e-499b-83b7-135b0cb0857d button.colab-df-convert');\n",
              "      buttonEl.style.display =\n",
              "        google.colab.kernel.accessAllowed ? 'block' : 'none';\n",
              "\n",
              "      async function convertToInteractive(key) {\n",
              "        const element = document.querySelector('#df-6c23f4cf-306e-499b-83b7-135b0cb0857d');\n",
              "        const dataTable =\n",
              "          await google.colab.kernel.invokeFunction('convertToInteractive',\n",
              "                                                    [key], {});\n",
              "        if (!dataTable) return;\n",
              "\n",
              "        const docLinkHtml = 'Like what you see? Visit the ' +\n",
              "          '<a target=\"_blank\" href=https://colab.research.google.com/notebooks/data_table.ipynb>data table notebook</a>'\n",
              "          + ' to learn more about interactive tables.';\n",
              "        element.innerHTML = '';\n",
              "        dataTable['output_type'] = 'display_data';\n",
              "        await google.colab.output.renderOutput(dataTable, element);\n",
              "        const docLink = document.createElement('div');\n",
              "        docLink.innerHTML = docLinkHtml;\n",
              "        element.appendChild(docLink);\n",
              "      }\n",
              "    </script>\n",
              "  </div>\n",
              "\n",
              "\n",
              "<div id=\"df-45f7f0fd-0198-4a1d-a4ce-6075f31f64f8\">\n",
              "  <button class=\"colab-df-quickchart\" onclick=\"quickchart('df-45f7f0fd-0198-4a1d-a4ce-6075f31f64f8')\"\n",
              "            title=\"Suggest charts\"\n",
              "            style=\"display:none;\">\n",
              "\n",
              "<svg xmlns=\"http://www.w3.org/2000/svg\" height=\"24px\"viewBox=\"0 0 24 24\"\n",
              "     width=\"24px\">\n",
              "    <g>\n",
              "        <path d=\"M19 3H5c-1.1 0-2 .9-2 2v14c0 1.1.9 2 2 2h14c1.1 0 2-.9 2-2V5c0-1.1-.9-2-2-2zM9 17H7v-7h2v7zm4 0h-2V7h2v10zm4 0h-2v-4h2v4z\"/>\n",
              "    </g>\n",
              "</svg>\n",
              "  </button>\n",
              "\n",
              "<style>\n",
              "  .colab-df-quickchart {\n",
              "      --bg-color: #E8F0FE;\n",
              "      --fill-color: #1967D2;\n",
              "      --hover-bg-color: #E2EBFA;\n",
              "      --hover-fill-color: #174EA6;\n",
              "      --disabled-fill-color: #AAA;\n",
              "      --disabled-bg-color: #DDD;\n",
              "  }\n",
              "\n",
              "  [theme=dark] .colab-df-quickchart {\n",
              "      --bg-color: #3B4455;\n",
              "      --fill-color: #D2E3FC;\n",
              "      --hover-bg-color: #434B5C;\n",
              "      --hover-fill-color: #FFFFFF;\n",
              "      --disabled-bg-color: #3B4455;\n",
              "      --disabled-fill-color: #666;\n",
              "  }\n",
              "\n",
              "  .colab-df-quickchart {\n",
              "    background-color: var(--bg-color);\n",
              "    border: none;\n",
              "    border-radius: 50%;\n",
              "    cursor: pointer;\n",
              "    display: none;\n",
              "    fill: var(--fill-color);\n",
              "    height: 32px;\n",
              "    padding: 0;\n",
              "    width: 32px;\n",
              "  }\n",
              "\n",
              "  .colab-df-quickchart:hover {\n",
              "    background-color: var(--hover-bg-color);\n",
              "    box-shadow: 0 1px 2px rgba(60, 64, 67, 0.3), 0 1px 3px 1px rgba(60, 64, 67, 0.15);\n",
              "    fill: var(--button-hover-fill-color);\n",
              "  }\n",
              "\n",
              "  .colab-df-quickchart-complete:disabled,\n",
              "  .colab-df-quickchart-complete:disabled:hover {\n",
              "    background-color: var(--disabled-bg-color);\n",
              "    fill: var(--disabled-fill-color);\n",
              "    box-shadow: none;\n",
              "  }\n",
              "\n",
              "  .colab-df-spinner {\n",
              "    border: 2px solid var(--fill-color);\n",
              "    border-color: transparent;\n",
              "    border-bottom-color: var(--fill-color);\n",
              "    animation:\n",
              "      spin 1s steps(1) infinite;\n",
              "  }\n",
              "\n",
              "  @keyframes spin {\n",
              "    0% {\n",
              "      border-color: transparent;\n",
              "      border-bottom-color: var(--fill-color);\n",
              "      border-left-color: var(--fill-color);\n",
              "    }\n",
              "    20% {\n",
              "      border-color: transparent;\n",
              "      border-left-color: var(--fill-color);\n",
              "      border-top-color: var(--fill-color);\n",
              "    }\n",
              "    30% {\n",
              "      border-color: transparent;\n",
              "      border-left-color: var(--fill-color);\n",
              "      border-top-color: var(--fill-color);\n",
              "      border-right-color: var(--fill-color);\n",
              "    }\n",
              "    40% {\n",
              "      border-color: transparent;\n",
              "      border-right-color: var(--fill-color);\n",
              "      border-top-color: var(--fill-color);\n",
              "    }\n",
              "    60% {\n",
              "      border-color: transparent;\n",
              "      border-right-color: var(--fill-color);\n",
              "    }\n",
              "    80% {\n",
              "      border-color: transparent;\n",
              "      border-right-color: var(--fill-color);\n",
              "      border-bottom-color: var(--fill-color);\n",
              "    }\n",
              "    90% {\n",
              "      border-color: transparent;\n",
              "      border-bottom-color: var(--fill-color);\n",
              "    }\n",
              "  }\n",
              "</style>\n",
              "\n",
              "  <script>\n",
              "    async function quickchart(key) {\n",
              "      const quickchartButtonEl =\n",
              "        document.querySelector('#' + key + ' button');\n",
              "      quickchartButtonEl.disabled = true;  // To prevent multiple clicks.\n",
              "      quickchartButtonEl.classList.add('colab-df-spinner');\n",
              "      try {\n",
              "        const charts = await google.colab.kernel.invokeFunction(\n",
              "            'suggestCharts', [key], {});\n",
              "      } catch (error) {\n",
              "        console.error('Error during call to suggestCharts:', error);\n",
              "      }\n",
              "      quickchartButtonEl.classList.remove('colab-df-spinner');\n",
              "      quickchartButtonEl.classList.add('colab-df-quickchart-complete');\n",
              "    }\n",
              "    (() => {\n",
              "      let quickchartButtonEl =\n",
              "        document.querySelector('#df-45f7f0fd-0198-4a1d-a4ce-6075f31f64f8 button');\n",
              "      quickchartButtonEl.style.display =\n",
              "        google.colab.kernel.accessAllowed ? 'block' : 'none';\n",
              "    })();\n",
              "  </script>\n",
              "</div>\n",
              "\n",
              "    </div>\n",
              "  </div>\n"
            ],
            "application/vnd.google.colaboratory.intrinsic+json": {
              "type": "dataframe",
              "variable_name": "anime_df"
            }
          },
          "metadata": {},
          "execution_count": 14
        }
      ],
      "source": [
        "report_df(anime_df)\n",
        "\n",
        "anime_df.head()"
      ]
    },
    {
      "cell_type": "markdown",
      "metadata": {
        "id": "Yy8Z3cTNiizj"
      },
      "source": [
        "Observamos que tenemos algunos nulos y tendremos que lidiar con ellos."
      ]
    },
    {
      "cell_type": "code",
      "execution_count": 15,
      "metadata": {
        "ExecuteTime": {
          "end_time": "2021-11-14T16:00:42.591932Z",
          "start_time": "2021-11-14T16:00:40.132Z"
        },
        "id": "5-9uUnL7iizk",
        "colab": {
          "base_uri": "https://localhost:8080/",
          "height": 178
        },
        "outputId": "55269305-3818-4f75-cedd-5bf157b8098f"
      },
      "outputs": [
        {
          "output_type": "execute_result",
          "data": {
            "text/plain": [
              "user_id     0\n",
              "anime_id    0\n",
              "rating      0\n",
              "dtype: int64"
            ],
            "text/html": [
              "<div>\n",
              "<style scoped>\n",
              "    .dataframe tbody tr th:only-of-type {\n",
              "        vertical-align: middle;\n",
              "    }\n",
              "\n",
              "    .dataframe tbody tr th {\n",
              "        vertical-align: top;\n",
              "    }\n",
              "\n",
              "    .dataframe thead th {\n",
              "        text-align: right;\n",
              "    }\n",
              "</style>\n",
              "<table border=\"1\" class=\"dataframe\">\n",
              "  <thead>\n",
              "    <tr style=\"text-align: right;\">\n",
              "      <th></th>\n",
              "      <th>0</th>\n",
              "    </tr>\n",
              "  </thead>\n",
              "  <tbody>\n",
              "    <tr>\n",
              "      <th>user_id</th>\n",
              "      <td>0</td>\n",
              "    </tr>\n",
              "    <tr>\n",
              "      <th>anime_id</th>\n",
              "      <td>0</td>\n",
              "    </tr>\n",
              "    <tr>\n",
              "      <th>rating</th>\n",
              "      <td>0</td>\n",
              "    </tr>\n",
              "  </tbody>\n",
              "</table>\n",
              "</div><br><label><b>dtype:</b> int64</label>"
            ]
          },
          "metadata": {},
          "execution_count": 15
        }
      ],
      "source": [
        "anime_df.isnull().sum()"
      ]
    },
    {
      "cell_type": "markdown",
      "metadata": {
        "id": "WICBZA9siizk"
      },
      "source": [
        "Por tipología de animes, vemos que el más popular es el de TV."
      ]
    },
    {
      "cell_type": "code",
      "execution_count": 17,
      "metadata": {
        "ExecuteTime": {
          "end_time": "2021-11-14T16:00:42.596919Z",
          "start_time": "2021-11-14T16:00:40.141Z"
        },
        "id": "BOLnHQRkiizk",
        "colab": {
          "base_uri": "https://localhost:8080/",
          "height": 547
        },
        "outputId": "f14d254e-a8fd-42e9-ce27-b8dbaa62476a"
      },
      "outputs": [
        {
          "output_type": "error",
          "ename": "KeyError",
          "evalue": "'type'",
          "traceback": [
            "\u001b[0;31m---------------------------------------------------------------------------\u001b[0m",
            "\u001b[0;31mKeyError\u001b[0m                                  Traceback (most recent call last)",
            "\u001b[0;32m/usr/local/lib/python3.11/dist-packages/pandas/core/indexes/base.py\u001b[0m in \u001b[0;36mget_loc\u001b[0;34m(self, key)\u001b[0m\n\u001b[1;32m   3804\u001b[0m         \u001b[0;32mtry\u001b[0m\u001b[0;34m:\u001b[0m\u001b[0;34m\u001b[0m\u001b[0;34m\u001b[0m\u001b[0m\n\u001b[0;32m-> 3805\u001b[0;31m             \u001b[0;32mreturn\u001b[0m \u001b[0mself\u001b[0m\u001b[0;34m.\u001b[0m\u001b[0m_engine\u001b[0m\u001b[0;34m.\u001b[0m\u001b[0mget_loc\u001b[0m\u001b[0;34m(\u001b[0m\u001b[0mcasted_key\u001b[0m\u001b[0;34m)\u001b[0m\u001b[0;34m\u001b[0m\u001b[0;34m\u001b[0m\u001b[0m\n\u001b[0m\u001b[1;32m   3806\u001b[0m         \u001b[0;32mexcept\u001b[0m \u001b[0mKeyError\u001b[0m \u001b[0;32mas\u001b[0m \u001b[0merr\u001b[0m\u001b[0;34m:\u001b[0m\u001b[0;34m\u001b[0m\u001b[0;34m\u001b[0m\u001b[0m\n",
            "\u001b[0;32mindex.pyx\u001b[0m in \u001b[0;36mpandas._libs.index.IndexEngine.get_loc\u001b[0;34m()\u001b[0m\n",
            "\u001b[0;32mindex.pyx\u001b[0m in \u001b[0;36mpandas._libs.index.IndexEngine.get_loc\u001b[0;34m()\u001b[0m\n",
            "\u001b[0;32mpandas/_libs/hashtable_class_helper.pxi\u001b[0m in \u001b[0;36mpandas._libs.hashtable.PyObjectHashTable.get_item\u001b[0;34m()\u001b[0m\n",
            "\u001b[0;32mpandas/_libs/hashtable_class_helper.pxi\u001b[0m in \u001b[0;36mpandas._libs.hashtable.PyObjectHashTable.get_item\u001b[0;34m()\u001b[0m\n",
            "\u001b[0;31mKeyError\u001b[0m: 'type'",
            "\nThe above exception was the direct cause of the following exception:\n",
            "\u001b[0;31mKeyError\u001b[0m                                  Traceback (most recent call last)",
            "\u001b[0;32m<ipython-input-17-e0161c5e33bd>\u001b[0m in \u001b[0;36m<cell line: 0>\u001b[0;34m()\u001b[0m\n\u001b[0;32m----> 1\u001b[0;31m \u001b[0manime_df\u001b[0m\u001b[0;34m[\u001b[0m\u001b[0;34m'type'\u001b[0m\u001b[0;34m]\u001b[0m\u001b[0;34m.\u001b[0m\u001b[0mvalue_counts\u001b[0m\u001b[0;34m(\u001b[0m\u001b[0;34m)\u001b[0m\u001b[0;34m.\u001b[0m\u001b[0mplot\u001b[0m\u001b[0;34m(\u001b[0m\u001b[0mkind\u001b[0m\u001b[0;34m=\u001b[0m\u001b[0;34m'bar'\u001b[0m\u001b[0;34m,\u001b[0m \u001b[0mtitle\u001b[0m \u001b[0;34m=\u001b[0m \u001b[0;34m'Anime by type'\u001b[0m\u001b[0;34m)\u001b[0m\u001b[0;34m\u001b[0m\u001b[0;34m\u001b[0m\u001b[0m\n\u001b[0m",
            "\u001b[0;32m/usr/local/lib/python3.11/dist-packages/pandas/core/frame.py\u001b[0m in \u001b[0;36m__getitem__\u001b[0;34m(self, key)\u001b[0m\n\u001b[1;32m   4100\u001b[0m             \u001b[0;32mif\u001b[0m \u001b[0mself\u001b[0m\u001b[0;34m.\u001b[0m\u001b[0mcolumns\u001b[0m\u001b[0;34m.\u001b[0m\u001b[0mnlevels\u001b[0m \u001b[0;34m>\u001b[0m \u001b[0;36m1\u001b[0m\u001b[0;34m:\u001b[0m\u001b[0;34m\u001b[0m\u001b[0;34m\u001b[0m\u001b[0m\n\u001b[1;32m   4101\u001b[0m                 \u001b[0;32mreturn\u001b[0m \u001b[0mself\u001b[0m\u001b[0;34m.\u001b[0m\u001b[0m_getitem_multilevel\u001b[0m\u001b[0;34m(\u001b[0m\u001b[0mkey\u001b[0m\u001b[0;34m)\u001b[0m\u001b[0;34m\u001b[0m\u001b[0;34m\u001b[0m\u001b[0m\n\u001b[0;32m-> 4102\u001b[0;31m             \u001b[0mindexer\u001b[0m \u001b[0;34m=\u001b[0m \u001b[0mself\u001b[0m\u001b[0;34m.\u001b[0m\u001b[0mcolumns\u001b[0m\u001b[0;34m.\u001b[0m\u001b[0mget_loc\u001b[0m\u001b[0;34m(\u001b[0m\u001b[0mkey\u001b[0m\u001b[0;34m)\u001b[0m\u001b[0;34m\u001b[0m\u001b[0;34m\u001b[0m\u001b[0m\n\u001b[0m\u001b[1;32m   4103\u001b[0m             \u001b[0;32mif\u001b[0m \u001b[0mis_integer\u001b[0m\u001b[0;34m(\u001b[0m\u001b[0mindexer\u001b[0m\u001b[0;34m)\u001b[0m\u001b[0;34m:\u001b[0m\u001b[0;34m\u001b[0m\u001b[0;34m\u001b[0m\u001b[0m\n\u001b[1;32m   4104\u001b[0m                 \u001b[0mindexer\u001b[0m \u001b[0;34m=\u001b[0m \u001b[0;34m[\u001b[0m\u001b[0mindexer\u001b[0m\u001b[0;34m]\u001b[0m\u001b[0;34m\u001b[0m\u001b[0;34m\u001b[0m\u001b[0m\n",
            "\u001b[0;32m/usr/local/lib/python3.11/dist-packages/pandas/core/indexes/base.py\u001b[0m in \u001b[0;36mget_loc\u001b[0;34m(self, key)\u001b[0m\n\u001b[1;32m   3810\u001b[0m             ):\n\u001b[1;32m   3811\u001b[0m                 \u001b[0;32mraise\u001b[0m \u001b[0mInvalidIndexError\u001b[0m\u001b[0;34m(\u001b[0m\u001b[0mkey\u001b[0m\u001b[0;34m)\u001b[0m\u001b[0;34m\u001b[0m\u001b[0;34m\u001b[0m\u001b[0m\n\u001b[0;32m-> 3812\u001b[0;31m             \u001b[0;32mraise\u001b[0m \u001b[0mKeyError\u001b[0m\u001b[0;34m(\u001b[0m\u001b[0mkey\u001b[0m\u001b[0;34m)\u001b[0m \u001b[0;32mfrom\u001b[0m \u001b[0merr\u001b[0m\u001b[0;34m\u001b[0m\u001b[0;34m\u001b[0m\u001b[0m\n\u001b[0m\u001b[1;32m   3813\u001b[0m         \u001b[0;32mexcept\u001b[0m \u001b[0mTypeError\u001b[0m\u001b[0;34m:\u001b[0m\u001b[0;34m\u001b[0m\u001b[0;34m\u001b[0m\u001b[0m\n\u001b[1;32m   3814\u001b[0m             \u001b[0;31m# If we have a listlike key, _check_indexing_error will raise\u001b[0m\u001b[0;34m\u001b[0m\u001b[0;34m\u001b[0m\u001b[0m\n",
            "\u001b[0;31mKeyError\u001b[0m: 'type'"
          ]
        }
      ],
      "source": [
        "anime_df['type'].value_counts().plot(kind='bar', title = 'Anime by type')"
      ]
    },
    {
      "cell_type": "code",
      "source": [
        "anime_df.shape"
      ],
      "metadata": {
        "id": "6Y4JEK9pk64V"
      },
      "execution_count": null,
      "outputs": []
    },
    {
      "cell_type": "code",
      "source": [
        "anime_df = anime_df[anime_df['type'].isin(['TV', 'Movie'])]"
      ],
      "metadata": {
        "id": "R1y7RKcSlBNQ"
      },
      "execution_count": null,
      "outputs": []
    },
    {
      "cell_type": "code",
      "source": [
        "anime_df.shape"
      ],
      "metadata": {
        "id": "eCAdsFTilKMf"
      },
      "execution_count": null,
      "outputs": []
    },
    {
      "cell_type": "markdown",
      "metadata": {
        "id": "QQMBKFUViizl"
      },
      "source": [
        "En nuestro report_df hemos visto que **episodes** parecía que era númerico, pero podría contener otro tipos de datos (por ser object), convertimos a número esta columna."
      ]
    },
    {
      "cell_type": "code",
      "execution_count": null,
      "metadata": {
        "id": "Fzbtm7XAiizl"
      },
      "outputs": [],
      "source": [
        "anime_df['episodes'] = pd.to_numeric(anime_df['episodes'], errors = 'coerce')\n",
        "anime_df['episodes'].fillna(1, inplace = True)"
      ]
    },
    {
      "cell_type": "markdown",
      "metadata": {
        "id": "zAFEtFGdiizm"
      },
      "source": [
        "En la siguiente sección vamos a analizar la distribución de los animes en función del número de episodios que tenían."
      ]
    },
    {
      "cell_type": "code",
      "execution_count": null,
      "metadata": {
        "ExecuteTime": {
          "end_time": "2021-11-14T16:00:42.603901Z",
          "start_time": "2021-11-14T16:00:40.152Z"
        },
        "id": "zKP8TRh0iizm"
      },
      "outputs": [],
      "source": [
        "count_per_episodes = anime_df['episodes'].value_counts().to_frame().reset_index()"
      ]
    },
    {
      "cell_type": "code",
      "source": [
        "count_per_episodes.columns = ['nr_episodes', 'nr_films']"
      ],
      "metadata": {
        "id": "bo567y8vmGbK"
      },
      "execution_count": null,
      "outputs": []
    },
    {
      "cell_type": "code",
      "source": [
        "count_per_episodes"
      ],
      "metadata": {
        "id": "a0CH1XSZmSkR"
      },
      "execution_count": null,
      "outputs": []
    },
    {
      "cell_type": "code",
      "execution_count": null,
      "metadata": {
        "ExecuteTime": {
          "end_time": "2021-11-14T16:00:42.604899Z",
          "start_time": "2021-11-14T16:00:40.155Z"
        },
        "id": "G1zi6K0Tiizn"
      },
      "outputs": [],
      "source": [
        "count_per_episodes.sort_values('nr_episodes', ascending = True, inplace = True)"
      ]
    },
    {
      "cell_type": "code",
      "execution_count": null,
      "metadata": {
        "ExecuteTime": {
          "end_time": "2021-11-14T16:00:42.606891Z",
          "start_time": "2021-11-14T16:00:40.158Z"
        },
        "id": "RTYTyHBEiizn"
      },
      "outputs": [],
      "source": [
        "count_per_episodes['pct_over_total'] = count_per_episodes['nr_films']/count_per_episodes['nr_films'].sum()"
      ]
    },
    {
      "cell_type": "markdown",
      "metadata": {
        "id": "d3Q4duPGiizo"
      },
      "source": [
        "Casi la mitad de los animes es de un único episodio (41.14%)."
      ]
    },
    {
      "cell_type": "code",
      "execution_count": null,
      "metadata": {
        "ExecuteTime": {
          "end_time": "2021-11-14T16:00:42.607890Z",
          "start_time": "2021-11-14T16:00:40.162Z"
        },
        "id": "c8CX6npKiizo"
      },
      "outputs": [],
      "source": [
        "NR = 30\n",
        "\n",
        "# instanciate the figure\n",
        "fig = plt.figure(figsize = (15, 5))\n",
        "ax = fig.add_subplot(111)\n",
        "\n",
        "# separete the data\n",
        "x = count_per_episodes[\"nr_episodes\"].values[:NR]\n",
        "y = count_per_episodes[\"nr_films\"].values[:NR]\n",
        "y_pct = count_per_episodes[\"pct_over_total\"].values[:NR]\n",
        "\n",
        "# plot the data\n",
        "barplot = ax.bar(x, y)\n",
        "\n",
        "# add text to each column\n",
        "for rect, y_pct_ in zip(barplot, y_pct):\n",
        "    y_pct_ = round(y_pct_*100, 2)\n",
        "    height = rect.get_height()\n",
        "    plt.text(\n",
        "        rect.get_x() + rect.get_width()/2.0,\n",
        "        height,\n",
        "        f\"{height}:{y_pct_}%\",\n",
        "        ha = 'center',\n",
        "        va = \"bottom\",\n",
        "        rotation = 60\n",
        "    )\n",
        "\n",
        "# change the xticks\n",
        "ax.set_xticks(np.arange(0, NR + 1))\n",
        "\n",
        "# add title\n",
        "total_y_pct = round(sum(y_pct)*100, 2)\n",
        "ax.set_title(f\"Distribución de los primeros {NR} animes ({total_y_pct}% del total)\");"
      ]
    },
    {
      "cell_type": "markdown",
      "metadata": {
        "id": "WIiJcCv5iizo"
      },
      "source": [
        "Vamos a realizar un análisis similar al anterior, pero ahora veremos como se distribuyen los animes en función de la puntuación media.\n",
        "\n",
        "Para tener sólo 10 grupos, primero vamos a redondear la puntuación media."
      ]
    },
    {
      "cell_type": "code",
      "execution_count": null,
      "metadata": {
        "ExecuteTime": {
          "end_time": "2021-11-14T16:00:42.608886Z",
          "start_time": "2021-11-14T16:00:40.166Z"
        },
        "id": "3ZSCrNiniizo"
      },
      "outputs": [],
      "source": [
        "anime_df['rating'].fillna(np.mean(anime_df['rating']), inplace = True)"
      ]
    },
    {
      "cell_type": "code",
      "execution_count": null,
      "metadata": {
        "ExecuteTime": {
          "end_time": "2021-11-14T16:00:42.609884Z",
          "start_time": "2021-11-14T16:00:40.169Z"
        },
        "id": "FYAydeu6iizo"
      },
      "outputs": [],
      "source": [
        "anime_df['ceil_rating'] = anime_df['rating'].apply(lambda rating: np.round(rating, 0))"
      ]
    },
    {
      "cell_type": "code",
      "source": [
        "anime_df.tail(20)"
      ],
      "metadata": {
        "id": "_YevUy5Dom6i"
      },
      "execution_count": null,
      "outputs": []
    },
    {
      "cell_type": "code",
      "source": [
        "count_per_rating = anime_df['ceil_rating'].value_counts().to_frame().reset_index().sort_values('ceil_rating', ascending = True)"
      ],
      "metadata": {
        "id": "CXxfzBVR-ssm"
      },
      "execution_count": null,
      "outputs": []
    },
    {
      "cell_type": "code",
      "source": [
        "count_per_rating"
      ],
      "metadata": {
        "id": "lC5434K4pO3z"
      },
      "execution_count": null,
      "outputs": []
    },
    {
      "cell_type": "code",
      "execution_count": null,
      "metadata": {
        "ExecuteTime": {
          "end_time": "2021-11-14T16:00:42.611878Z",
          "start_time": "2021-11-14T16:00:40.174Z"
        },
        "id": "7hQLC97Kiizp"
      },
      "outputs": [],
      "source": [
        "# instanciate the figure\n",
        "fig = plt.figure(figsize = (15, 5))\n",
        "ax = fig.add_subplot(111)\n",
        "\n",
        "# separete the data\n",
        "x = count_per_rating[\"ceil_rating\"].values\n",
        "y = count_per_rating[\"count\"].values\n",
        "y_pct = y/sum(y)\n",
        "\n",
        "# plot the data\n",
        "barplot = ax.bar(x, y)\n",
        "\n",
        "# add text to each column\n",
        "for rect, y_pct_ in zip(barplot, y_pct):\n",
        "    y_pct_ = round(y_pct_*100, 2)\n",
        "    height = rect.get_height()\n",
        "    plt.text(\n",
        "        rect.get_x() + rect.get_width()/2.0,\n",
        "        height,\n",
        "        f\"{height} - {y_pct_}%\",\n",
        "        ha = 'center',\n",
        "        va = \"bottom\"\n",
        "    )\n",
        "\n",
        "ax.set_xticks(np.arange(0, 11))\n",
        "ax.set_title(\"Distribución del número de animes por rating\");"
      ]
    },
    {
      "cell_type": "markdown",
      "metadata": {
        "id": "Zl_qsWK9iizp"
      },
      "source": [
        "La puntuación más común es un 7 y se encuentra en 2.685 animes (43.77% del total)."
      ]
    },
    {
      "cell_type": "markdown",
      "metadata": {
        "id": "EcI7yU16iizp"
      },
      "source": [
        "<a id = \"df2\"></a>\n",
        "# EDA ratings df\n",
        "[Volver al índice](#toc)\n",
        "\n",
        "EDA rápido sobre el DataFrame de **ratings de los animes.**"
      ]
    },
    {
      "cell_type": "code",
      "execution_count": null,
      "metadata": {
        "ExecuteTime": {
          "end_time": "2021-11-14T16:00:42.632823Z",
          "start_time": "2021-11-14T16:00:40.227Z"
        },
        "id": "FpGq_Zjniizp"
      },
      "outputs": [],
      "source": [
        "report_df(rating_df)\n",
        "\n",
        "rating_df.head()"
      ]
    },
    {
      "cell_type": "code",
      "source": [
        "rating_gb = rating_df['rating'].value_counts().reset_index().sort_values('rating', ascending = True)"
      ],
      "metadata": {
        "id": "49ujvORM-0tp"
      },
      "execution_count": null,
      "outputs": []
    },
    {
      "cell_type": "code",
      "source": [
        "rating_gb"
      ],
      "metadata": {
        "id": "QuF_TQ27qiAB"
      },
      "execution_count": null,
      "outputs": []
    },
    {
      "cell_type": "code",
      "execution_count": null,
      "metadata": {
        "ExecuteTime": {
          "end_time": "2021-11-14T16:00:42.633820Z",
          "start_time": "2021-11-14T16:00:40.236Z"
        },
        "id": "DQNkIzA0iizq"
      },
      "outputs": [],
      "source": [
        "fig = plt.figure(figsize = (15, 5))\n",
        "ax = fig.add_subplot()\n",
        "\n",
        "x = rating_gb[\"rating\"]\n",
        "y = rating_gb[\"count\"]\n",
        "y_pct = y/sum(y)\n",
        "\n",
        "barplot = ax.bar(x, y)\n",
        "\n",
        "# add text to each column\n",
        "for rect, y_pct_ in zip(barplot, y_pct):\n",
        "    y_pct_ = round(y_pct_*100, 2)\n",
        "    height = rect.get_height()\n",
        "    plt.text(\n",
        "        rect.get_x() + rect.get_width()/2.0,\n",
        "        height,\n",
        "        f\"{height} - {y_pct_}%\",\n",
        "        ha = 'center',\n",
        "        va = \"bottom\",\n",
        "        rotation = 60\n",
        "    )\n",
        "\n",
        "ax.set_xticks(x);"
      ]
    },
    {
      "cell_type": "markdown",
      "metadata": {
        "id": "6UPpEtq1iizp"
      },
      "source": [
        "Observamos que tenemos **casi un 19% de animes sin reviews.**"
      ]
    },
    {
      "cell_type": "markdown",
      "metadata": {
        "id": "xknYiPyniizq"
      },
      "source": [
        "Vamos a ver los usuarios con más reviews."
      ]
    },
    {
      "cell_type": "code",
      "execution_count": null,
      "metadata": {
        "ExecuteTime": {
          "end_time": "2021-11-14T16:00:42.635815Z",
          "start_time": "2021-11-14T16:00:40.239Z"
        },
        "id": "978doNVriizq"
      },
      "outputs": [],
      "source": [
        "user_pivot = rating_df['user_id'].value_counts()\n",
        "\n",
        "user_pivot.head()"
      ]
    },
    {
      "cell_type": "markdown",
      "metadata": {
        "id": "by7xdks8iizq"
      },
      "source": [
        "Vamos a eliminar de nuestro DataFrame a todos aquellos usuarios cuyo único review es -1."
      ]
    },
    {
      "cell_type": "code",
      "execution_count": null,
      "metadata": {
        "ExecuteTime": {
          "end_time": "2021-11-14T16:00:42.640801Z",
          "start_time": "2021-11-14T16:00:40.250Z"
        },
        "id": "7lvCtDKJiizq"
      },
      "outputs": [],
      "source": [
        "s = rating_df.groupby('user_id')['rating'].apply(set)"
      ]
    },
    {
      "cell_type": "code",
      "source": [
        "s"
      ],
      "metadata": {
        "id": "Cqs0bSYrr_Mb"
      },
      "execution_count": null,
      "outputs": []
    },
    {
      "cell_type": "code",
      "execution_count": null,
      "metadata": {
        "ExecuteTime": {
          "end_time": "2021-11-14T16:00:42.641798Z",
          "start_time": "2021-11-14T16:00:40.253Z"
        },
        "id": "wvTXv3Uhiizr"
      },
      "outputs": [],
      "source": [
        "user_id_no_reviews = s.to_frame()[s.to_frame()['rating'] == {-1}].index"
      ]
    },
    {
      "cell_type": "code",
      "execution_count": null,
      "metadata": {
        "ExecuteTime": {
          "end_time": "2021-11-14T16:00:42.643793Z",
          "start_time": "2021-11-14T16:00:40.256Z"
        },
        "id": "19PdTZ9Miizr"
      },
      "outputs": [],
      "source": [
        "user_id_no_reviews"
      ]
    },
    {
      "cell_type": "code",
      "execution_count": null,
      "metadata": {
        "ExecuteTime": {
          "end_time": "2021-11-14T16:00:42.649780Z",
          "start_time": "2021-11-14T16:00:40.260Z"
        },
        "id": "8Bh1XQI0iizr"
      },
      "outputs": [],
      "source": [
        "rating_df = rating_df[-rating_df['user_id'].isin(user_id_no_reviews)]"
      ]
    },
    {
      "cell_type": "code",
      "execution_count": null,
      "metadata": {
        "ExecuteTime": {
          "end_time": "2021-11-14T16:00:42.651772Z",
          "start_time": "2021-11-14T16:00:40.264Z"
        },
        "id": "7QrvJnR9iizr"
      },
      "outputs": [],
      "source": [
        "rating_df[rating_df['user_id'] == 73515]['rating'].value_counts()"
      ]
    },
    {
      "cell_type": "markdown",
      "metadata": {
        "id": "dPnhSda2iizr"
      },
      "source": [
        "<a id = \"join\"></a>\n",
        "# Join final animes con ratings de usuarios\n",
        "[Volver al índice](#toc)\n",
        "\n",
        "Una vez que hemos analizado nuestros DataFrames, vamos a hacer un join **por anime_id.**"
      ]
    },
    {
      "cell_type": "code",
      "source": [
        "rating_df.head(2)"
      ],
      "metadata": {
        "id": "Wv8bUi7RtU6a"
      },
      "execution_count": null,
      "outputs": []
    },
    {
      "cell_type": "code",
      "source": [
        "anime_df.head(2)"
      ],
      "metadata": {
        "id": "jXBdWGGQtVCO"
      },
      "execution_count": null,
      "outputs": []
    },
    {
      "cell_type": "code",
      "execution_count": null,
      "metadata": {
        "ExecuteTime": {
          "end_time": "2021-11-14T16:00:42.652769Z",
          "start_time": "2021-11-14T16:00:40.267Z"
        },
        "id": "dfA_Uo1qiizr"
      },
      "outputs": [],
      "source": [
        "rating_df.rename(columns = {'rating':'user_rating'}, inplace = True)\n",
        "anime_df.rename(columns = {'rating':'average_rating'}, inplace = True)"
      ]
    },
    {
      "cell_type": "code",
      "execution_count": null,
      "metadata": {
        "ExecuteTime": {
          "end_time": "2021-11-14T16:00:42.654764Z",
          "start_time": "2021-11-14T16:00:40.273Z"
        },
        "id": "7U4K35VViizr"
      },
      "outputs": [],
      "source": [
        "df_final = pd.merge(rating_df, anime_df, on = 'anime_id')"
      ]
    },
    {
      "cell_type": "code",
      "source": [
        "df_final.head()"
      ],
      "metadata": {
        "id": "iit_0APnt8JM"
      },
      "execution_count": null,
      "outputs": []
    },
    {
      "cell_type": "code",
      "execution_count": null,
      "metadata": {
        "ExecuteTime": {
          "end_time": "2021-11-14T16:00:42.658753Z",
          "start_time": "2021-11-14T16:00:40.281Z"
        },
        "id": "be30GXuwiizs"
      },
      "outputs": [],
      "source": [
        "df_final = df_final.pivot_table(\n",
        "    index = 'user_id',\n",
        "    columns = 'name',\n",
        "    values = 'user_rating'\n",
        ")"
      ]
    },
    {
      "cell_type": "code",
      "source": [
        "df_final.head(20)"
      ],
      "metadata": {
        "id": "2B6H1mpkueXU"
      },
      "execution_count": null,
      "outputs": []
    },
    {
      "cell_type": "code",
      "execution_count": null,
      "metadata": {
        "ExecuteTime": {
          "end_time": "2021-11-14T16:00:42.659752Z",
          "start_time": "2021-11-14T16:00:40.284Z"
        },
        "id": "ZTF98zjriizs"
      },
      "outputs": [],
      "source": [
        "df_final.fillna(-1, inplace = True)"
      ]
    },
    {
      "cell_type": "code",
      "execution_count": null,
      "metadata": {
        "ExecuteTime": {
          "end_time": "2021-11-14T16:00:42.661745Z",
          "start_time": "2021-11-14T16:00:40.288Z"
        },
        "id": "s28yXVuaiizs"
      },
      "outputs": [],
      "source": [
        "df_final.shape"
      ]
    },
    {
      "cell_type": "markdown",
      "metadata": {
        "id": "zetu7a9Tiizs"
      },
      "source": [
        "<a id = \"pca\"></a>\n",
        "# Reducción de la dimensionalidad con PCA\n",
        "[Volver al índice](#toc)\n",
        "\n",
        "El PCA es el método más utilizado de reducción de la dimensionalidad y con una largo desarrollo teórico detrás (fue [inventado en 1901](https://en.wikipedia.org/wiki/Principal_component_analysis) por Karl Pearson).\n",
        "\n",
        "\n",
        "El PCA no requiere mantener las definiciones del espacio original de atributos. Intuitivamente, se basa en la siguiente idea: dada una colección de puntos en dos o más dimensiones, puede definirse una línea con un ajuste óptimo que minimice la suma de distancias cuadráticas de cada punto a la línea. Definida esta línea, se puede definir una nueva línea perpendicular a ésta y repetir este proceso hasta construir una base ortogonal que llamaremos Componentes Principales, en la cuál podemos expresar todas las variables de manera que un subconjunto reducido de componentes nos permite explicar la mayor parte de la varianza del problema original.\n",
        "\n",
        "Vamos a ver un ejemplo muy sencillo en 2 dimensiones para coger la intuición detrás del PCA:\n",
        "\n",
        "![PCA](https://drive.google.com/uc?export=view&id=14zcKhX9ICCpZ6BF0j3BFHAQsZMaXQjIa)"
      ]
    },
    {
      "cell_type": "markdown",
      "metadata": {
        "id": "Zwf0hxuuiizt"
      },
      "source": [
        "Cuando inicializamos el PCA de sklearn, le tenemos que especificar el número de componentes que queremos que tenga nuestro nuevo dataset."
      ]
    },
    {
      "cell_type": "code",
      "execution_count": null,
      "metadata": {
        "ExecuteTime": {
          "end_time": "2021-11-14T16:00:42.663739Z",
          "start_time": "2021-11-14T16:00:40.297Z"
        },
        "id": "6vwmw2Bviizt"
      },
      "outputs": [],
      "source": [
        "st = time.time()\n",
        "\n",
        "pca = PCA(n_components = 30)\n",
        "pca.fit(df_final)\n",
        "pca_x = pca.transform(df_final)\n",
        "\n",
        "pca_df = pd.DataFrame(\n",
        "    data = pca_x,\n",
        "    index = df_final.index,\n",
        "    columns = [\"PC_{}\".format(i + 1) for i in range(30)]\n",
        ")\n",
        "\n",
        "et = time.time()\n",
        "print(\"Total PCA took {} minutes\".format(round((et - st)/60, 2)))"
      ]
    },
    {
      "cell_type": "code",
      "execution_count": null,
      "metadata": {
        "id": "HeBVmADCiizt"
      },
      "outputs": [],
      "source": [
        "pca_df.head()"
      ]
    },
    {
      "cell_type": "markdown",
      "metadata": {
        "id": "vDrU_RjSiizt"
      },
      "source": [
        "Una vez fiteado el algoritmo de PCA, podemos mirar el átributo de **explained_variance_ratio_**.\n",
        "\n",
        "Este átributo nos dice cuanta varianza explica cada uno de los componentes/columnas del nuevo dataset, del dataset original.\n",
        "\n",
        "**Por ejemplo: el primer componente, contiene el 12% de la varianza original.**"
      ]
    },
    {
      "cell_type": "code",
      "execution_count": null,
      "metadata": {
        "ExecuteTime": {
          "end_time": "2021-11-14T16:00:42.667728Z",
          "start_time": "2021-11-14T16:00:40.302Z"
        },
        "id": "rRwSlTpTiizt"
      },
      "outputs": [],
      "source": [
        "pca.explained_variance_ratio_"
      ]
    },
    {
      "cell_type": "code",
      "execution_count": null,
      "metadata": {
        "id": "s7-JHXjHiizt"
      },
      "outputs": [],
      "source": [
        "sum(pca.explained_variance_ratio_)"
      ]
    },
    {
      "cell_type": "markdown",
      "metadata": {
        "id": "NLpHoNYliizt"
      },
      "source": [
        "**Con 30 componentes, explicamos el 36% de la varianza original. Puede parecer \"poca\" pero tenemos que tener en cuenta que pasamos de 4.957 columnas a 30.**"
      ]
    },
    {
      "cell_type": "code",
      "execution_count": null,
      "metadata": {
        "ExecuteTime": {
          "end_time": "2021-11-14T16:00:42.669724Z",
          "start_time": "2021-11-14T16:00:40.306Z"
        },
        "id": "lXk8JAkTiizt"
      },
      "outputs": [],
      "source": [
        "plt.plot(np.cumsum(pca.explained_variance_ratio_))\n",
        "plt.xlabel('Nr. PC')\n",
        "plt.ylabel('Cumulative explained variance');"
      ]
    },
    {
      "cell_type": "markdown",
      "metadata": {
        "id": "r6I1TAdCiizu"
      },
      "source": [
        "<a id = \"elbow_curve\"></a>\n",
        "# Elbow curve, KMeans y recomendación basada en modelos de ML\n",
        "[Volver al índice](#toc)\n",
        "\n",
        "Dado que ahora podemos reducir nuestro dataset. Podemos utilizar el algoritmo KMeans y segmentar a nuestros clientes utilizando el pca_df."
      ]
    },
    {
      "cell_type": "code",
      "execution_count": null,
      "metadata": {
        "ExecuteTime": {
          "end_time": "2021-11-14T16:00:42.671721Z",
          "start_time": "2021-11-14T16:00:40.316Z"
        },
        "id": "0hgmDSpSiizu"
      },
      "outputs": [],
      "source": [
        "st = time.time()\n",
        "\n",
        "sse = {}\n",
        "\n",
        "for k in range(2, 8):\n",
        "    kmeans = KMeans(n_clusters = k)\n",
        "    kmeans.fit(pca_df)\n",
        "    sse[k] = kmeans.inertia_\n",
        "\n",
        "et = time.time()\n",
        "print(\"Total Elbow curve took {} minutes\".format(round((et - st)/60, 2)))"
      ]
    },
    {
      "cell_type": "code",
      "execution_count": null,
      "metadata": {
        "ExecuteTime": {
          "end_time": "2021-11-14T16:00:42.672716Z",
          "start_time": "2021-11-14T16:00:40.320Z"
        },
        "id": "viBYl_8xiizu"
      },
      "outputs": [],
      "source": [
        "fig = plt.figure(figsize = (16, 8))\n",
        "ax = fig.add_subplot()\n",
        "\n",
        "x_values = list(sse.keys())\n",
        "y_values = list(sse.values())\n",
        "\n",
        "ax.plot(x_values, y_values, label = \"Inertia/dispersión de los clústers\")\n",
        "ax.set_xticks(np.arange(1, 8))\n",
        "fig.suptitle(\"Variación de la dispersión de los clústers en función de la k\", fontsize = 16);"
      ]
    },
    {
      "cell_type": "code",
      "execution_count": null,
      "metadata": {
        "ExecuteTime": {
          "end_time": "2021-11-14T16:00:42.673714Z",
          "start_time": "2021-11-14T16:00:40.323Z"
        },
        "id": "hJoqlMCSiizu"
      },
      "outputs": [],
      "source": [
        "kmeans = KMeans(n_clusters = 4, random_state = 175)"
      ]
    },
    {
      "cell_type": "code",
      "source": [
        "kmeans.fit(pca_df)"
      ],
      "metadata": {
        "id": "o_cWpzrZyUDq"
      },
      "execution_count": null,
      "outputs": []
    },
    {
      "cell_type": "code",
      "execution_count": null,
      "metadata": {
        "ExecuteTime": {
          "end_time": "2021-11-14T16:00:42.675710Z",
          "start_time": "2021-11-14T16:00:40.329Z"
        },
        "id": "7NoQz7sHiizu"
      },
      "outputs": [],
      "source": [
        "df_final['cluster'] = kmeans.labels_"
      ]
    },
    {
      "cell_type": "code",
      "source": [
        "df_final.head()"
      ],
      "metadata": {
        "id": "CQ9KJwk4ygws"
      },
      "execution_count": null,
      "outputs": []
    },
    {
      "cell_type": "markdown",
      "metadata": {
        "id": "WHSWwyA_iizu"
      },
      "source": [
        "Ahora tenemos, a nuestros clientes **segmentados** y podemos llegar a plantear un recommendador de animes, en base al clúster que pertenece cada persona."
      ]
    },
    {
      "cell_type": "code",
      "execution_count": null,
      "metadata": {
        "ExecuteTime": {
          "end_time": "2021-11-14T16:00:42.676706Z",
          "start_time": "2021-11-14T16:00:40.333Z"
        },
        "id": "IFwUux0Diizv"
      },
      "outputs": [],
      "source": [
        "df_final.groupby('cluster').size()"
      ]
    },
    {
      "cell_type": "code",
      "execution_count": null,
      "metadata": {
        "id": "ngmMFjmkiizv"
      },
      "outputs": [],
      "source": [
        "cluster_ = df_final[df_final['cluster'] == 1]"
      ]
    },
    {
      "cell_type": "code",
      "execution_count": null,
      "metadata": {
        "id": "CHtdSTeuiizv"
      },
      "outputs": [],
      "source": [
        "cluster_.head()"
      ]
    },
    {
      "cell_type": "code",
      "source": [
        "cluster_.drop('cluster', axis = 1, inplace = True)"
      ],
      "metadata": {
        "id": "9ZhTnP0OzWti"
      },
      "execution_count": null,
      "outputs": []
    },
    {
      "cell_type": "code",
      "source": [
        "cluster_.replace([-1], np.nan, inplace = True)"
      ],
      "metadata": {
        "id": "rufJSe_04KWi"
      },
      "execution_count": null,
      "outputs": []
    },
    {
      "cell_type": "markdown",
      "source": [
        "**RECORDAD:** La función melt en pandas se utiliza para transformar un DataFrame de un formato amplio (wide) a un formato largo (long). Esto es particularmente útil cuando se desea reorganizar datos para que las variables sean mejor representadas para análisis o visualización.\n",
        "\n",
        "En un DataFrame en formato amplio, cada variable tiene su propia columna. En el formato largo, hay dos columnas clave: una para las variables y otra para los valores."
      ],
      "metadata": {
        "id": "FcDRB2S3M8Ck"
      }
    },
    {
      "cell_type": "code",
      "source": [
        "random_user = np.random.choice(cluster_.index)"
      ],
      "metadata": {
        "id": "tOPrJ4Kg4lAs"
      },
      "execution_count": null,
      "outputs": []
    },
    {
      "cell_type": "code",
      "source": [
        "melted_df = cluster_.melt()"
      ],
      "metadata": {
        "id": "3sNhIsSUEFRt"
      },
      "execution_count": null,
      "outputs": []
    },
    {
      "cell_type": "code",
      "source": [
        "melted_df.dropna(inplace = True)"
      ],
      "metadata": {
        "id": "PtpbBlsI4vJ1"
      },
      "execution_count": null,
      "outputs": []
    },
    {
      "cell_type": "code",
      "source": [
        "melted_df = melted_df[melted_df['name'] != 'cluster']"
      ],
      "metadata": {
        "id": "NqPSJc2P49qg"
      },
      "execution_count": null,
      "outputs": []
    },
    {
      "cell_type": "code",
      "source": [
        "average_score_cluster_ = melted_df.groupby('name').agg(\n",
        "    score_medio = ('value', np.mean),\n",
        "    nr_reviews = ('value', len)\n",
        ")"
      ],
      "metadata": {
        "id": "TQgDc5voEFyQ"
      },
      "execution_count": null,
      "outputs": []
    },
    {
      "cell_type": "code",
      "source": [
        "average_score_cluster_.head()"
      ],
      "metadata": {
        "id": "5LxKYc7nEGUc"
      },
      "execution_count": null,
      "outputs": []
    },
    {
      "cell_type": "code",
      "execution_count": null,
      "metadata": {
        "ExecuteTime": {
          "end_time": "2021-11-14T16:00:42.682689Z",
          "start_time": "2021-11-14T16:00:40.346Z"
        },
        "id": "OU0QVQm4iizv"
      },
      "outputs": [],
      "source": [
        "average_score_cluster_.sort_values('nr_reviews', ascending = False, inplace = True)"
      ]
    },
    {
      "cell_type": "code",
      "execution_count": null,
      "metadata": {
        "id": "nQ8ai6Peiizv"
      },
      "outputs": [],
      "source": [
        "def build_recommendation_for_user_cluster_based(\n",
        "    average_score_cluster_,\n",
        "    cluster_,\n",
        "    user_id,\n",
        "    nr_recommendations = 10,\n",
        "    verbose = True):\n",
        "    '''\n",
        "    Builds a personal recommendation for a user based on the best score in the cluster he belongs.\n",
        "    '''\n",
        "    print(f\"Building recommendation for user_id {user_id}\")\n",
        "    print(\"----------------------------------------------------------------------------------------------\\n\")\n",
        "\n",
        "    score_user = cluster_.loc[user_id]\n",
        "\n",
        "    i = 0\n",
        "\n",
        "    for anime_id in average_score_cluster_.index:\n",
        "\n",
        "        score_medio_cluster_ = round(average_score_cluster_.loc[anime_id][\"score_medio\"], 2)\n",
        "        nr_reviews_cluster_ = int(average_score_cluster_.loc[anime_id][\"nr_reviews\"])\n",
        "\n",
        "        score_user_anime_ = score_user.loc[anime_id]\n",
        "\n",
        "        if math.isnan(score_user_anime_):\n",
        "            print(\n",
        "                f'''\n",
        "                {i + 1} Recommend this user {anime_id},\n",
        "                anime score in the cluster is {score_medio_cluster_},\n",
        "                nr reviews {nr_reviews_cluster_}\\n\n",
        "                '''\n",
        "            )\n",
        "            i += 1\n",
        "\n",
        "            if i == nr_recommendations:\n",
        "                break\n",
        "        else:\n",
        "            if verbose: print(f\"User has seen this anime {anime_id}\")"
      ]
    },
    {
      "cell_type": "code",
      "execution_count": null,
      "metadata": {
        "id": "4GELY0wWiizv"
      },
      "outputs": [],
      "source": [
        "build_recommendation_for_user_cluster_based(\n",
        "    average_score_cluster_ = average_score_cluster_,\n",
        "    cluster_ = cluster_,\n",
        "    user_id = random_user\n",
        ")"
      ]
    },
    {
      "cell_type": "markdown",
      "metadata": {
        "id": "d0MMIxMKiizv"
      },
      "source": [
        "<a id = \"colaborative_filtering\"></a>\n",
        "# Calculamos la similitud entre usuarios y productos\n",
        "[Volver al índice](#toc)\n",
        "\n",
        "**RECORDAD:** Introducir similitud del coseno con el otro notebook"
      ]
    },
    {
      "cell_type": "markdown",
      "metadata": {
        "id": "AfkKt1_Viizw"
      },
      "source": [
        "En la presente sección vamos a calcular la similitud de coseno para los usuarios con más reviews.\n",
        "\n",
        "Seleccionamos a los users con más reviews.\n",
        "\n",
        "**Para poder hacer un recomendador correcto, necesitamos un dataset \"denso\". Es decir con usuarios que han puntuado mucho.**\n",
        "\n",
        "Vamos a filtrar a aquellos que al menos tengan 350 reviews diferentes a -1."
      ]
    },
    {
      "cell_type": "code",
      "execution_count": null,
      "metadata": {
        "id": "MTuT4gxEiizw"
      },
      "outputs": [],
      "source": [
        "top_users_ratings = rating_df[rating_df['user_rating'] != -1]['user_id'].value_counts()"
      ]
    },
    {
      "cell_type": "code",
      "source": [
        "(top_users_ratings >= 350).sum()"
      ],
      "metadata": {
        "id": "wVWt7JWmAIm4"
      },
      "execution_count": null,
      "outputs": []
    },
    {
      "cell_type": "code",
      "execution_count": null,
      "metadata": {
        "id": "Nr3-_UhIiizw"
      },
      "outputs": [],
      "source": [
        "top_users_for_cs = top_users_ratings[top_users_ratings >= 350].index"
      ]
    },
    {
      "cell_type": "code",
      "execution_count": null,
      "metadata": {
        "id": "zrksA3Eniizw"
      },
      "outputs": [],
      "source": [
        "top_users_for_cs"
      ]
    },
    {
      "cell_type": "code",
      "execution_count": null,
      "metadata": {
        "id": "wskjvwxXiizw"
      },
      "outputs": [],
      "source": [
        "df_final = df_final.reindex(index = top_users_for_cs)"
      ]
    },
    {
      "cell_type": "code",
      "source": [
        "df_final"
      ],
      "metadata": {
        "id": "GhQKUqCKAyLj"
      },
      "execution_count": null,
      "outputs": []
    },
    {
      "cell_type": "code",
      "source": [
        "df_final.drop('cluster', axis = 1, inplace = True)"
      ],
      "metadata": {
        "id": "3P_tReNPBAxp"
      },
      "execution_count": null,
      "outputs": []
    },
    {
      "cell_type": "code",
      "source": [
        "df_final.shape"
      ],
      "metadata": {
        "id": "rbvR5wH-BOvF"
      },
      "execution_count": null,
      "outputs": []
    },
    {
      "cell_type": "code",
      "execution_count": null,
      "metadata": {
        "id": "L7xqqagWiizw"
      },
      "outputs": [],
      "source": [
        "EXECUTE = False"
      ]
    },
    {
      "cell_type": "code",
      "execution_count": null,
      "metadata": {
        "ExecuteTime": {
          "end_time": "2021-11-14T16:00:42.685683Z",
          "start_time": "2021-11-14T16:00:40.357Z"
        },
        "id": "DOFb9r5Tiizx"
      },
      "outputs": [],
      "source": [
        "if EXECUTE:\n",
        "    # normalizamos nuestro dataset\n",
        "    st = time.time()\n",
        "    df_final_norm = df_final.apply(lambda x: (x - np.mean(x))/(np.max(x) - np.min(x)), axis = 1)\n",
        "    et = time.time()\n",
        "    print(\"Normalization took {} minutes\".format(round((et - st)/60, 2)))\n",
        "\n",
        "    # esta vez vamos a imputar los nulos con 0, para que afecte menos en el cálculo de la similitud\n",
        "    df_final_norm.fillna(0, inplace = True)\n",
        "    sparse_ratings = sp.sparse.csr_matrix(df_final_norm.values)\n",
        "\n",
        "    st = time.time()\n",
        "    print(\"Working with user similarity\")\n",
        "    user_similarity = cosine_similarity(sparse_ratings)\n",
        "    user_sim_df = pd.DataFrame(user_similarity, index = df_final_norm.index, columns = df_final_norm.index)\n",
        "    user_sim_df.columns = map(str, user_sim_df.columns)\n",
        "    user_sim_df.to_parquet(\"cf_user_similarity.parquet.gzip\")\n",
        "\n",
        "    print(\"Working with item similarity\")\n",
        "    item_similarity = cosine_similarity(sparse_ratings.T)\n",
        "    item_sim_df = pd.DataFrame(item_similarity, index = df_final_norm.columns, columns = df_final_norm.columns)\n",
        "    item_sim_df.columns = map(str, item_sim_df.columns)\n",
        "    item_sim_df.to_parquet(\"cf_item_similarity.parquet.gzip\")\n",
        "\n",
        "    et = time.time()\n",
        "    print(\"Total time to calculate similarity took {} minutes.\".format(round((et - st)/60, 2)))\n",
        "\n",
        "else:\n",
        "    user_sim_df = pd.read_parquet(os.path.join(\"/content/drive/MyDrive/Nuclio_No_Supervisado/unsupervised_learning_extra_data/cf_user_similarity.parquet.gzip\"))\n",
        "    item_sim_df = pd.read_parquet(os.path.join(\"/content/drive/MyDrive/Nuclio_No_Supervisado/unsupervised_learning_extra_data/cf_item_similarity.parquet.gzip\"))"
      ]
    },
    {
      "cell_type": "code",
      "execution_count": null,
      "metadata": {
        "id": "zs2imfFbiizx"
      },
      "outputs": [],
      "source": [
        "user_sim_df.head(20)"
      ]
    },
    {
      "cell_type": "code",
      "execution_count": null,
      "metadata": {
        "ExecuteTime": {
          "end_time": "2021-11-14T16:00:42.687676Z",
          "start_time": "2021-11-14T16:00:40.367Z"
        },
        "id": "oALyIHfQiizx"
      },
      "outputs": [],
      "source": [
        "item_sim_df.head()"
      ]
    },
    {
      "cell_type": "markdown",
      "metadata": {
        "id": "93nnbNigiizx"
      },
      "source": [
        "<a id = \"recomendacion_usuarios\"></a>\n",
        "# Recomendación \"user based\"\n",
        "[Volver al índice](#toc)"
      ]
    },
    {
      "cell_type": "markdown",
      "metadata": {
        "id": "lazI3Bibiizx"
      },
      "source": [
        "Usando las similitudes antes calculadas, ahora podemos hacer recomendaciones a nuestros usuarios.\n",
        "\n",
        "Para ello podemos seleccionar 1 usuario al azar, ver a los usuarios que mas se le parece y en función de los animes que le han gustado a este segundo user, hacer nuestra recomendación."
      ]
    },
    {
      "cell_type": "code",
      "execution_count": null,
      "metadata": {
        "ExecuteTime": {
          "end_time": "2021-11-14T16:00:42.689671Z",
          "start_time": "2021-11-14T16:00:40.370Z"
        },
        "id": "Ljj67eYriizx"
      },
      "outputs": [],
      "source": [
        "def top_users(user, df):\n",
        "    '''\n",
        "    This function prints the top 10 similar users based on cosine similarity.\n",
        "    '''\n",
        "\n",
        "    df.columns = map(int, df.columns)\n",
        "\n",
        "    if user not in df.columns:\n",
        "        return('No data available on user {}'.format(user))\n",
        "\n",
        "    print('Most Similar Users:\\n')\n",
        "\n",
        "    sim_users = df.sort_values(by = user, ascending=False).index[1:11]\n",
        "    sim_values = df.sort_values(by = user, ascending=False).loc[:,user].tolist()[1:11]\n",
        "\n",
        "    for user, sim in zip(sim_users, sim_values):\n",
        "        print('User #{0}, Similarity value: {1:.2f}'.format(user, sim))\n",
        "\n",
        "    return sim_users"
      ]
    },
    {
      "cell_type": "code",
      "execution_count": null,
      "metadata": {
        "ExecuteTime": {
          "end_time": "2021-11-14T16:00:42.692663Z",
          "start_time": "2021-11-14T16:00:40.373Z"
        },
        "id": "_QMk6yCgiizx"
      },
      "outputs": [],
      "source": [
        "def compare_2_users(user1, user2, df, nr_animes):\n",
        "    '''\n",
        "    Returns a DataFrame with top 10 animes by 2 similar users (based on cosine similarity).\n",
        "    '''\n",
        "\n",
        "    top_10_user_1 = df[df.index == user1].melt().sort_values(\"value\", ascending = False)[:nr_animes]\n",
        "    top_10_user_1.columns = [\"name_user_{}\".format(user1), \"rating_user_{}\".format(user1)]\n",
        "    top_10_user_1 = top_10_user_1.reset_index(drop = True)\n",
        "\n",
        "    top_10_user_2 = df[df.index == user2].melt().sort_values(\"value\", ascending = False)[:nr_animes]\n",
        "    top_10_user_2.columns = [\"name_user_{}\".format(user2), \"rating_user_{}\".format(user2)]\n",
        "    top_10_user_2 = top_10_user_2.reset_index(drop = True)\n",
        "\n",
        "    combined_2_users = pd.merge(\n",
        "        left = top_10_user_1,\n",
        "        right = top_10_user_2,\n",
        "        how = \"outer\",\n",
        "        left_on = \"name_user_{}\".format(user1),\n",
        "        right_on = \"name_user_{}\".format(user2)\n",
        "    )\n",
        "\n",
        "    return combined_2_users.dropna()"
      ]
    },
    {
      "cell_type": "code",
      "execution_count": null,
      "metadata": {
        "ExecuteTime": {
          "end_time": "2021-11-14T16:00:42.693668Z",
          "start_time": "2021-11-14T16:00:40.377Z"
        },
        "id": "95K8htZViizy"
      },
      "outputs": [],
      "source": [
        "user1 = 8250\n",
        "\n",
        "similar_users = top_users(user1, user_sim_df)"
      ]
    },
    {
      "cell_type": "code",
      "source": [
        "similar_users"
      ],
      "metadata": {
        "id": "dYhMkWOcEjr-"
      },
      "execution_count": null,
      "outputs": []
    },
    {
      "cell_type": "code",
      "source": [
        "user2 = similar_users[0]"
      ],
      "metadata": {
        "id": "hhljR0SMEdRH"
      },
      "execution_count": null,
      "outputs": []
    },
    {
      "cell_type": "code",
      "source": [
        "combined_2_users = compare_2_users(user1, user2, df_final, 30)"
      ],
      "metadata": {
        "id": "heEm12xpEl5p"
      },
      "execution_count": null,
      "outputs": []
    },
    {
      "cell_type": "code",
      "source": [
        "combined_2_users"
      ],
      "metadata": {
        "id": "6-G5I095Evp2"
      },
      "execution_count": null,
      "outputs": []
    },
    {
      "cell_type": "markdown",
      "metadata": {
        "id": "chrDYL_Wiizy"
      },
      "source": [
        "<a id = \"recomendacion_animes\"></a>\n",
        "# Recomendación \"product based\"\n",
        "[Volver al índice](#toc)"
      ]
    },
    {
      "cell_type": "markdown",
      "metadata": {
        "id": "nbd8VOALiizy"
      },
      "source": [
        "También podemos llegar a hacer recomendaciones basadas en productos.\n",
        "\n",
        "Por ejemplo, podemos llegar a buscar animes parecidos entre si en función de los reviews que han dejado los users."
      ]
    },
    {
      "cell_type": "code",
      "execution_count": null,
      "metadata": {
        "ExecuteTime": {
          "end_time": "2021-11-14T16:00:42.695655Z",
          "start_time": "2021-11-14T16:00:40.380Z"
        },
        "id": "BvAuVZKwiizy"
      },
      "outputs": [],
      "source": [
        "def top_animes(name, df):\n",
        "    '''\n",
        "    This functions prints top 10 similar animes, based on the reviews of the users.\n",
        "    '''\n",
        "    print('Similar shows to {} include:\\n'.format(name))\n",
        "\n",
        "    index = item_sim_df[name].sort_values(ascending = False).index[1:11]\n",
        "    values = item_sim_df[name].sort_values(ascending = False).values[1:11]\n",
        "\n",
        "    for i, (index_, values_) in enumerate(zip(index, values)):\n",
        "        print('No. {}: {} ({})'.format(i + 1, index_, round(values_, 3)))"
      ]
    },
    {
      "cell_type": "code",
      "execution_count": null,
      "metadata": {
        "ExecuteTime": {
          "end_time": "2021-11-14T16:00:42.697649Z",
          "start_time": "2021-11-14T16:00:40.384Z"
        },
        "id": "i7TV5__wiizy"
      },
      "outputs": [],
      "source": [
        "top_animes('InuYasha', item_sim_df)"
      ]
    },
    {
      "cell_type": "markdown",
      "metadata": {
        "id": "Z-vfrbvHiizy"
      },
      "source": [
        "<a id = \"conclusión\"></a>\n",
        "# Conclusión\n",
        "[Volver al índice](#toc)\n",
        "\n",
        "En el presente Notebook hemos explorado algunas de las técnicas más comunes que se utilizan en el unsupervised learning como: **PCA, KMeans.**\n",
        "\n",
        "Posteriormente, hemos utilizado la métrica de **\"cosine similarity\"** para crear dos modelos de colaborative filtering: **user and product based.**\n",
        "\n",
        "Hemos podido comprobar como las técnias de UL son muy útiles y se pueden utilizar en infinidad de campos desde: **visualización de datos, creación de nuevas variables (los componentes princiaples) y reducción de la dimensionalidad para agiliar el aprendizaje entre otros.**"
      ]
    }
  ],
  "metadata": {
    "kernelspec": {
      "display_name": "env_main",
      "language": "python",
      "name": "env_main"
    },
    "language_info": {
      "codemirror_mode": {
        "name": "ipython",
        "version": 3
      },
      "file_extension": ".py",
      "mimetype": "text/x-python",
      "name": "python",
      "nbconvert_exporter": "python",
      "pygments_lexer": "ipython3",
      "version": "3.10.14"
    },
    "toc": {
      "base_numbering": 1,
      "nav_menu": {},
      "number_sections": true,
      "sideBar": true,
      "skip_h1_title": false,
      "title_cell": "Table of Contents",
      "title_sidebar": "Contents",
      "toc_cell": false,
      "toc_position": {},
      "toc_section_display": true,
      "toc_window_display": false
    },
    "varInspector": {
      "cols": {
        "lenName": 16,
        "lenType": 16,
        "lenVar": 40
      },
      "kernels_config": {
        "python": {
          "delete_cmd_postfix": "",
          "delete_cmd_prefix": "del ",
          "library": "var_list.py",
          "varRefreshCmd": "print(var_dic_list())"
        },
        "r": {
          "delete_cmd_postfix": ") ",
          "delete_cmd_prefix": "rm(",
          "library": "var_list.r",
          "varRefreshCmd": "cat(var_dic_list()) "
        }
      },
      "types_to_exclude": [
        "module",
        "function",
        "builtin_function_or_method",
        "instance",
        "_Feature"
      ],
      "window_display": false
    },
    "colab": {
      "provenance": [],
      "include_colab_link": true
    }
  },
  "nbformat": 4,
  "nbformat_minor": 0
}