{
  "nbformat": 4,
  "nbformat_minor": 0,
  "metadata": {
    "colab": {
      "provenance": [],
      "authorship_tag": "ABX9TyMLgsHYoXMZZ/FEjRyRwPSx",
      "include_colab_link": true
    },
    "kernelspec": {
      "name": "python3",
      "display_name": "Python 3"
    },
    "language_info": {
      "name": "python"
    }
  },
  "cells": [
    {
      "cell_type": "markdown",
      "metadata": {
        "id": "view-in-github",
        "colab_type": "text"
      },
      "source": [
        "<a href=\"https://colab.research.google.com/github/KARENCMP82/Python/blob/main/EjerciciosMiosTitanicModificado.ipynb\" target=\"_parent\"><img src=\"https://colab.research.google.com/assets/colab-badge.svg\" alt=\"Open In Colab\"/></a>"
      ]
    },
    {
      "cell_type": "markdown",
      "source": [
        "### **Ejercicios simples de IF**\n",
        "1. Determinar si un pasajero es mayor de edad.  \n",
        "2. Verificar si un pasajero pertenece a la primera clase.  \n",
        "3. Comprobar si una tarifa es mayor que 50.  \n",
        "4. Evaluar si el lugar de embarque es 'C'.  \n",
        "\n",
        "---\n",
        "\n",
        "### **Ejercicios simples de FOR**\n",
        "1. Mostrar todas las clases disponibles.  \n",
        "2. Iterar por los géneros en la lista.  \n",
        "3. Calcular el total de edades en una lista.  \n",
        "4. Contar el número de pasajeros en cada clase.  \n",
        "\n",
        "---\n",
        "\n",
        "### **6 ejercicios avanzados con FOR y/o IF**\n",
        "1. Calcular la edad promedio por clase.  \n",
        "2. Contar el número de sobrevivientes y no sobrevivientes por género.  \n",
        "3. Mostrar el porcentaje de menores y mayores de edad que sobrevivieron en cada lugar de embarque.  \n",
        "4. Listar todos los nombres de los pasajeros sobrevivientes en cada clase.  \n",
        "5. Calcular la tarifa promedio para hombres y mujeres en cada clase.  \n",
        "6. Identificar el pasajero más joven y más viejo en cada lugar de embarque.  "
      ],
      "metadata": {
        "id": "axPrr0_L0KE2"
      }
    },
    {
      "cell_type": "code",
      "source": [
        "#Conexion\n",
        "import pandas as pd\n",
        "from google.colab import drive\n",
        "drive.mount('/content/drive')\n",
        "#leemos el fichero IMDB\n",
        "titanic=pd.read_csv(\"/content/drive/MyDrive/Colab Notebooks/Ejercicios/titanic_modificado.csv\")\n",
        "# Cargar archivo CSV como DataFrame ver los 5 primero registros\n",
        "titanic.head(20)"
      ],
      "metadata": {
        "colab": {
          "base_uri": "https://localhost:8080/",
          "height": 694
        },
        "id": "-4-YjLHs1IkR",
        "outputId": "ff5e4d76-7cb2-4cbc-991d-6a8fd40d8b48"
      },
      "execution_count": 6,
      "outputs": [
        {
          "output_type": "stream",
          "name": "stdout",
          "text": [
            "Mounted at /content/drive\n"
          ]
        },
        {
          "output_type": "execute_result",
          "data": {
            "text/plain": [
              "    Id_pasaj  Sobrevivi  Clase  \\\n",
              "0          1          0      3   \n",
              "1          2          1      1   \n",
              "2          3          1      3   \n",
              "3          4          1      1   \n",
              "4          5          0      3   \n",
              "5          6          0      3   \n",
              "6          7          0      1   \n",
              "7          8          0      3   \n",
              "8          9          1      3   \n",
              "9         10          1      2   \n",
              "10        11          1      3   \n",
              "11        12          1      1   \n",
              "12        13          0      3   \n",
              "13        14          0      3   \n",
              "14        15          0      3   \n",
              "15        16          1      2   \n",
              "16        17          0      3   \n",
              "17        18          1      2   \n",
              "18        19          0      3   \n",
              "19        20          1      3   \n",
              "\n",
              "                                               Nombre    Sexo  Edad  \\\n",
              "0                             Braund, Mr. Owen Harris    male  22.0   \n",
              "1   Cumings, Mrs. John Bradley (Florence Briggs Th...  female  38.0   \n",
              "2                              Heikkinen, Miss. Laina  female  26.0   \n",
              "3        Futrelle, Mrs. Jacques Heath (Lily May Peel)  female  35.0   \n",
              "4                            Allen, Mr. William Henry    male  35.0   \n",
              "5                                    Moran, Mr. James    male   NaN   \n",
              "6                             McCarthy, Mr. Timothy J    male  54.0   \n",
              "7                      Palsson, Master. Gosta Leonard    male   2.0   \n",
              "8   Johnson, Mrs. Oscar W (Elisabeth Vilhelmina Berg)  female  27.0   \n",
              "9                 Nasser, Mrs. Nicholas (Adele Achem)  female  14.0   \n",
              "10                    Sandstrom, Miss. Marguerite Rut  female   4.0   \n",
              "11                           Bonnell, Miss. Elizabeth  female  58.0   \n",
              "12                     Saundercock, Mr. William Henry    male  20.0   \n",
              "13                        Andersson, Mr. Anders Johan    male  39.0   \n",
              "14               Vestrom, Miss. Hulda Amanda Adolfina  female  14.0   \n",
              "15                   Hewlett, Mrs. (Mary D Kingcome)   female  55.0   \n",
              "16                               Rice, Master. Eugene    male   2.0   \n",
              "17                       Williams, Mr. Charles Eugene    male   NaN   \n",
              "18  Vander Planke, Mrs. Julius (Emelia Maria Vande...  female  31.0   \n",
              "19                            Masselmani, Mrs. Fatima  female   NaN   \n",
              "\n",
              "    Hermanos/esposos_a_bordo  Padres/hijos_a_bordo           Billete   Tarifa  \\\n",
              "0                          1                     0         A/5 21171   7.2500   \n",
              "1                          1                     0          PC 17599  71.2833   \n",
              "2                          0                     0  STON/O2. 3101282   7.9250   \n",
              "3                          1                     0            113803  53.1000   \n",
              "4                          0                     0            373450   8.0500   \n",
              "5                          0                     0            330877   8.4583   \n",
              "6                          0                     0             17463  51.8625   \n",
              "7                          3                     1            349909  21.0750   \n",
              "8                          0                     2            347742  11.1333   \n",
              "9                          1                     0            237736  30.0708   \n",
              "10                         1                     1           PP 9549  16.7000   \n",
              "11                         0                     0            113783  26.5500   \n",
              "12                         0                     0         A/5. 2151   8.0500   \n",
              "13                         1                     5            347082  31.2750   \n",
              "14                         0                     0            350406   7.8542   \n",
              "15                         0                     0            248706  16.0000   \n",
              "16                         4                     1            382652  29.1250   \n",
              "17                         0                     0            244373  13.0000   \n",
              "18                         1                     0            345763  18.0000   \n",
              "19                         0                     0              2649   7.2250   \n",
              "\n",
              "     Cabina Embarcado  MayorDeEdad  \n",
              "0   B96 B98         S         True  \n",
              "1       C85         C         True  \n",
              "2   B96 B98         S         True  \n",
              "3      C123         S         True  \n",
              "4   B96 B98         S         True  \n",
              "5   B96 B98         Q        False  \n",
              "6       E46         S         True  \n",
              "7   B96 B98         S        False  \n",
              "8   B96 B98         S         True  \n",
              "9   B96 B98         C        False  \n",
              "10       G6         S        False  \n",
              "11     C103         S         True  \n",
              "12  B96 B98         S         True  \n",
              "13  B96 B98         S         True  \n",
              "14  B96 B98         S        False  \n",
              "15  B96 B98         S         True  \n",
              "16  B96 B98         Q        False  \n",
              "17  B96 B98         S        False  \n",
              "18  B96 B98         S         True  \n",
              "19  B96 B98         C        False  "
            ],
            "text/html": [
              "\n",
              "  <div id=\"df-c9dbf6d5-92d9-4ccd-81e6-5d8279361977\" class=\"colab-df-container\">\n",
              "    <div>\n",
              "<style scoped>\n",
              "    .dataframe tbody tr th:only-of-type {\n",
              "        vertical-align: middle;\n",
              "    }\n",
              "\n",
              "    .dataframe tbody tr th {\n",
              "        vertical-align: top;\n",
              "    }\n",
              "\n",
              "    .dataframe thead th {\n",
              "        text-align: right;\n",
              "    }\n",
              "</style>\n",
              "<table border=\"1\" class=\"dataframe\">\n",
              "  <thead>\n",
              "    <tr style=\"text-align: right;\">\n",
              "      <th></th>\n",
              "      <th>Id_pasaj</th>\n",
              "      <th>Sobrevivi</th>\n",
              "      <th>Clase</th>\n",
              "      <th>Nombre</th>\n",
              "      <th>Sexo</th>\n",
              "      <th>Edad</th>\n",
              "      <th>Hermanos/esposos_a_bordo</th>\n",
              "      <th>Padres/hijos_a_bordo</th>\n",
              "      <th>Billete</th>\n",
              "      <th>Tarifa</th>\n",
              "      <th>Cabina</th>\n",
              "      <th>Embarcado</th>\n",
              "      <th>MayorDeEdad</th>\n",
              "    </tr>\n",
              "  </thead>\n",
              "  <tbody>\n",
              "    <tr>\n",
              "      <th>0</th>\n",
              "      <td>1</td>\n",
              "      <td>0</td>\n",
              "      <td>3</td>\n",
              "      <td>Braund, Mr. Owen Harris</td>\n",
              "      <td>male</td>\n",
              "      <td>22.0</td>\n",
              "      <td>1</td>\n",
              "      <td>0</td>\n",
              "      <td>A/5 21171</td>\n",
              "      <td>7.2500</td>\n",
              "      <td>B96 B98</td>\n",
              "      <td>S</td>\n",
              "      <td>True</td>\n",
              "    </tr>\n",
              "    <tr>\n",
              "      <th>1</th>\n",
              "      <td>2</td>\n",
              "      <td>1</td>\n",
              "      <td>1</td>\n",
              "      <td>Cumings, Mrs. John Bradley (Florence Briggs Th...</td>\n",
              "      <td>female</td>\n",
              "      <td>38.0</td>\n",
              "      <td>1</td>\n",
              "      <td>0</td>\n",
              "      <td>PC 17599</td>\n",
              "      <td>71.2833</td>\n",
              "      <td>C85</td>\n",
              "      <td>C</td>\n",
              "      <td>True</td>\n",
              "    </tr>\n",
              "    <tr>\n",
              "      <th>2</th>\n",
              "      <td>3</td>\n",
              "      <td>1</td>\n",
              "      <td>3</td>\n",
              "      <td>Heikkinen, Miss. Laina</td>\n",
              "      <td>female</td>\n",
              "      <td>26.0</td>\n",
              "      <td>0</td>\n",
              "      <td>0</td>\n",
              "      <td>STON/O2. 3101282</td>\n",
              "      <td>7.9250</td>\n",
              "      <td>B96 B98</td>\n",
              "      <td>S</td>\n",
              "      <td>True</td>\n",
              "    </tr>\n",
              "    <tr>\n",
              "      <th>3</th>\n",
              "      <td>4</td>\n",
              "      <td>1</td>\n",
              "      <td>1</td>\n",
              "      <td>Futrelle, Mrs. Jacques Heath (Lily May Peel)</td>\n",
              "      <td>female</td>\n",
              "      <td>35.0</td>\n",
              "      <td>1</td>\n",
              "      <td>0</td>\n",
              "      <td>113803</td>\n",
              "      <td>53.1000</td>\n",
              "      <td>C123</td>\n",
              "      <td>S</td>\n",
              "      <td>True</td>\n",
              "    </tr>\n",
              "    <tr>\n",
              "      <th>4</th>\n",
              "      <td>5</td>\n",
              "      <td>0</td>\n",
              "      <td>3</td>\n",
              "      <td>Allen, Mr. William Henry</td>\n",
              "      <td>male</td>\n",
              "      <td>35.0</td>\n",
              "      <td>0</td>\n",
              "      <td>0</td>\n",
              "      <td>373450</td>\n",
              "      <td>8.0500</td>\n",
              "      <td>B96 B98</td>\n",
              "      <td>S</td>\n",
              "      <td>True</td>\n",
              "    </tr>\n",
              "    <tr>\n",
              "      <th>5</th>\n",
              "      <td>6</td>\n",
              "      <td>0</td>\n",
              "      <td>3</td>\n",
              "      <td>Moran, Mr. James</td>\n",
              "      <td>male</td>\n",
              "      <td>NaN</td>\n",
              "      <td>0</td>\n",
              "      <td>0</td>\n",
              "      <td>330877</td>\n",
              "      <td>8.4583</td>\n",
              "      <td>B96 B98</td>\n",
              "      <td>Q</td>\n",
              "      <td>False</td>\n",
              "    </tr>\n",
              "    <tr>\n",
              "      <th>6</th>\n",
              "      <td>7</td>\n",
              "      <td>0</td>\n",
              "      <td>1</td>\n",
              "      <td>McCarthy, Mr. Timothy J</td>\n",
              "      <td>male</td>\n",
              "      <td>54.0</td>\n",
              "      <td>0</td>\n",
              "      <td>0</td>\n",
              "      <td>17463</td>\n",
              "      <td>51.8625</td>\n",
              "      <td>E46</td>\n",
              "      <td>S</td>\n",
              "      <td>True</td>\n",
              "    </tr>\n",
              "    <tr>\n",
              "      <th>7</th>\n",
              "      <td>8</td>\n",
              "      <td>0</td>\n",
              "      <td>3</td>\n",
              "      <td>Palsson, Master. Gosta Leonard</td>\n",
              "      <td>male</td>\n",
              "      <td>2.0</td>\n",
              "      <td>3</td>\n",
              "      <td>1</td>\n",
              "      <td>349909</td>\n",
              "      <td>21.0750</td>\n",
              "      <td>B96 B98</td>\n",
              "      <td>S</td>\n",
              "      <td>False</td>\n",
              "    </tr>\n",
              "    <tr>\n",
              "      <th>8</th>\n",
              "      <td>9</td>\n",
              "      <td>1</td>\n",
              "      <td>3</td>\n",
              "      <td>Johnson, Mrs. Oscar W (Elisabeth Vilhelmina Berg)</td>\n",
              "      <td>female</td>\n",
              "      <td>27.0</td>\n",
              "      <td>0</td>\n",
              "      <td>2</td>\n",
              "      <td>347742</td>\n",
              "      <td>11.1333</td>\n",
              "      <td>B96 B98</td>\n",
              "      <td>S</td>\n",
              "      <td>True</td>\n",
              "    </tr>\n",
              "    <tr>\n",
              "      <th>9</th>\n",
              "      <td>10</td>\n",
              "      <td>1</td>\n",
              "      <td>2</td>\n",
              "      <td>Nasser, Mrs. Nicholas (Adele Achem)</td>\n",
              "      <td>female</td>\n",
              "      <td>14.0</td>\n",
              "      <td>1</td>\n",
              "      <td>0</td>\n",
              "      <td>237736</td>\n",
              "      <td>30.0708</td>\n",
              "      <td>B96 B98</td>\n",
              "      <td>C</td>\n",
              "      <td>False</td>\n",
              "    </tr>\n",
              "    <tr>\n",
              "      <th>10</th>\n",
              "      <td>11</td>\n",
              "      <td>1</td>\n",
              "      <td>3</td>\n",
              "      <td>Sandstrom, Miss. Marguerite Rut</td>\n",
              "      <td>female</td>\n",
              "      <td>4.0</td>\n",
              "      <td>1</td>\n",
              "      <td>1</td>\n",
              "      <td>PP 9549</td>\n",
              "      <td>16.7000</td>\n",
              "      <td>G6</td>\n",
              "      <td>S</td>\n",
              "      <td>False</td>\n",
              "    </tr>\n",
              "    <tr>\n",
              "      <th>11</th>\n",
              "      <td>12</td>\n",
              "      <td>1</td>\n",
              "      <td>1</td>\n",
              "      <td>Bonnell, Miss. Elizabeth</td>\n",
              "      <td>female</td>\n",
              "      <td>58.0</td>\n",
              "      <td>0</td>\n",
              "      <td>0</td>\n",
              "      <td>113783</td>\n",
              "      <td>26.5500</td>\n",
              "      <td>C103</td>\n",
              "      <td>S</td>\n",
              "      <td>True</td>\n",
              "    </tr>\n",
              "    <tr>\n",
              "      <th>12</th>\n",
              "      <td>13</td>\n",
              "      <td>0</td>\n",
              "      <td>3</td>\n",
              "      <td>Saundercock, Mr. William Henry</td>\n",
              "      <td>male</td>\n",
              "      <td>20.0</td>\n",
              "      <td>0</td>\n",
              "      <td>0</td>\n",
              "      <td>A/5. 2151</td>\n",
              "      <td>8.0500</td>\n",
              "      <td>B96 B98</td>\n",
              "      <td>S</td>\n",
              "      <td>True</td>\n",
              "    </tr>\n",
              "    <tr>\n",
              "      <th>13</th>\n",
              "      <td>14</td>\n",
              "      <td>0</td>\n",
              "      <td>3</td>\n",
              "      <td>Andersson, Mr. Anders Johan</td>\n",
              "      <td>male</td>\n",
              "      <td>39.0</td>\n",
              "      <td>1</td>\n",
              "      <td>5</td>\n",
              "      <td>347082</td>\n",
              "      <td>31.2750</td>\n",
              "      <td>B96 B98</td>\n",
              "      <td>S</td>\n",
              "      <td>True</td>\n",
              "    </tr>\n",
              "    <tr>\n",
              "      <th>14</th>\n",
              "      <td>15</td>\n",
              "      <td>0</td>\n",
              "      <td>3</td>\n",
              "      <td>Vestrom, Miss. Hulda Amanda Adolfina</td>\n",
              "      <td>female</td>\n",
              "      <td>14.0</td>\n",
              "      <td>0</td>\n",
              "      <td>0</td>\n",
              "      <td>350406</td>\n",
              "      <td>7.8542</td>\n",
              "      <td>B96 B98</td>\n",
              "      <td>S</td>\n",
              "      <td>False</td>\n",
              "    </tr>\n",
              "    <tr>\n",
              "      <th>15</th>\n",
              "      <td>16</td>\n",
              "      <td>1</td>\n",
              "      <td>2</td>\n",
              "      <td>Hewlett, Mrs. (Mary D Kingcome)</td>\n",
              "      <td>female</td>\n",
              "      <td>55.0</td>\n",
              "      <td>0</td>\n",
              "      <td>0</td>\n",
              "      <td>248706</td>\n",
              "      <td>16.0000</td>\n",
              "      <td>B96 B98</td>\n",
              "      <td>S</td>\n",
              "      <td>True</td>\n",
              "    </tr>\n",
              "    <tr>\n",
              "      <th>16</th>\n",
              "      <td>17</td>\n",
              "      <td>0</td>\n",
              "      <td>3</td>\n",
              "      <td>Rice, Master. Eugene</td>\n",
              "      <td>male</td>\n",
              "      <td>2.0</td>\n",
              "      <td>4</td>\n",
              "      <td>1</td>\n",
              "      <td>382652</td>\n",
              "      <td>29.1250</td>\n",
              "      <td>B96 B98</td>\n",
              "      <td>Q</td>\n",
              "      <td>False</td>\n",
              "    </tr>\n",
              "    <tr>\n",
              "      <th>17</th>\n",
              "      <td>18</td>\n",
              "      <td>1</td>\n",
              "      <td>2</td>\n",
              "      <td>Williams, Mr. Charles Eugene</td>\n",
              "      <td>male</td>\n",
              "      <td>NaN</td>\n",
              "      <td>0</td>\n",
              "      <td>0</td>\n",
              "      <td>244373</td>\n",
              "      <td>13.0000</td>\n",
              "      <td>B96 B98</td>\n",
              "      <td>S</td>\n",
              "      <td>False</td>\n",
              "    </tr>\n",
              "    <tr>\n",
              "      <th>18</th>\n",
              "      <td>19</td>\n",
              "      <td>0</td>\n",
              "      <td>3</td>\n",
              "      <td>Vander Planke, Mrs. Julius (Emelia Maria Vande...</td>\n",
              "      <td>female</td>\n",
              "      <td>31.0</td>\n",
              "      <td>1</td>\n",
              "      <td>0</td>\n",
              "      <td>345763</td>\n",
              "      <td>18.0000</td>\n",
              "      <td>B96 B98</td>\n",
              "      <td>S</td>\n",
              "      <td>True</td>\n",
              "    </tr>\n",
              "    <tr>\n",
              "      <th>19</th>\n",
              "      <td>20</td>\n",
              "      <td>1</td>\n",
              "      <td>3</td>\n",
              "      <td>Masselmani, Mrs. Fatima</td>\n",
              "      <td>female</td>\n",
              "      <td>NaN</td>\n",
              "      <td>0</td>\n",
              "      <td>0</td>\n",
              "      <td>2649</td>\n",
              "      <td>7.2250</td>\n",
              "      <td>B96 B98</td>\n",
              "      <td>C</td>\n",
              "      <td>False</td>\n",
              "    </tr>\n",
              "  </tbody>\n",
              "</table>\n",
              "</div>\n",
              "    <div class=\"colab-df-buttons\">\n",
              "\n",
              "  <div class=\"colab-df-container\">\n",
              "    <button class=\"colab-df-convert\" onclick=\"convertToInteractive('df-c9dbf6d5-92d9-4ccd-81e6-5d8279361977')\"\n",
              "            title=\"Convert this dataframe to an interactive table.\"\n",
              "            style=\"display:none;\">\n",
              "\n",
              "  <svg xmlns=\"http://www.w3.org/2000/svg\" height=\"24px\" viewBox=\"0 -960 960 960\">\n",
              "    <path d=\"M120-120v-720h720v720H120Zm60-500h600v-160H180v160Zm220 220h160v-160H400v160Zm0 220h160v-160H400v160ZM180-400h160v-160H180v160Zm440 0h160v-160H620v160ZM180-180h160v-160H180v160Zm440 0h160v-160H620v160Z\"/>\n",
              "  </svg>\n",
              "    </button>\n",
              "\n",
              "  <style>\n",
              "    .colab-df-container {\n",
              "      display:flex;\n",
              "      gap: 12px;\n",
              "    }\n",
              "\n",
              "    .colab-df-convert {\n",
              "      background-color: #E8F0FE;\n",
              "      border: none;\n",
              "      border-radius: 50%;\n",
              "      cursor: pointer;\n",
              "      display: none;\n",
              "      fill: #1967D2;\n",
              "      height: 32px;\n",
              "      padding: 0 0 0 0;\n",
              "      width: 32px;\n",
              "    }\n",
              "\n",
              "    .colab-df-convert:hover {\n",
              "      background-color: #E2EBFA;\n",
              "      box-shadow: 0px 1px 2px rgba(60, 64, 67, 0.3), 0px 1px 3px 1px rgba(60, 64, 67, 0.15);\n",
              "      fill: #174EA6;\n",
              "    }\n",
              "\n",
              "    .colab-df-buttons div {\n",
              "      margin-bottom: 4px;\n",
              "    }\n",
              "\n",
              "    [theme=dark] .colab-df-convert {\n",
              "      background-color: #3B4455;\n",
              "      fill: #D2E3FC;\n",
              "    }\n",
              "\n",
              "    [theme=dark] .colab-df-convert:hover {\n",
              "      background-color: #434B5C;\n",
              "      box-shadow: 0px 1px 3px 1px rgba(0, 0, 0, 0.15);\n",
              "      filter: drop-shadow(0px 1px 2px rgba(0, 0, 0, 0.3));\n",
              "      fill: #FFFFFF;\n",
              "    }\n",
              "  </style>\n",
              "\n",
              "    <script>\n",
              "      const buttonEl =\n",
              "        document.querySelector('#df-c9dbf6d5-92d9-4ccd-81e6-5d8279361977 button.colab-df-convert');\n",
              "      buttonEl.style.display =\n",
              "        google.colab.kernel.accessAllowed ? 'block' : 'none';\n",
              "\n",
              "      async function convertToInteractive(key) {\n",
              "        const element = document.querySelector('#df-c9dbf6d5-92d9-4ccd-81e6-5d8279361977');\n",
              "        const dataTable =\n",
              "          await google.colab.kernel.invokeFunction('convertToInteractive',\n",
              "                                                    [key], {});\n",
              "        if (!dataTable) return;\n",
              "\n",
              "        const docLinkHtml = 'Like what you see? Visit the ' +\n",
              "          '<a target=\"_blank\" href=https://colab.research.google.com/notebooks/data_table.ipynb>data table notebook</a>'\n",
              "          + ' to learn more about interactive tables.';\n",
              "        element.innerHTML = '';\n",
              "        dataTable['output_type'] = 'display_data';\n",
              "        await google.colab.output.renderOutput(dataTable, element);\n",
              "        const docLink = document.createElement('div');\n",
              "        docLink.innerHTML = docLinkHtml;\n",
              "        element.appendChild(docLink);\n",
              "      }\n",
              "    </script>\n",
              "  </div>\n",
              "\n",
              "\n",
              "<div id=\"df-96dcf054-7eef-492b-931f-3a1c298884f2\">\n",
              "  <button class=\"colab-df-quickchart\" onclick=\"quickchart('df-96dcf054-7eef-492b-931f-3a1c298884f2')\"\n",
              "            title=\"Suggest charts\"\n",
              "            style=\"display:none;\">\n",
              "\n",
              "<svg xmlns=\"http://www.w3.org/2000/svg\" height=\"24px\"viewBox=\"0 0 24 24\"\n",
              "     width=\"24px\">\n",
              "    <g>\n",
              "        <path d=\"M19 3H5c-1.1 0-2 .9-2 2v14c0 1.1.9 2 2 2h14c1.1 0 2-.9 2-2V5c0-1.1-.9-2-2-2zM9 17H7v-7h2v7zm4 0h-2V7h2v10zm4 0h-2v-4h2v4z\"/>\n",
              "    </g>\n",
              "</svg>\n",
              "  </button>\n",
              "\n",
              "<style>\n",
              "  .colab-df-quickchart {\n",
              "      --bg-color: #E8F0FE;\n",
              "      --fill-color: #1967D2;\n",
              "      --hover-bg-color: #E2EBFA;\n",
              "      --hover-fill-color: #174EA6;\n",
              "      --disabled-fill-color: #AAA;\n",
              "      --disabled-bg-color: #DDD;\n",
              "  }\n",
              "\n",
              "  [theme=dark] .colab-df-quickchart {\n",
              "      --bg-color: #3B4455;\n",
              "      --fill-color: #D2E3FC;\n",
              "      --hover-bg-color: #434B5C;\n",
              "      --hover-fill-color: #FFFFFF;\n",
              "      --disabled-bg-color: #3B4455;\n",
              "      --disabled-fill-color: #666;\n",
              "  }\n",
              "\n",
              "  .colab-df-quickchart {\n",
              "    background-color: var(--bg-color);\n",
              "    border: none;\n",
              "    border-radius: 50%;\n",
              "    cursor: pointer;\n",
              "    display: none;\n",
              "    fill: var(--fill-color);\n",
              "    height: 32px;\n",
              "    padding: 0;\n",
              "    width: 32px;\n",
              "  }\n",
              "\n",
              "  .colab-df-quickchart:hover {\n",
              "    background-color: var(--hover-bg-color);\n",
              "    box-shadow: 0 1px 2px rgba(60, 64, 67, 0.3), 0 1px 3px 1px rgba(60, 64, 67, 0.15);\n",
              "    fill: var(--button-hover-fill-color);\n",
              "  }\n",
              "\n",
              "  .colab-df-quickchart-complete:disabled,\n",
              "  .colab-df-quickchart-complete:disabled:hover {\n",
              "    background-color: var(--disabled-bg-color);\n",
              "    fill: var(--disabled-fill-color);\n",
              "    box-shadow: none;\n",
              "  }\n",
              "\n",
              "  .colab-df-spinner {\n",
              "    border: 2px solid var(--fill-color);\n",
              "    border-color: transparent;\n",
              "    border-bottom-color: var(--fill-color);\n",
              "    animation:\n",
              "      spin 1s steps(1) infinite;\n",
              "  }\n",
              "\n",
              "  @keyframes spin {\n",
              "    0% {\n",
              "      border-color: transparent;\n",
              "      border-bottom-color: var(--fill-color);\n",
              "      border-left-color: var(--fill-color);\n",
              "    }\n",
              "    20% {\n",
              "      border-color: transparent;\n",
              "      border-left-color: var(--fill-color);\n",
              "      border-top-color: var(--fill-color);\n",
              "    }\n",
              "    30% {\n",
              "      border-color: transparent;\n",
              "      border-left-color: var(--fill-color);\n",
              "      border-top-color: var(--fill-color);\n",
              "      border-right-color: var(--fill-color);\n",
              "    }\n",
              "    40% {\n",
              "      border-color: transparent;\n",
              "      border-right-color: var(--fill-color);\n",
              "      border-top-color: var(--fill-color);\n",
              "    }\n",
              "    60% {\n",
              "      border-color: transparent;\n",
              "      border-right-color: var(--fill-color);\n",
              "    }\n",
              "    80% {\n",
              "      border-color: transparent;\n",
              "      border-right-color: var(--fill-color);\n",
              "      border-bottom-color: var(--fill-color);\n",
              "    }\n",
              "    90% {\n",
              "      border-color: transparent;\n",
              "      border-bottom-color: var(--fill-color);\n",
              "    }\n",
              "  }\n",
              "</style>\n",
              "\n",
              "  <script>\n",
              "    async function quickchart(key) {\n",
              "      const quickchartButtonEl =\n",
              "        document.querySelector('#' + key + ' button');\n",
              "      quickchartButtonEl.disabled = true;  // To prevent multiple clicks.\n",
              "      quickchartButtonEl.classList.add('colab-df-spinner');\n",
              "      try {\n",
              "        const charts = await google.colab.kernel.invokeFunction(\n",
              "            'suggestCharts', [key], {});\n",
              "      } catch (error) {\n",
              "        console.error('Error during call to suggestCharts:', error);\n",
              "      }\n",
              "      quickchartButtonEl.classList.remove('colab-df-spinner');\n",
              "      quickchartButtonEl.classList.add('colab-df-quickchart-complete');\n",
              "    }\n",
              "    (() => {\n",
              "      let quickchartButtonEl =\n",
              "        document.querySelector('#df-96dcf054-7eef-492b-931f-3a1c298884f2 button');\n",
              "      quickchartButtonEl.style.display =\n",
              "        google.colab.kernel.accessAllowed ? 'block' : 'none';\n",
              "    })();\n",
              "  </script>\n",
              "</div>\n",
              "\n",
              "    </div>\n",
              "  </div>\n"
            ],
            "application/vnd.google.colaboratory.intrinsic+json": {
              "type": "dataframe",
              "variable_name": "titanic",
              "summary": "{\n  \"name\": \"titanic\",\n  \"rows\": 889,\n  \"fields\": [\n    {\n      \"column\": \"Id_pasaj\",\n      \"properties\": {\n        \"dtype\": \"number\",\n        \"std\": 256,\n        \"min\": 1,\n        \"max\": 891,\n        \"num_unique_values\": 889,\n        \"samples\": [\n          282,\n          436,\n          40\n        ],\n        \"semantic_type\": \"\",\n        \"description\": \"\"\n      }\n    },\n    {\n      \"column\": \"Sobrevivi\",\n      \"properties\": {\n        \"dtype\": \"number\",\n        \"std\": 0,\n        \"min\": 0,\n        \"max\": 1,\n        \"num_unique_values\": 2,\n        \"samples\": [\n          1,\n          0\n        ],\n        \"semantic_type\": \"\",\n        \"description\": \"\"\n      }\n    },\n    {\n      \"column\": \"Clase\",\n      \"properties\": {\n        \"dtype\": \"number\",\n        \"std\": 0,\n        \"min\": 1,\n        \"max\": 3,\n        \"num_unique_values\": 3,\n        \"samples\": [\n          3,\n          1\n        ],\n        \"semantic_type\": \"\",\n        \"description\": \"\"\n      }\n    },\n    {\n      \"column\": \"Nombre\",\n      \"properties\": {\n        \"dtype\": \"string\",\n        \"num_unique_values\": 889,\n        \"samples\": [\n          \"Olsson, Mr. Nils Johan Goransson\",\n          \"Carter, Miss. Lucile Polk\"\n        ],\n        \"semantic_type\": \"\",\n        \"description\": \"\"\n      }\n    },\n    {\n      \"column\": \"Sexo\",\n      \"properties\": {\n        \"dtype\": \"category\",\n        \"num_unique_values\": 2,\n        \"samples\": [\n          \"female\",\n          \"male\"\n        ],\n        \"semantic_type\": \"\",\n        \"description\": \"\"\n      }\n    },\n    {\n      \"column\": \"Edad\",\n      \"properties\": {\n        \"dtype\": \"number\",\n        \"std\": 14.49293290032352,\n        \"min\": 0.42,\n        \"max\": 80.0,\n        \"num_unique_values\": 88,\n        \"samples\": [\n          0.75,\n          22.0\n        ],\n        \"semantic_type\": \"\",\n        \"description\": \"\"\n      }\n    },\n    {\n      \"column\": \"Hermanos/esposos_a_bordo\",\n      \"properties\": {\n        \"dtype\": \"number\",\n        \"std\": 1,\n        \"min\": 0,\n        \"max\": 8,\n        \"num_unique_values\": 7,\n        \"samples\": [\n          1,\n          0\n        ],\n        \"semantic_type\": \"\",\n        \"description\": \"\"\n      }\n    },\n    {\n      \"column\": \"Padres/hijos_a_bordo\",\n      \"properties\": {\n        \"dtype\": \"number\",\n        \"std\": 0,\n        \"min\": 0,\n        \"max\": 6,\n        \"num_unique_values\": 7,\n        \"samples\": [\n          0,\n          1\n        ],\n        \"semantic_type\": \"\",\n        \"description\": \"\"\n      }\n    },\n    {\n      \"column\": \"Billete\",\n      \"properties\": {\n        \"dtype\": \"string\",\n        \"num_unique_values\": 680,\n        \"samples\": [\n          \"11774\",\n          \"29105\"\n        ],\n        \"semantic_type\": \"\",\n        \"description\": \"\"\n      }\n    },\n    {\n      \"column\": \"Tarifa\",\n      \"properties\": {\n        \"dtype\": \"number\",\n        \"std\": 49.69750431670801,\n        \"min\": 0.0,\n        \"max\": 512.3292,\n        \"num_unique_values\": 247,\n        \"samples\": [\n          11.2417,\n          51.8625\n        ],\n        \"semantic_type\": \"\",\n        \"description\": \"\"\n      }\n    },\n    {\n      \"column\": \"Cabina\",\n      \"properties\": {\n        \"dtype\": \"category\",\n        \"num_unique_values\": 146,\n        \"samples\": [\n          \"B94\",\n          \"C101\"\n        ],\n        \"semantic_type\": \"\",\n        \"description\": \"\"\n      }\n    },\n    {\n      \"column\": \"Embarcado\",\n      \"properties\": {\n        \"dtype\": \"category\",\n        \"num_unique_values\": 3,\n        \"samples\": [\n          \"S\",\n          \"C\"\n        ],\n        \"semantic_type\": \"\",\n        \"description\": \"\"\n      }\n    },\n    {\n      \"column\": \"MayorDeEdad\",\n      \"properties\": {\n        \"dtype\": \"boolean\",\n        \"num_unique_values\": 2,\n        \"samples\": [\n          false,\n          true\n        ],\n        \"semantic_type\": \"\",\n        \"description\": \"\"\n      }\n    }\n  ]\n}"
            }
          },
          "metadata": {},
          "execution_count": 6
        }
      ]
    },
    {
      "cell_type": "code",
      "source": [
        "#Modificar datos en ingles\n",
        "titanic['Sexo']=titanic['Sexo'].replace({'female':'Mujer','male':'Hombre'})"
      ],
      "metadata": {
        "id": "ozeeEcGZ1rDn"
      },
      "execution_count": null,
      "outputs": []
    },
    {
      "cell_type": "markdown",
      "source": [
        "\n",
        "**Ejercicios simples de IF**"
      ],
      "metadata": {
        "id": "YxuYLh4L0Qjv"
      }
    },
    {
      "cell_type": "markdown",
      "source": [
        "Determinar si un pasajero es mayor de edad."
      ],
      "metadata": {
        "id": "rnSv8cf50XR6"
      }
    },
    {
      "cell_type": "code",
      "source": [
        "# 113803\n",
        "pasajero_id = 18\n",
        "\n",
        "# Filtrar el DataFrame para encontrar el pasajero con el billete especificado\n",
        "pasajero = titanic[titanic['Id_pasaj'] == pasajero_id]\n",
        "\n",
        "# Verificar si el pasajero es mayor de edad\n",
        "if not pasajero.empty and pasajero['Edad'].iloc[0] < 18:\n",
        "    print(\"Es menor de edad\")\n",
        "elif not pasajero.empty and pasajero['Edad'].iloc[0] > 18:\n",
        "    print(\"Es mayor de edad\")\n",
        "else:\n",
        "    print(\"No tiene edad\")\n"
      ],
      "metadata": {
        "id": "P1h2rVal0iTW"
      },
      "execution_count": null,
      "outputs": []
    },
    {
      "cell_type": "markdown",
      "source": [
        "Verificar si un pasajero pertenece a la primera clase"
      ],
      "metadata": {
        "id": "wtBiJhtI0XV_"
      }
    },
    {
      "cell_type": "code",
      "source": [
        "# 113803\n",
        "pasajero_id = 18\n",
        "\n",
        "# Filtrar el DataFrame para encontrar el pasajero con el billete especificado\n",
        "pasajero = titanic[titanic['Id_pasaj'] == pasajero_id]\n",
        "\n",
        "# Verificar la clase del pasajero\n",
        "# iloc[0] valor de la columna x, necesario porq solo evalua una linea \"pasajero\"\n",
        "# not pasajero.empty: verifica q no esta vacio\n",
        "if not pasajero.empty and pasajero['Clase'].iloc[0] == 1:\n",
        "    print(\"Es 1º clase\")\n",
        "elif not pasajero.empty and pasajero['Clase'].iloc[0] == 2:\n",
        "    print(\"Es 2º clase\")\n",
        "elif not pasajero.empty and pasajero['Clase'].iloc[0] == 3:\n",
        "    print(\"Es 3º clase\")\n",
        "else:\n",
        "    print(\"No se encontró el pasajero o no pertenece a ninguna clase especificada\")\n"
      ],
      "metadata": {
        "id": "Q5g-jzRh0i0l"
      },
      "execution_count": null,
      "outputs": []
    },
    {
      "cell_type": "markdown",
      "source": [
        "Comprobar si una tarifa es mayor que 50."
      ],
      "metadata": {
        "id": "nzz85kYc0XaL"
      }
    },
    {
      "cell_type": "code",
      "source": [
        "Tarifa = 17\n",
        "\n",
        "pasajero = titanic[titanic['Id_pasaj'] == pasajero_id]\n",
        "if not pasajero.empty and pasajero['Tarifa'].iloc[0]<=50:\n",
        "    print(\"Es menor o igual que 50\")\n",
        "elif not pasajero.empty and pasajero['Tarifa'].iloc[0]>50:\n",
        "    print(\"Es mayor que 50\")\n",
        "else:\n",
        "    print(\"No se encontró el pasajero o no tiene Tarifa\")\n"
      ],
      "metadata": {
        "id": "gB0xmomC0jZm"
      },
      "execution_count": null,
      "outputs": []
    },
    {
      "cell_type": "markdown",
      "source": [
        "Evaluar si el lugar de embarque es 'C'"
      ],
      "metadata": {
        "id": "3DmUwviN0Xdy"
      }
    },
    {
      "cell_type": "code",
      "source": [
        "Tarifa = 20\n",
        "\n",
        "pasajero = titanic[titanic['Id_pasaj'] == pasajero_id]\n",
        "\n",
        "if not pasajero.empty and pasajero['Embarcado'].iloc[0]=='C':\n",
        "    print(\"Es embarcado en C\")\n",
        "elif not pasajero.empty and pasajero['Embarcado'].iloc[0]=='Q':\n",
        "  print(\"Es embarcado en Q\")\n",
        "elif not pasajero.empty and pasajero['Embarcado'].iloc[0]=='S':\n",
        "  print(\"Es embarcado en S\")\n",
        "else:\n",
        "    print(\"No se tiene Embarque\")\n"
      ],
      "metadata": {
        "id": "bBUh8A4U0kk2"
      },
      "execution_count": null,
      "outputs": []
    },
    {
      "cell_type": "markdown",
      "source": [
        "**Ejercicios simples de FOR**\n"
      ],
      "metadata": {
        "id": "AaReWfwJzrcV"
      }
    },
    {
      "cell_type": "markdown",
      "source": [
        "Mostrar todas las clases disponibles.\n"
      ],
      "metadata": {
        "id": "FftJ8rEszvee"
      }
    },
    {
      "cell_type": "code",
      "source": [
        "clasesUni = titanic['Clase'].unique()\n",
        "\n",
        "for clase in clasesUni:  # Recorre cada clase\n",
        "    print(f\"Clase disponible: {clase}\")\n",
        "\n"
      ],
      "metadata": {
        "id": "HLCM0PKF1YVX"
      },
      "execution_count": null,
      "outputs": []
    },
    {
      "cell_type": "markdown",
      "source": [
        "Iterar por los géneros en la lista.\n"
      ],
      "metadata": {
        "id": "g0pNcEP6zvpV"
      }
    },
    {
      "cell_type": "code",
      "source": [
        "GeneroUni = titanic['Sexo'].unique()\n",
        "\n",
        "for genero in GeneroUni:\n",
        "  print(f\"Generos disponibles: {genero}\")"
      ],
      "metadata": {
        "id": "Q7AZtB2619yX"
      },
      "execution_count": null,
      "outputs": []
    },
    {
      "cell_type": "markdown",
      "source": [
        "Calcular el total de edades en una lista.\n"
      ],
      "metadata": {
        "id": "wH3X3wf0zvsr"
      }
    },
    {
      "cell_type": "code",
      "source": [
        "EdadeTotal = titanic['Edad'].unique()\n",
        "OrdeEdad = sorted(EdadeTotal)  # Ordenar edades únicas\n",
        "for edad in OrdeEdad: # Removed extra space before 'for'\n",
        "\n",
        "    print(f\"Edades disponible: {edad}\")"
      ],
      "metadata": {
        "id": "5zhMj6CW2pCW"
      },
      "execution_count": null,
      "outputs": []
    },
    {
      "cell_type": "markdown",
      "source": [
        "Contar el número de pasajeros en cada clase."
      ],
      "metadata": {
        "id": "VK2cTodLzvwW"
      }
    },
    {
      "cell_type": "code",
      "source": [
        "clase1 = titanic[titanic['Clase'] == 1]\n",
        "clase2 = titanic[titanic['Clase'] == 2]\n",
        "clase3 = titanic[titanic['Clase'] == 3]\n",
        "count1 = len(clase1)  # Cuenta las filas en el DataFrame clase1\n",
        "count2 = len(clase2)  # len(), que proporciona el número de elementos presentes en un iterable\n",
        "count3 = len(clase3)\n",
        "\n",
        "for clase in clase1: # Removed extra space before 'for'\n",
        "    count1 += 1\n",
        "for clase in clase2: # Removed extra space before 'for'\n",
        "    count2 += 1\n",
        "for clase in clase3: # Removed extra space before 'for'\n",
        "    count3 += 1\n",
        "\n",
        "\n",
        "print(f\"El numero de la clase 1 : {count1}\")\n",
        "print(f\"El numero de la clase 2 : {count2}\")\n",
        "print(f\"El numero de la clase 3 : {count3}\")"
      ],
      "metadata": {
        "id": "x3hNFrVMC0Cv"
      },
      "execution_count": null,
      "outputs": []
    },
    {
      "cell_type": "markdown",
      "source": [
        "**Ejercicios avanzados con FOR y/o IF**\n"
      ],
      "metadata": {
        "id": "AJB5TpUXDdIP"
      }
    },
    {
      "cell_type": "markdown",
      "source": [
        "Calcular la edad promedio por clase.\n"
      ],
      "metadata": {
        "id": "v2vmXt2eEbhN"
      }
    },
    {
      "cell_type": "code",
      "source": [
        "numero_de_lineas = titanic.shape[0]\n",
        "print(f'El archivo CSV tiene {numero_de_lineas} líneas.')"
      ],
      "metadata": {
        "id": "bOSDhV1JIr-6"
      },
      "execution_count": null,
      "outputs": []
    },
    {
      "cell_type": "code",
      "source": [
        "EdadeTotal = titanic['Edad'].unique()\n",
        "OrdeEdad = sorted(EdadeTotal)  # Ordenar edades únicas\n",
        "for edad in OrdeEdad: # Removed extra space before 'for'\n",
        "     SumaEdad=edad.sum()\n",
        "     #print(f\"Edades disponible: {edad}\")\n",
        "\n",
        "resultado = SumaEdad / numero_de_lineas\n",
        "print(resultado)\n"
      ],
      "metadata": {
        "id": "d7GTxfJFHDec"
      },
      "execution_count": null,
      "outputs": []
    },
    {
      "cell_type": "markdown",
      "source": [
        "Contar el número de sobrevivientes y no sobrevivientes por género.\n"
      ],
      "metadata": {
        "id": "g4wrloTsEbdn"
      }
    },
    {
      "cell_type": "code",
      "source": [
        "#Contar el número de sobrevivientes y no sobrevivientes por género\n",
        "Mujeres = titanic[titanic['Sexo'] == 'female']\n",
        "Hombres = titanic[titanic['Sexo'] == 'male']\n",
        "\n",
        "# Contadores\n",
        "Mujer_sobrevive = 0\n",
        "Hombres_sobrevive = 0\n",
        "Mujer_muere = 0\n",
        "Hombres_muere = 0\n",
        "\n",
        "for _ in Mujeres['Sobrevivi']:\n",
        "    if _ == 1:  # Si sobrevive\n",
        "        Mujer_sobrevive += 1\n",
        "    elif _ == 0:  # Si no sobrevive\n",
        "        Mujer_muere += 1\n",
        "for _ in Hombres['Sobrevivi']:\n",
        "  if _==1:\n",
        "    Hombres_sobrevive +=1\n",
        "  elif _==0:\n",
        "    Hombres_muere +=1\n",
        "\n",
        "\n",
        "\n",
        "print(f\"El numero q muere Mujeres: {Mujer_muere}, y el numero q sobrevive Mujeres: {Mujer_sobrevive}\")\n",
        "print(f\"El numero q muere Hombres: {Hombres_muere}, y el numero q sobrevive Hombres: {Hombres_sobrevive}\")\n"
      ],
      "metadata": {
        "id": "c_VcSw7MFvGG"
      },
      "execution_count": null,
      "outputs": []
    },
    {
      "cell_type": "markdown",
      "source": [
        "Mostrar el porcentaje de menores y mayores de edad que sobrevivieron en cada lugar de embarque.\n"
      ],
      "metadata": {
        "id": "icjdi9smEbaU"
      }
    },
    {
      "cell_type": "code",
      "source": [
        "#Contar el número de sobrevivientes y no sobrevivientes por género\n",
        "MayorEdad = titanic[titanic['Edad'] > 18]\n",
        "MenorEdad = titanic[titanic['Edad'] < 18]\n",
        "# Contadores\n",
        "mayores_sobrevive = 0\n",
        "menores_sobrevive = 0\n",
        "mayores_muere = 0\n",
        "menores_muere = 0\n",
        "\n",
        "# Iterar sobre los mayores y contar quién sobrevive y quién no\n",
        "for _ in MayorEdad['Sobrevivi']:\n",
        "    if _ == 1:  # Si sobrevive\n",
        "        mayores_sobrevive += 1\n",
        "    elif _ == 0:  # Si no sobrevive\n",
        "        mayores_muere += 1\n",
        "for _ in MenorEdad['Sobrevivi']:\n",
        "  if _==1:\n",
        "    menores_sobrevive +=1\n",
        "  elif _==0:\n",
        "    menores_muere +=1\n",
        "\n",
        "print(f\"El numero q muere menores: {menores_muere}, y el numero q sobrevive menores: {menores_sobrevive}\")\n",
        "print(f\"El numero q muere Mayores: {mayores_muere}, y el numero q sobrevive Mayores: {mayores_sobrevive}\")\n"
      ],
      "metadata": {
        "id": "fteNfXu9gILv"
      },
      "execution_count": null,
      "outputs": []
    },
    {
      "cell_type": "markdown",
      "source": [
        "Listar todos los nombres de los pasajeros sobrevivientes en cada clase.\n"
      ],
      "metadata": {
        "id": "amK6KB3FEbXW"
      }
    },
    {
      "cell_type": "code",
      "source": [
        "Sobrevive = titanic[titanic['Sobrevivi'] == 1]\n",
        "Clase1 = Sobrevive[Sobrevive['Clase'] == 1]\n",
        "Clase2 = Sobrevive[Sobrevive['Clase'] == 2]\n",
        "Clase3 = Sobrevive[Sobrevive['Clase'] == 3]\n",
        "numero = input(\"Por favor, dime el nº de la clase 1,2 o 3: \")\n",
        "# Convertir la entrada a un número entero\n",
        "numero = int(numero)\n",
        "if numero == 1:\n",
        "    #Bucle para contar los de 1º clase\n",
        "    print(f\"Pasajeros de la Clase 1:\")\n",
        "    for _ in Clase1['Sobrevivi']:\n",
        "        for nombre in Clase1['Nombre']:\n",
        "            print(nombre)\n",
        "else:\n",
        "    if numero == 2:\n",
        "        #Bucle para contar los de 1º clase\n",
        "        print(f\"Pasajeros de la Clase 2:\")\n",
        "        for _ in Clase2['Sobrevivi']:\n",
        "            for nombre in Clase2['Nombre']:\n",
        "                print(nombre)\n",
        "    else:\n",
        "        if numero == 3:\n",
        "            #Bucle para contar los de 1º clase\n",
        "            print(f\"Pasajeros de la Clase 3:\")\n",
        "            for _ in Clase3['Sobrevivi']:\n",
        "                for nombre in Clase3['Nombre']:\n",
        "                    print(f\"Nombre {nombre}\")\n",
        "        else:  # Este 'else' corregido\n",
        "            print('error')"
      ],
      "metadata": {
        "id": "lAnJ2nxXl_vZ"
      },
      "execution_count": null,
      "outputs": []
    },
    {
      "cell_type": "markdown",
      "source": [
        "Calcular la tarifa promedio para hombres y mujeres en cada clase.\n"
      ],
      "metadata": {
        "id": "jdLaf9rSEbUG"
      }
    },
    {
      "cell_type": "code",
      "source": [
        "print(titanic.head(5))"
      ],
      "metadata": {
        "colab": {
          "base_uri": "https://localhost:8080/"
        },
        "id": "vEhTO4zIwFbl",
        "outputId": "8b792c11-f1db-4d16-9b1d-73ed6360f4e0"
      },
      "execution_count": 8,
      "outputs": [
        {
          "output_type": "stream",
          "name": "stdout",
          "text": [
            "   Id_pasaj  Sobrevivi  Clase  \\\n",
            "0         1          0      3   \n",
            "1         2          1      1   \n",
            "2         3          1      3   \n",
            "3         4          1      1   \n",
            "4         5          0      3   \n",
            "\n",
            "                                              Nombre    Sexo  Edad  \\\n",
            "0                            Braund, Mr. Owen Harris    male  22.0   \n",
            "1  Cumings, Mrs. John Bradley (Florence Briggs Th...  female  38.0   \n",
            "2                             Heikkinen, Miss. Laina  female  26.0   \n",
            "3       Futrelle, Mrs. Jacques Heath (Lily May Peel)  female  35.0   \n",
            "4                           Allen, Mr. William Henry    male  35.0   \n",
            "\n",
            "   Hermanos/esposos_a_bordo  Padres/hijos_a_bordo           Billete   Tarifa  \\\n",
            "0                         1                     0         A/5 21171   7.2500   \n",
            "1                         1                     0          PC 17599  71.2833   \n",
            "2                         0                     0  STON/O2. 3101282   7.9250   \n",
            "3                         1                     0            113803  53.1000   \n",
            "4                         0                     0            373450   8.0500   \n",
            "\n",
            "    Cabina Embarcado  MayorDeEdad  \n",
            "0  B96 B98         S         True  \n",
            "1      C85         C         True  \n",
            "2  B96 B98         S         True  \n",
            "3     C123         S         True  \n",
            "4  B96 B98         S         True  \n"
          ]
        }
      ]
    },
    {
      "cell_type": "code",
      "source": [
        "Sobrevive = titanic[titanic['Sobrevivi'] == 1]\n",
        "Clase1 = Sobrevive[Sobrevive['Clase'] == 1]\n",
        "Clase2 = Sobrevive[Sobrevive['Clase'] == 2]\n",
        "Clase3 = Sobrevive[Sobrevive['Clase'] == 3]\n",
        "Mujeres = titanic[titanic['Sexo'] == 'female']\n",
        "Hombres = titanic[titanic['Sexo'] == 'male']\n",
        "Tarifa =  titanic['Tarifa']\n",
        "\n",
        "numero = input(\"Por favor, dime el nº de la clase 1,2 o 3: \")\n",
        "# Convertir la entrada a un número entero\n",
        "numero = int(numero)\n",
        "\n",
        "if numero == 1:\n",
        "    print(\"Clase 1\")\n",
        "    # Filtra mujeres y hombres de la clase 1\n",
        "    Mujeres_Clase1 = Clase1[Clase1['Sexo'] == 'female']\n",
        "    Hombres_Clase1 = Clase1[Clase1['Sexo'] == 'male']\n",
        "\n",
        "    # Calcula el promedio de la tarifa para mujeres de la clase 1\n",
        "    promedioM_Clase1 = Mujeres_Clase1['Tarifa'].mean()\n",
        "\n",
        "    # Calcula el promedio de la tarifa para hombres de la clase 1\n",
        "    promedioH_Clase1 = Hombres_Clase1['Tarifa'].mean()\n",
        "\n",
        "    # Imprime los promedios para la clase 1\n",
        "    print(f\"Tarifa promedio para mujeres (Clase 1): {promedioM_Clase1:.2f}\")\n",
        "    print(f\"Tarifa promedio para hombres (Clase 1): {promedioH_Clase1:.2f}\")\n",
        "\n",
        "elif numero == 2:\n",
        "    print(\"Clase 2\")\n",
        "    # Filtra mujeres y hombres de la clase 1\n",
        "    Mujeres_Clase2 = Clase2[Clase2['Sexo'] == 'female']\n",
        "    Hombres_Clase2 = Clase2[Clase2['Sexo'] == 'male']\n",
        "\n",
        "    # Calcula el promedio de la tarifa para mujeres de la clase 1\n",
        "    promedioM_Clase2 = Mujeres_Clase2['Tarifa'].mean()\n",
        "\n",
        "    # Calcula el promedio de la tarifa para hombres de la clase 1\n",
        "    promedioH_Clase2 = Hombres_Clase2['Tarifa'].mean()\n",
        "\n",
        "    # Imprime los promedios para la clase 1\n",
        "    print(f\"Tarifa promedio para mujeres (Clase 2): {promedioM_Clase2:.2f}\")\n",
        "    print(f\"Tarifa promedio para hombres (Clase 2): {promedioH_Clase2:.2f}\")\n",
        "\n",
        "elif numero == 3:\n",
        "    print(\"Clase 3\")\n",
        "    # Filtra mujeres y hombres de la clase 1\n",
        "    Mujeres_Clase3 = Clase3[Clase3['Sexo'] == 'female']\n",
        "    Hombres_Clase3 = Clase3[Clase3['Sexo'] == 'male']\n",
        "\n",
        "    # Calcula el promedio de la tarifa para mujeres de la clase 1\n",
        "    promedioM_Clase3 = Mujeres_Clase3['Tarifa'].mean()\n",
        "\n",
        "    # Calcula el promedio de la tarifa para hombres de la clase 1\n",
        "    promedioH_Clase3 = Hombres_Clase3['Tarifa'].mean()\n",
        "\n",
        "    # Imprime los promedios para la clase 1\n",
        "    print(f\"Tarifa promedio para mujeres (Clase 3): {promedioM_Clase3:.2f}\")\n",
        "    print(f\"Tarifa promedio para hombres (Clase 3): {promedioH_Clase3:.2f}\")\n",
        "\n",
        "else:\n",
        "    print(\"error\")\n",
        "\n",
        "\n"
      ],
      "metadata": {
        "colab": {
          "base_uri": "https://localhost:8080/"
        },
        "id": "5YuHNqL4mAUa",
        "outputId": "226cd37b-a255-44e9-a6fe-940b410ce53a"
      },
      "execution_count": 11,
      "outputs": [
        {
          "output_type": "stream",
          "name": "stdout",
          "text": [
            "Por favor, dime el nº de la clase 1,2 o 3: 2\n",
            "Clase 2\n",
            "Tarifa promedio para mujeres (Clase 2): 22.29\n",
            "Tarifa promedio para hombres (Clase 2): 21.10\n"
          ]
        }
      ]
    },
    {
      "cell_type": "code",
      "source": [
        "media_edad = titanic['Edad'].mean()\n",
        "print(media_edad)\n",
        "#Completar la edad con 29 años, los valores nan\n",
        "titanic['Edad'] = titanic['Edad'].fillna(29)"
      ],
      "metadata": {
        "colab": {
          "base_uri": "https://localhost:8080/"
        },
        "id": "1D6AAn84jBO9",
        "outputId": "b39433fa-e84f-4993-81ec-b433f8533444"
      },
      "execution_count": 17,
      "outputs": [
        {
          "output_type": "stream",
          "name": "stdout",
          "text": [
            "29.64209269662921\n"
          ]
        }
      ]
    },
    {
      "cell_type": "code",
      "source": [
        "conteo_valores = titanic['Edad'].value_counts()\n",
        "print(conteo_valores)"
      ],
      "metadata": {
        "colab": {
          "base_uri": "https://localhost:8080/"
        },
        "id": "mR0QNeAQjS1x",
        "outputId": "b1eaea6b-118f-40e2-a20b-f50e826e279b"
      },
      "execution_count": 18,
      "outputs": [
        {
          "output_type": "stream",
          "name": "stdout",
          "text": [
            "Edad\n",
            "29.00    197\n",
            "24.00     30\n",
            "22.00     27\n",
            "18.00     26\n",
            "30.00     25\n",
            "        ... \n",
            "36.50      1\n",
            "55.50      1\n",
            "0.92       1\n",
            "23.50      1\n",
            "74.00      1\n",
            "Name: count, Length: 88, dtype: int64\n"
          ]
        }
      ]
    },
    {
      "cell_type": "markdown",
      "source": [
        "Identificar el pasajero más joven y más viejo en cada lugar de embarque."
      ],
      "metadata": {
        "id": "jfFmK7FwEbLU"
      }
    },
    {
      "cell_type": "code",
      "source": [
        "#Nom Variable, csv   csv    columna    datos a buscar\n",
        "EmbarqueC = titanic[titanic['Embarcado'] == 'C']\n",
        "EmbarqueS = titanic[titanic['Embarcado'] == 'S']\n",
        "EmbarqueQ = titanic[titanic['Embarcado'] == 'Q']\n",
        "\n",
        "# 4. Encontrar el índice del pasajero más joven\n",
        "indice_min_edad = titanic['Edad'].idxmin()\n",
        "# 5. Obtener la fila del pasajero más joven\n",
        "pasajero_mas_joven = titanic.loc[indice_min_edad]\n",
        "# Econtrar ind mas mayor\n",
        "indice_max_edad = titanic['Edad'].idxmax()\n",
        "# obtener fila pasajero mayor\n",
        "pasajero_mas_viejo = titanic.loc[indice_max_edad]\n",
        "\n",
        "verFilaJove = titanic.loc[indice_min_edad]\n",
        "verFilaMayor = titanic.loc[indice_max_edad]\n",
        "print(verFilaJove)\n",
        "print(\"##########\")\n",
        "print(verFilaMayor)\n",
        "\n",
        "\n",
        "\n"
      ],
      "metadata": {
        "id": "Mr-l6k-QmAy5",
        "colab": {
          "base_uri": "https://localhost:8080/"
        },
        "outputId": "470356a2-390f-4495-82de-dea8c9e008cb"
      },
      "execution_count": 24,
      "outputs": [
        {
          "output_type": "stream",
          "name": "stdout",
          "text": [
            "Id_pasaj                                                804\n",
            "Sobrevivi                                                 1\n",
            "Clase                                                     3\n",
            "Nombre                      Thomas, Master. Assad Alexander\n",
            "Sexo                                                   male\n",
            "Edad                                                   0.42\n",
            "Hermanos/esposos_a_bordo                                  0\n",
            "Padres/hijos_a_bordo                                      1\n",
            "Billete                                                2625\n",
            "Tarifa                                               8.5167\n",
            "Cabina                                              B96 B98\n",
            "Embarcado                                                 C\n",
            "MayorDeEdad                                           False\n",
            "Name: 802, dtype: object\n",
            "##########\n",
            "Id_pasaj                                                     631\n",
            "Sobrevivi                                                      1\n",
            "Clase                                                          1\n",
            "Nombre                      Barkworth, Mr. Algernon Henry Wilson\n",
            "Sexo                                                        male\n",
            "Edad                                                        80.0\n",
            "Hermanos/esposos_a_bordo                                       0\n",
            "Padres/hijos_a_bordo                                           0\n",
            "Billete                                                    27042\n",
            "Tarifa                                                      30.0\n",
            "Cabina                                                       A23\n",
            "Embarcado                                                      S\n",
            "MayorDeEdad                                                 True\n",
            "Name: 629, dtype: object\n"
          ]
        }
      ]
    },
    {
      "cell_type": "code",
      "source": [
        "conteo_valores = titanic['Embarcado'].value_counts()\n",
        "nombres_columnas = titanic.columns.tolist()\n",
        "print(conteo_valores)\n",
        "print(nombres_columnas)"
      ],
      "metadata": {
        "colab": {
          "base_uri": "https://localhost:8080/"
        },
        "id": "xIdu8yywgPV4",
        "outputId": "3d94caa9-1b1b-4a11-9a2f-68327ca87602"
      },
      "execution_count": 13,
      "outputs": [
        {
          "output_type": "stream",
          "name": "stdout",
          "text": [
            "Embarcado\n",
            "S    644\n",
            "C    168\n",
            "Q     77\n",
            "Name: count, dtype: int64\n",
            "['Id_pasaj', 'Sobrevivi', 'Clase', 'Nombre', 'Sexo', 'Edad', 'Hermanos/esposos_a_bordo', 'Padres/hijos_a_bordo', 'Billete', 'Tarifa', 'Cabina', 'Embarcado', 'MayorDeEdad']\n"
          ]
        }
      ]
    },
    {
      "cell_type": "markdown",
      "source": [
        "**Ejercicio 1: Distribución de edades en sobrevivientes y no sobrevivientes**"
      ],
      "metadata": {
        "id": "ceREvqj9omCN"
      }
    },
    {
      "cell_type": "markdown",
      "source": [
        "Calcula la edad promedio de los sobrevivientes (Sobrevivi == 1) y los no sobrevivientes (Sobrevivi == 0) utilizando un bucle for.\n",
        "\n",
        "Usa un if para verificar si la edad promedio de los sobrevivientes es mayor que la de los no sobrevivientes y muestra un mensaje indicando cuál es mayor.\n",
        "\n",
        "Cuenta cuántos menores de edad (edad < 18) hay en cada grupo (sobrevivientes y no sobrevivientes)."
      ],
      "metadata": {
        "id": "u5GkAfuUoomf"
      }
    },
    {
      "cell_type": "markdown",
      "source": [
        "**Ejercicio 2: Análisis de género en sobrevivientes por clase**"
      ],
      "metadata": {
        "id": "thDbNhuGoojG"
      }
    },
    {
      "cell_type": "markdown",
      "source": [
        "Filtra los pasajeros sobrevivientes y utiliza un for para iterar por las clases (Clase).\n",
        "\n",
        "Dentro del bucle, utiliza otro for para contar cuántos hombres y mujeres sobrevivieron en cada clase.\n",
        "\n",
        "Muestra el porcentaje de hombres y mujeres sobrevivientes en cada clase."
      ],
      "metadata": {
        "id": "lqOsdOSKoofp"
      }
    },
    {
      "cell_type": "markdown",
      "source": [
        "**Ejercicio 3: Análisis de tarifas y embarque**"
      ],
      "metadata": {
        "id": "g60VhW-roobe"
      }
    },
    {
      "cell_type": "markdown",
      "source": [
        "Para cada lugar de embarque (Embarked), calcula el promedio de la tarifa (Tarifa) pagada por los pasajeros utilizando un bucle.\n",
        "\n",
        "Identifica al pasajero que pagó la tarifa más alta en cada lugar de embarque.\n",
        "\n",
        "Muestra cuántos pasajeros embarcaron en cada lugar y cuál es la tarifa promedio total de ese lugar."
      ],
      "metadata": {
        "id": "hp4Eg7ynooXY"
      }
    },
    {
      "cell_type": "markdown",
      "source": [
        "**Ejercicio 4: Identificar extremos en edades por género y clase**"
      ],
      "metadata": {
        "id": "QC6gjib4ooOP"
      }
    },
    {
      "cell_type": "markdown",
      "source": [
        "Encuentra la edad mínima y máxima para hombres y mujeres en cada clase utilizando for y if.\n",
        "\n",
        "Calcula cuántos pasajeros en el rango de edad más joven sobrevivieron en cada clase.\n",
        "\n",
        "Identifica si hay alguna clase donde todos los pasajeros mayores de 50 años sobrevivieron."
      ],
      "metadata": {
        "id": "pEmIJv-5o-DV"
      }
    }
  ]
}