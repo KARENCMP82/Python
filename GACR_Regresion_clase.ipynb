{
  "nbformat": 4,
  "nbformat_minor": 0,
  "metadata": {
    "colab": {
      "provenance": [],
      "authorship_tag": "ABX9TyN03l4qHpo9FVoUO+psnBE+",
      "include_colab_link": true
    },
    "kernelspec": {
      "name": "python3",
      "display_name": "Python 3"
    },
    "language_info": {
      "name": "python"
    }
  },
  "cells": [
    {
      "cell_type": "markdown",
      "metadata": {
        "id": "view-in-github",
        "colab_type": "text"
      },
      "source": [
        "<a href=\"https://colab.research.google.com/github/KARENCMP82/Python/blob/main/GACR_Regresion_clase.ipynb\" target=\"_parent\"><img src=\"https://colab.research.google.com/assets/colab-badge.svg\" alt=\"Open In Colab\"/></a>"
      ]
    },
    {
      "cell_type": "markdown",
      "source": [
        "Google Analytics Customer Revenue"
      ],
      "metadata": {
        "id": "bOtMjiXq5sxZ"
      }
    },
    {
      "cell_type": "code",
      "source": [
        "# librerias\n",
        "# gestión de datos\n",
        "import numpy as np\n",
        "import pandas as pd\n",
        "\n",
        "# gráficos\n",
        "import seaborn as sns\n",
        "import matplotlib.pyplot as plt\n",
        "\n"
      ],
      "metadata": {
        "id": "u-KEDkTe23ce"
      },
      "execution_count": null,
      "outputs": []
    },
    {
      "cell_type": "code",
      "source": [],
      "metadata": {
        "id": "EnTROubb23Ye"
      },
      "execution_count": null,
      "outputs": []
    },
    {
      "cell_type": "code",
      "source": [],
      "metadata": {
        "id": "yzxSgBG823Dv"
      },
      "execution_count": null,
      "outputs": []
    },
    {
      "cell_type": "code",
      "execution_count": null,
      "metadata": {
        "id": "Xo5jMNlp2sr7"
      },
      "outputs": [],
      "source": [
        "#Conexion\n",
        "import pandas as pd\n",
        "from google.colab import drive\n",
        "drive.mount('/content/drive')\n",
        "#leemos el fichero IMDB\n",
        "lluvia=pd.read_csv(\"/content/drive/MyDrive/Colab Notebooks/Ejercicios/lluvia.csv\")\n",
        "# Cargar archivo CSV como DataFrame ver los 5 primero registros\n",
        "lluvia.head(20)"
      ]
    }
  ]
}