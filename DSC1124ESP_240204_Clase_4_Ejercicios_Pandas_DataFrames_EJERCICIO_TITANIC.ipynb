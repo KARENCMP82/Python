{
  "nbformat": 4,
  "nbformat_minor": 0,
  "metadata": {
    "hide_input": false,
    "kernelspec": {
      "display_name": "Python 3",
      "language": "python",
      "name": "python3"
    },
    "language_info": {
      "codemirror_mode": {
        "name": "ipython",
        "version": 3
      },
      "file_extension": ".py",
      "mimetype": "text/x-python",
      "name": "python",
      "nbconvert_exporter": "python",
      "pygments_lexer": "ipython3",
      "version": "3.8.5"
    },
    "latex_envs": {
      "LaTeX_envs_menu_present": true,
      "autoclose": false,
      "autocomplete": true,
      "bibliofile": "biblio.bib",
      "cite_by": "apalike",
      "current_citInitial": 1,
      "eqLabelWithNumbers": true,
      "eqNumInitial": 1,
      "hotkeys": {
        "equation": "Ctrl-E",
        "itemize": "Ctrl-I"
      },
      "labels_anchors": false,
      "latex_user_defs": false,
      "report_style_numbering": false,
      "user_envs_cfg": false
    },
    "toc": {
      "base_numbering": 1,
      "nav_menu": {},
      "number_sections": true,
      "sideBar": true,
      "skip_h1_title": false,
      "title_cell": "Table of Contents",
      "title_sidebar": "Contents",
      "toc_cell": false,
      "toc_position": {
        "height": "calc(100% - 180px)",
        "left": "10px",
        "top": "150px",
        "width": "165px"
      },
      "toc_section_display": true,
      "toc_window_display": false
    },
    "varInspector": {
      "cols": {
        "lenName": 16,
        "lenType": 16,
        "lenVar": 40
      },
      "kernels_config": {
        "python": {
          "delete_cmd_postfix": "",
          "delete_cmd_prefix": "del ",
          "library": "var_list.py",
          "varRefreshCmd": "print(var_dic_list())"
        },
        "r": {
          "delete_cmd_postfix": ") ",
          "delete_cmd_prefix": "rm(",
          "library": "var_list.r",
          "varRefreshCmd": "cat(var_dic_list()) "
        }
      },
      "types_to_exclude": [
        "module",
        "function",
        "builtin_function_or_method",
        "instance",
        "_Feature"
      ],
      "window_display": false
    },
    "colab": {
      "provenance": [],
      "include_colab_link": true
    }
  },
  "cells": [
    {
      "cell_type": "markdown",
      "metadata": {
        "id": "view-in-github",
        "colab_type": "text"
      },
      "source": [
        "<a href=\"https://colab.research.google.com/github/KARENCMP82/Python/blob/main/DSC1124ESP_240204_Clase_4_Ejercicios_Pandas_DataFrames_EJERCICIO_TITANIC.ipynb\" target=\"_parent\"><img src=\"https://colab.research.google.com/assets/colab-badge.svg\" alt=\"Open In Colab\"/></a>"
      ]
    },
    {
      "cell_type": "markdown",
      "metadata": {
        "id": "Xk5S2gjOc_bQ"
      },
      "source": [
        "![Nuclio logo](https://nuclio.school/wp-content/uploads/2018/12/nucleoDS-newBlack.png)"
      ]
    },
    {
      "cell_type": "markdown",
      "source": [
        "#Ejercicios Pandas **Dataframes**\n"
      ],
      "metadata": {
        "id": "SvnKDPAp6RM9"
      }
    },
    {
      "cell_type": "markdown",
      "metadata": {
        "id": "1wobbGOVc_cN"
      },
      "source": [
        "## Tabla de datos Titanic"
      ]
    },
    {
      "cell_type": "markdown",
      "metadata": {
        "id": "_22UuDQlc_cO"
      },
      "source": [
        "El fichero titanic.csv contiene información sobre los pasajeros del Titanic. Escribir un programa con los siguientes requisitos:\n",
        "\n",
        "0. Generar un DataFrame con los datos del fichero. Para importar usaremos Pandas.\n",
        "1. Mostrar por pantalla las dimensiones del DataFrame, el número de datos que contiene, los nombres de sus columnas y filas, los tipos de datos de las columnas, las 10 primeras filas y las 10 últimas filas\n",
        "2. Identifique qué columnas tienen valores nulos\n",
        "3. Sustituya los valores nulos en la columna \"Cabin\" por el valor más frecuente (moda)\n",
        "4. Elimine las filas donde la columna 'Embarked' está nula.\n",
        "5. Verifique si hay filas duplicadas en el conjunto de datos.Elimine, si los hay\n",
        "6. Mostrar por pantalla los datos del pasajero con identificador 148.\n",
        "7. Mostrar por pantalla las filas pares del DataFrame.\n",
        "8. Mostrar por pantalla los nombres de las personas que iban en primera clase ordenadas alfabéticamente.\n",
        "9. Mostrar por pantalla el porcentaje de personas que sobrevivieron y murieron.\n",
        "10. Mostrar por pantalla el porcentaje de personas que sobrevivieron en cada clase.\n",
        "11. Eliminar del DataFrame los pasajeros con edad desconocida.\n",
        "12. Mostrar por pantalla la edad media de las mujeres que viajaban en cada clase.\n",
        "13. Añadir una nueva columna booleana para ver si el pasajero era menor de edad o no.\n",
        "14.Mostrar por pantalla el porcentaje de menores y mayores de edad que sobrevivieron en cada clase."
      ]
    },
    {
      "cell_type": "markdown",
      "source": [
        "BONUS"
      ],
      "metadata": {
        "id": "8gyK3k8hOX9g"
      }
    },
    {
      "cell_type": "markdown",
      "source": [
        "- Calcule y visualice la proporción de supervivientes por género.\n",
        "- Calcule y visualice la proporción de supervivientes por clase de pasajero.\n",
        "- Calcule y visualice la tasa de supervivencia para cada lugar de embarque."
      ],
      "metadata": {
        "id": "QDhYRgRoOZS1"
      }
    },
    {
      "cell_type": "markdown",
      "source": [
        "## Resolución"
      ],
      "metadata": {
        "id": "NR6tjAoU7au-"
      }
    },
    {
      "cell_type": "code",
      "source": [],
      "metadata": {
        "id": "7GT1HWNpNk3Z"
      },
      "execution_count": null,
      "outputs": []
    },
    {
      "cell_type": "markdown",
      "source": [
        "0. Generar un DataFrame con los datos del fichero. Para importar usaremos Pandas."
      ],
      "metadata": {
        "id": "WOgWKRu-7hAd"
      }
    },
    {
      "cell_type": "code",
      "source": [
        "from google.colab import drive\n",
        "drive.mount('/content/drive')\n",
        "#leemos el fichero IMDB\n",
        "imdb=pd.read_csv(\"/content/drive/MyDrive/Colab Notebooks/Ejercicios/bmw_pricing_v3.csv\")\n",
        "# Cargar archivo CSV como DataFrame ver los 5 primero registros\n",
        "imdb.head()"
      ],
      "metadata": {
        "id": "U5aPKdhs8cR8"
      },
      "execution_count": null,
      "outputs": []
    },
    {
      "cell_type": "markdown",
      "source": [
        "1. Mostrar por pantalla las dimensiones del DataFrame, el número de datos que contiene, los nombres de sus columnas y filas, los tipos de datos de las columnas, las 10 primeras filas y las 10 últimas filas"
      ],
      "metadata": {
        "id": "AOgn5shi7gzO"
      }
    },
    {
      "cell_type": "code",
      "source": [],
      "metadata": {
        "id": "Ms6osuYT1cQJ"
      },
      "execution_count": null,
      "outputs": []
    },
    {
      "cell_type": "code",
      "source": [],
      "metadata": {
        "id": "KfnqESgsr1YT"
      },
      "execution_count": null,
      "outputs": []
    },
    {
      "cell_type": "code",
      "source": [],
      "metadata": {
        "id": "vG0qi4xGr5uK"
      },
      "execution_count": null,
      "outputs": []
    },
    {
      "cell_type": "code",
      "source": [],
      "metadata": {
        "id": "nQsnZURor5q2"
      },
      "execution_count": null,
      "outputs": []
    },
    {
      "cell_type": "code",
      "source": [],
      "metadata": {
        "id": "94kAy3BKr5kj"
      },
      "execution_count": null,
      "outputs": []
    },
    {
      "cell_type": "code",
      "source": [],
      "metadata": {
        "id": "GK_F2ngJr-eR"
      },
      "execution_count": null,
      "outputs": []
    },
    {
      "cell_type": "code",
      "source": [],
      "metadata": {
        "id": "1TT8MqA3r-YV"
      },
      "execution_count": null,
      "outputs": []
    },
    {
      "cell_type": "markdown",
      "source": [
        "2. Identifique qué columnas tienen valores nulos\n"
      ],
      "metadata": {
        "id": "IXy5IQj27g9y"
      }
    },
    {
      "cell_type": "code",
      "source": [],
      "metadata": {
        "id": "hz7X_2_V8c2j"
      },
      "execution_count": null,
      "outputs": []
    },
    {
      "cell_type": "markdown",
      "source": [
        "3. Sustituya los valores nulos en la columna \"Cabin\" por el valor más frecuente (moda)"
      ],
      "metadata": {
        "id": "Z2sExweo7g7O"
      }
    },
    {
      "cell_type": "code",
      "source": [],
      "metadata": {
        "id": "Qx635RINI3Wq"
      },
      "execution_count": null,
      "outputs": []
    },
    {
      "cell_type": "code",
      "source": [],
      "metadata": {
        "id": "rkNkRgYxsZXK"
      },
      "execution_count": null,
      "outputs": []
    },
    {
      "cell_type": "code",
      "source": [],
      "metadata": {
        "id": "zhT9sy_Nshr8"
      },
      "execution_count": null,
      "outputs": []
    },
    {
      "cell_type": "code",
      "source": [],
      "metadata": {
        "id": "sze778vZsoHr"
      },
      "execution_count": null,
      "outputs": []
    },
    {
      "cell_type": "code",
      "source": [],
      "metadata": {
        "id": "Uh0MzUDpsqVI"
      },
      "execution_count": null,
      "outputs": []
    },
    {
      "cell_type": "markdown",
      "source": [
        "4. Elimine las filas donde la columna 'Embarked' está nula.\n"
      ],
      "metadata": {
        "id": "yOp2k0pj7g4n"
      }
    },
    {
      "cell_type": "code",
      "source": [],
      "metadata": {
        "id": "ZK9Llvdu8eAj"
      },
      "execution_count": null,
      "outputs": []
    },
    {
      "cell_type": "code",
      "source": [],
      "metadata": {
        "id": "cJ6tqkIJs-03"
      },
      "execution_count": null,
      "outputs": []
    },
    {
      "cell_type": "markdown",
      "source": [
        "5. Verifique si hay filas duplicadas en el conjunto de datos.Elimine, si los hay\n"
      ],
      "metadata": {
        "id": "g6siR81O7g18"
      }
    },
    {
      "cell_type": "code",
      "source": [],
      "metadata": {
        "id": "ipVIx67N8fUW"
      },
      "execution_count": null,
      "outputs": []
    },
    {
      "cell_type": "markdown",
      "source": [
        "6. Mostrar por pantalla los datos del pasajero con identificador 148."
      ],
      "metadata": {
        "id": "fBZYw6517gwi"
      }
    },
    {
      "cell_type": "code",
      "source": [],
      "metadata": {
        "id": "XleTjPZJ8gRN"
      },
      "execution_count": null,
      "outputs": []
    },
    {
      "cell_type": "markdown",
      "source": [
        "7. Mostrar por pantalla las filas pares del DataFrame."
      ],
      "metadata": {
        "id": "Sc0FNy5-7gtm"
      }
    },
    {
      "cell_type": "code",
      "source": [],
      "metadata": {
        "id": "XeiYoBlODzrn"
      },
      "execution_count": null,
      "outputs": []
    },
    {
      "cell_type": "markdown",
      "source": [
        "8. Mostrar por pantalla los nombres de las personas que iban en primera clase ordenadas alfabéticamente."
      ],
      "metadata": {
        "id": "DOrfa1jI7gqr"
      }
    },
    {
      "cell_type": "code",
      "source": [],
      "metadata": {
        "id": "nu8k2PhK8hsA"
      },
      "execution_count": null,
      "outputs": []
    },
    {
      "cell_type": "markdown",
      "source": [
        "9. Mostrar por pantalla el porcentaje de personas que sobrevivieron y murieron.\n"
      ],
      "metadata": {
        "id": "AsKMwnY_7gjs"
      }
    },
    {
      "cell_type": "code",
      "source": [],
      "metadata": {
        "id": "tEwDF9XI8iZt"
      },
      "execution_count": null,
      "outputs": []
    },
    {
      "cell_type": "markdown",
      "source": [
        "10. Mostrar por pantalla el porcentaje de personas que sobrevivieron en cada clase."
      ],
      "metadata": {
        "id": "BLtTHov68AOU"
      }
    },
    {
      "cell_type": "code",
      "source": [],
      "metadata": {
        "id": "mAY57svcGOQF"
      },
      "execution_count": null,
      "outputs": []
    },
    {
      "cell_type": "markdown",
      "source": [
        "11. Eliminar del DataFrame los pasajeros con edad desconocida."
      ],
      "metadata": {
        "id": "gplGclKh79bI"
      }
    },
    {
      "cell_type": "code",
      "source": [],
      "metadata": {
        "id": "HXNZ9USrKJlm"
      },
      "execution_count": null,
      "outputs": []
    },
    {
      "cell_type": "code",
      "source": [],
      "metadata": {
        "id": "Kqy9VMjNuZ6t"
      },
      "execution_count": null,
      "outputs": []
    },
    {
      "cell_type": "markdown",
      "source": [
        "12. Mostrar por pantalla la edad media de las mujeres que viajaban en cada clase."
      ],
      "metadata": {
        "id": "aIVGuUEL8C9_"
      }
    },
    {
      "cell_type": "code",
      "source": [],
      "metadata": {
        "id": "gez9AM_GLDy1"
      },
      "execution_count": null,
      "outputs": []
    },
    {
      "cell_type": "markdown",
      "source": [
        "13. Añadir una nueva columna booleana para ver si el pasajero era menor de edad o no."
      ],
      "metadata": {
        "id": "Txpi9mnL8EeT"
      }
    },
    {
      "cell_type": "code",
      "source": [],
      "metadata": {
        "id": "CLgcaRAS8k23"
      },
      "execution_count": null,
      "outputs": []
    },
    {
      "cell_type": "markdown",
      "source": [
        "14.Mostrar por pantalla el porcentaje de menores y mayores de edad que sobrevivieron en cada clase."
      ],
      "metadata": {
        "id": "hmEwH2RG8Flt"
      }
    },
    {
      "cell_type": "code",
      "source": [],
      "metadata": {
        "id": "-a6Nu25hMb-Z"
      },
      "execution_count": null,
      "outputs": []
    },
    {
      "cell_type": "markdown",
      "source": [
        "BONUS"
      ],
      "metadata": {
        "id": "msFVqOiB8KJM"
      }
    },
    {
      "cell_type": "markdown",
      "source": [
        "Calcule y visualice la proporción de supervivientes por género."
      ],
      "metadata": {
        "id": "jFwNJ9Qp8LhH"
      }
    },
    {
      "cell_type": "code",
      "source": [],
      "metadata": {
        "id": "7fGtJvVG8mHS"
      },
      "execution_count": null,
      "outputs": []
    },
    {
      "cell_type": "markdown",
      "source": [
        "Calcule y visualice la proporción de supervivientes por clase de pasajero.\n"
      ],
      "metadata": {
        "id": "OSLiUqcH8HaD"
      }
    },
    {
      "cell_type": "code",
      "source": [],
      "metadata": {
        "id": "34j6Qc9h8miO"
      },
      "execution_count": null,
      "outputs": []
    },
    {
      "cell_type": "markdown",
      "source": [
        "Calcule y visualice la tasa de supervivencia para cada lugar de embarque."
      ],
      "metadata": {
        "id": "Y-bKlqqd8T2T"
      }
    },
    {
      "cell_type": "code",
      "source": [],
      "metadata": {
        "id": "pUg_z0EAQS-U"
      },
      "execution_count": null,
      "outputs": []
    },
    {
      "cell_type": "code",
      "source": [],
      "metadata": {
        "id": "Nv_mDP6av1dW"
      },
      "execution_count": null,
      "outputs": []
    }
  ]
}