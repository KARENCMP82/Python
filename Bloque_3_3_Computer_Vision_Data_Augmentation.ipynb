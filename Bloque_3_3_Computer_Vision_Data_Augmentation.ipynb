{
  "cells": [
    {
      "cell_type": "markdown",
      "metadata": {
        "id": "view-in-github",
        "colab_type": "text"
      },
      "source": [
        "<a href=\"https://colab.research.google.com/github/KARENCMP82/Python/blob/main/Bloque_3_3_Computer_Vision_Data_Augmentation.ipynb\" target=\"_parent\"><img src=\"https://colab.research.google.com/assets/colab-badge.svg\" alt=\"Open In Colab\"/></a>"
      ]
    },
    {
      "cell_type": "markdown",
      "metadata": {
        "id": "kSb1uTpJn_eC"
      },
      "source": [
        "## **DATA AUGMENTATION**"
      ]
    },
    {
      "cell_type": "code",
      "execution_count": 1,
      "metadata": {
        "id": "qRoU6uh8NM1W",
        "colab": {
          "base_uri": "https://localhost:8080/"
        },
        "outputId": "bdaecf4f-4bcf-47da-8e14-ecae46cfcd89"
      },
      "outputs": [
        {
          "output_type": "stream",
          "name": "stdout",
          "text": [
            "Mounted at /content/drive/\n"
          ]
        }
      ],
      "source": [
        "# SOLO PARA USO EN GOOGLE COLABORATORY\n",
        "# Para conectar el notebook con la cuenta de gdrive\n",
        "from google.colab import drive\n",
        "drive.mount('/content/drive/')\n",
        "\n",
        "BASE_FOLDER = \"/content/drive/MyDrive/Colab Notebooks/Ejercicios/\" # Ajustar el directorio raíz de Google Drive"
      ]
    },
    {
      "cell_type": "markdown",
      "metadata": {
        "id": "TSXhGQa3PQKc"
      },
      "source": [
        "#### **- Cargando el conjunto de datos**"
      ]
    },
    {
      "cell_type": "code",
      "execution_count": 22,
      "metadata": {
        "id": "2zUYUzxuFOg9"
      },
      "outputs": [],
      "source": [
        "from tensorflow.keras.datasets import cifar10\n",
        "((trainX, trainY), (testX, testY)) = cifar10.load_data()\n",
        "labelNames = [\"Avión\", \"Automóvil\", \"Pájaro\", \"Gato\", \"Ciervo\", \"Perro\", \"Rana\", \"Caballo\", \"Barco\", \"Camión\"]\n",
        "# (Y también incluye aquí la normalización y el to_categorical si los haces)\n",
        "# trainX_norm = trainX / 255.0\n",
        "# testX_norm = testX / 255.0\n",
        "# num_classes = 10\n",
        "# trainY_cat = to_categorical(trainY, num_classes)\n",
        "# testY_cat = to_categorical(testY, num_classes)\n",
        "\n",
        "# ... (código anterior de capas xfc) ...\n",
        "\n",
        "# Clasificador softmax\n",
        "# CORREGIR: Definir num_classes para CIFAR-10 ANTES de usarlo\n",
        "num_classes = 10 # CIFAR-10 tiene 10 clases\n",
        "predictions = Dense(num_classes, activation=\"softmax\")(xfc) # Ahora 'num_classes' existe\n",
        "\n",
        "# ... (resto del código del modelo) ...\n"
      ]
    },
    {
      "cell_type": "markdown",
      "source": [
        "#### **- Acondicionando el conjunto de datos**"
      ],
      "metadata": {
        "id": "PyisC2sXDDAT"
      }
    },
    {
      "cell_type": "code",
      "source": [
        "# PREPROCESADO DE LOS DATOS\n",
        "trainX = trainX / 255.0\n",
        "testX = testX / 255.0\n",
        "\n",
        "print(trainY.shape)\n",
        "print(testY.shape)\n",
        "\n",
        "# Por si es necesario convertir a one-hot encoding\n",
        "lb = LabelBinarizer()\n",
        "trainY = lb.fit_transform(trainY)\n",
        "testY = lb.transform(testY)\n",
        "print(trainY.shape)\n",
        "print(testY.shape)\n",
        "print(trainX.shape)\n",
        "print(testX.shape)"
      ],
      "metadata": {
        "id": "YKZBckWZDHzv",
        "colab": {
          "base_uri": "https://localhost:8080/"
        },
        "outputId": "14cd7bb1-485b-4e51-a421-862ea032bbe8"
      },
      "execution_count": 23,
      "outputs": [
        {
          "output_type": "stream",
          "name": "stdout",
          "text": [
            "(50000, 1)\n",
            "(10000, 1)\n",
            "(50000, 10)\n",
            "(10000, 10)\n",
            "(50000, 32, 32, 3)\n",
            "(10000, 32, 32, 3)\n"
          ]
        }
      ]
    },
    {
      "cell_type": "markdown",
      "metadata": {
        "id": "bEgHlw7oPSl6"
      },
      "source": [
        "#### **- Creando un contenedor DataGenerator para el aumento automático de muestras**"
      ]
    },
    {
      "cell_type": "code",
      "execution_count": 24,
      "metadata": {
        "id": "FA0swBO3NHlQ"
      },
      "outputs": [],
      "source": [
        "from tensorflow.keras.preprocessing.image import ImageDataGenerator\n",
        "\n",
        "datagen = ImageDataGenerator(#objeto, hace las tranformaciones de imagenes\n",
        "    rotation_range=15, # grados de rotación aleatoria\n",
        "    width_shift_range=0.1, # fracción del total (1) para mover la imagen\n",
        "    height_shift_range=0.1, # fracción del total (1) para mover la imagen\n",
        "    horizontal_flip=True, # girar las imagenes horizontalmente (eje vertical)\n",
        "    # shear_range=0, # deslizamiento\n",
        "    # zoom_range=0.1, # rango de zoom\n",
        "    # fill_mode='nearest', # como rellenar posibles nuevos píxeles\n",
        "    # channel_shift_range=0.2 # cambios aleatorios en los canales de la imagen\n",
        "\n",
        "    ##################################################\n",
        "    # (X) INPUT - Definir la partición de validación\n",
        "    ##################################################\n",
        ")"
      ]
    },
    {
      "cell_type": "markdown",
      "metadata": {
        "id": "3jiAe2cEPk0Y"
      },
      "source": [
        "#### **- Inspeccionando las muestras generadas sintéticamente**"
      ]
    },
    {
      "cell_type": "code",
      "execution_count": 25,
      "metadata": {
        "id": "vtgZCInwNHlX",
        "colab": {
          "base_uri": "https://localhost:8080/",
          "height": 863
        },
        "outputId": "92626d5b-794e-4ed0-9f97-5c0fa48bfc54"
      },
      "outputs": [
        {
          "output_type": "display_data",
          "data": {
            "text/plain": [
              "<Figure size 640x480 with 1 Axes>"
            ],
            "image/png": "[encoded data removed]"
          },
          "metadata": {}
        },
        {
          "output_type": "stream",
          "name": "stdout",
          "text": [
            "Label = Caballo\n"
          ]
        },
        {
          "output_type": "display_data",
          "data": {
            "text/plain": [
              "<Figure size 640x480 with 4 Axes>"
            ],
            "image/png": "[encoded data removed]"
          },
          "metadata": {}
        }
      ],
      "source": [
        "from tensorflow.keras.preprocessing import image\n",
        "import matplotlib.pyplot as plt\n",
        "%matplotlib inline\n",
        "\n",
        "sample = 12\n",
        "plt.imshow(image.array_to_img(trainX[sample]))\n",
        "plt.show()\n",
        "print('Label = {}'.format(labelNames[trainY[sample].argmax(axis=0)]))\n",
        "\n",
        "fig, axes = plt.subplots(2,2)\n",
        "i = 0\n",
        "for batch in datagen.flow(trainX[sample].reshape((1,32,32,3)),batch_size=1):\n",
        "    axes[i//2,i%2].imshow(image.array_to_img(batch[0]))\n",
        "    i += 1\n",
        "    if i == 4:\n",
        "        break\n",
        "plt.show()"
      ]
    },
    {
      "cell_type": "markdown",
      "metadata": {
        "id": "_RCjtfY8Ps-G"
      },
      "source": [
        "#### **- Creando la topología de red neuronal y entrenándola: CNN**"
      ]
    },
    {
      "cell_type": "code",
      "execution_count": 26,
      "metadata": {
        "colab": {
          "base_uri": "https://localhost:8080/",
          "height": 245
        },
        "id": "ydYOaUlR5DVK",
        "outputId": "7f3f0abc-dbb6-45e1-b52e-62f0bd5166d9"
      },
      "outputs": [
        {
          "output_type": "stream",
          "name": "stdout",
          "text": [
            "[INFO]: Compilando el modelo...\n",
            "[INFO]: Dividiendo datos para entrenamiento y validación...\n"
          ]
        },
        {
          "output_type": "error",
          "ename": "NameError",
          "evalue": "name 'x_train_norm' is not defined",
          "traceback": [
            "\u001b[0;31m---------------------------------------------------------------------------\u001b[0m",
            "\u001b[0;31mNameError\u001b[0m                                 Traceback (most recent call last)",
            "\u001b[0;32m<ipython-input-26-ea6bc141c2ca>\u001b[0m in \u001b[0;36m<cell line: 0>\u001b[0;34m()\u001b[0m\n\u001b[1;32m     87\u001b[0m \u001b[0;31m# Si no las tienes, debes crearlas antes (normalizar x, categorizar y)\u001b[0m\u001b[0;34m\u001b[0m\u001b[0;34m\u001b[0m\u001b[0m\n\u001b[1;32m     88\u001b[0m x_tr_norm, x_val_norm, y_tr_cat, y_val_cat = train_test_split(\n\u001b[0;32m---> 89\u001b[0;31m     \u001b[0mx_train_norm\u001b[0m\u001b[0;34m,\u001b[0m \u001b[0my_train_cat\u001b[0m\u001b[0;34m,\u001b[0m\u001b[0;34m\u001b[0m\u001b[0;34m\u001b[0m\u001b[0m\n\u001b[0m\u001b[1;32m     90\u001b[0m     \u001b[0mtest_size\u001b[0m\u001b[0;34m=\u001b[0m\u001b[0;36m0.1\u001b[0m\u001b[0;34m,\u001b[0m \u001b[0;31m# Por ejemplo, 10% para validación\u001b[0m\u001b[0;34m\u001b[0m\u001b[0;34m\u001b[0m\u001b[0m\n\u001b[1;32m     91\u001b[0m     \u001b[0mrandom_state\u001b[0m\u001b[0;34m=\u001b[0m\u001b[0;36m42\u001b[0m \u001b[0;31m# Para reproducibilidad\u001b[0m\u001b[0;34m\u001b[0m\u001b[0;34m\u001b[0m\u001b[0m\n",
            "\u001b[0;31mNameError\u001b[0m: name 'x_train_norm' is not defined"
          ]
        }
      ],
      "source": [
        "# Import the necessary packages\n",
        "import numpy as np\n",
        "from tensorflow.keras import backend as K\n",
        "from tensorflow.keras.layers import Input, Conv2D, Activation, Flatten, Dense, Dropout, BatchNormalization, MaxPooling2D\n",
        "from tensorflow.keras.models import Model\n",
        "# from tensorflow.keras.models import Sequential # CORREGIR: No necesitas Sequential si usas la API Funcional (Model)\n",
        "from tensorflow.keras.optimizers import SGD, Adam\n",
        "from sklearn.metrics import classification_report\n",
        "import matplotlib.pyplot as plt\n",
        "from google.colab import drive\n",
        "# CORREGIR: Faltan estas importaciones\n",
        "from sklearn.model_selection import train_test_split\n",
        "from tensorflow.keras.preprocessing.image import ImageDataGenerator\n",
        "\n",
        "# --- ASUMO QUE ESTAS VARIABLES YA EXISTEN DE CELDAS ANTERIORES ---\n",
        "# Necesitas tener cargados los datos (ej. de cifar10 o cifar100) en variables como:\n",
        "# x_train, y_train, x_test, y_test\n",
        "# Y también haberlos preprocesado (normalizado / 255.0 y convertido a one-hot con to_categorical) en:\n",
        "# x_train_norm, y_train_cat, x_test_norm, y_test_cat\n",
        "# Y tener definido num_classes (ej. 10 para CIFAR-10, 100 para CIFAR-100)\n",
        "# Y tener definidos epochs y batch_size\n",
        "# --- FIN DE ASUNCIONES ---\n",
        "\n",
        "# --- Definición de la Arquitectura (API Funcional) ---\n",
        "# CORREGIR: Asegúrate de que trainX existe y tiene la forma correcta (ej. x_train_norm de CIFAR)\n",
        "# Si usas x_train directamente de cifar100.load_data(), la forma sería (50000, 32, 32, 3)\n",
        "# PERO es mejor usar los datos normalizados: x_train_norm\n",
        "# Asumiré que quieres usar x_train_norm (ya normalizado)\n",
        "# Si aún no lo has dividido, lo haremos después. Por ahora, tomamos la forma del original.\n",
        "# Si x_train no existe, esta línea dará error. Carga los datos primero.\n",
        "input_shape_correct = (trainX.shape[1], trainX.shape[2], trainX.shape[3]) # (ej: 32, 32, 3)\n",
        "inputs = Input(shape=input_shape_correct) # CORREGIR: Usar la forma correcta\n",
        "\n",
        "# Primer set de capas CONV => RELU => CONV => RELU => POOL\n",
        "x1 = Conv2D(32, (3, 3), padding=\"same\", activation=\"relu\")(inputs)\n",
        "x1 = BatchNormalization()(x1)\n",
        "x1 = Conv2D(32, (3, 3), padding=\"same\", activation=\"relu\")(x1)\n",
        "x1 = BatchNormalization()(x1)\n",
        "x1 = MaxPooling2D(pool_size=(2, 2))(x1)\n",
        "x1 = Dropout(0.25)(x1)\n",
        "\n",
        "# Segundo set de capas CONV => RELU => CONV => RELU => POOL\n",
        "x2 = Conv2D(64, (3, 3), padding=\"same\", activation=\"relu\")(x1)\n",
        "x2 = BatchNormalization()(x2)\n",
        "x2 = Conv2D(64, (3, 3), padding=\"same\", activation=\"relu\")(x2)\n",
        "x2 = BatchNormalization()(x2)\n",
        "x2 = MaxPooling2D(pool_size=(2, 2))(x2)\n",
        "x2 = Dropout(0.25)(x2)\n",
        "\n",
        "# Tercer set de capas CONV => RELU => CONV => RELU => POOL\n",
        "# CORREGIR: El número de filtros (256) puede ser mucho para empezar con 32x32. Podrías probar 128.\n",
        "x3 = Conv2D(128, (3, 3), padding=\"same\", activation=\"relu\")(x2) # CORREGIR (Opcional): Cambiado 256 a 128\n",
        "x3 = BatchNormalization()(x3)\n",
        "x3 = Conv2D(128, (3, 3), padding=\"same\", activation=\"relu\")(x3) # CORREGIR (Opcional): Cambiado 256 a 128\n",
        "x3 = BatchNormalization()(x3)\n",
        "x3 = MaxPooling2D(pool_size=(2, 2))(x3)\n",
        "x3 = Dropout(0.25)(x3)\n",
        "\n",
        "# Primer (y único) set de capas FC => RELU\n",
        "xfc = Flatten()(x3)\n",
        "xfc = Dense(512, activation=\"relu\")(xfc)\n",
        "xfc = BatchNormalization()(xfc)\n",
        "xfc = Dropout(0.5)(xfc)\n",
        "\n",
        "# Clasificador softmax\n",
        "# CORREGIR: La capa de salida debe tener 'num_classes' neuronas (ej. 10 o 100), no 10 fijas.\n",
        "# Asumiré que 'num_classes' está definido antes (ej. num_classes=100 para CIFAR-100)\n",
        "predictions = Dense(num_classes, activation=\"softmax\")(xfc)\n",
        "\n",
        "# Unimos las entradas y el modelo mediante la función Model\n",
        "model_aug = Model(inputs=inputs, outputs=predictions)\n",
        "\n",
        "# Compilar el modelo\n",
        "print(\"[INFO]: Compilando el modelo...\")\n",
        "# CORREGIR: La pérdida debe ser 'categorical_crossentropy' si tus etiquetas (trainY/y_train_cat) están en formato one-hot.\n",
        "# 'binary_crossentropy' es para 2 clases. 'sparse_categorical_crossentropy' si las etiquetas son números enteros.\n",
        "# Usaremos 'categorical_crossentropy' asumiendo que hiciste to_categorical antes.\n",
        "model_aug.compile(loss=\"categorical_crossentropy\", optimizer=Adam(learning_rate=0.001), metrics=[\"accuracy\"])\n",
        "\n",
        "#### HASTA AQUÍ LA DEFINICIÓN Y COMPILACIÓN DEL MODELO ####\n",
        "\n",
        "# --- CAMBIOS IMPORTANTES PARA EL ENTRENAMIENTO Y LA EVALUACIÓN ---\n",
        "\n",
        "# CORREGIR: Dividir los datos preprocesados (asumiendo que existen) en entrenamiento y validación ANTES\n",
        "print(\"[INFO]: Dividiendo datos para entrenamiento y validación...\")\n",
        "# Usa las variables con datos normalizados y categorizados (ej. x_train_norm, y_train_cat)\n",
        "# Si no las tienes, debes crearlas antes (normalizar x, categorizar y)\n",
        "x_tr_norm, x_val_norm, y_tr_cat, y_val_cat = train_test_split(\n",
        "    x_train_norm, y_train_cat,\n",
        "    test_size=0.1, # Por ejemplo, 10% para validación\n",
        "    random_state=42 # Para reproducibilidad\n",
        ")\n",
        "print(\"Datos listos para entrenamiento y validación.\")\n",
        "\n",
        "\n",
        "# CORREGIR: Crear el ImageDataGenerator ANTES de usarlo.\n",
        "# Define aquí si quieres Data Augmentation o no.\n",
        "print(\"[INFO]: Creando generadores de datos...\")\n",
        "# Generador para entrenamiento CON Data Augmentation (ejemplo)\n",
        "datagen_train = ImageDataGenerator(\n",
        "    rotation_range=10,\n",
        "    width_shift_range=0.1,\n",
        "    height_shift_range=0.1,\n",
        "    horizontal_flip=True,\n",
        "    zoom_range=0.1\n",
        "    # Puedes añadir más opciones\n",
        ")\n",
        "# Es buena práctica ajustarlo (fit) a los datos de entrenamiento\n",
        "datagen_train.fit(x_tr_norm)\n",
        "\n",
        "# Generador para validación SIN Data Augmentation\n",
        "datagen_val = ImageDataGenerator() # Simple, sin transformaciones\n",
        "\n",
        "# CORREGIR: Crear los generators usando el datagen definido y los datos divididos, SIN 'subset'\n",
        "# Define tu batch_size si no lo has hecho (ej. batch_size = 128)\n",
        "batch_size = 128 # O el valor que prefieras\n",
        "\n",
        "train_generator = datagen_train.flow(\n",
        "  x_tr_norm, # CORREGIR: Usar datos de entrenamiento divididos y normalizados\n",
        "  y_tr_cat,  # CORREGIR: Usar etiquetas de entrenamiento divididas y categorizadas\n",
        "  batch_size=batch_size # CORREGIR: Usar la variable batch_size\n",
        ")\n",
        "\n",
        "validation_generator = datagen_val.flow( # CORREGIR: Usar el generador de validación\n",
        "  x_val_norm, # CORREGIR: Usar datos de validación divididos y normalizados\n",
        "  y_val_cat,  # CORREGIR: Usar etiquetas de validación divididas y categorizadas\n",
        "  batch_size=batch_size # CORREGIR: Usar la variable batch_size\n",
        ")\n",
        "print(\"Generadores creados.\")\n",
        "\n",
        "# CORREGIR: Calcular steps_per_epoch y validation_steps para model.fit\n",
        "steps_per_epoch = len(x_tr_norm) // batch_size\n",
        "validation_steps = len(x_val_norm) // batch_size\n",
        "\n",
        "# CORREGIR: Definir las épocas si no lo has hecho (ej. epochs = 50)\n",
        "epochs = 50 # O el valor que prefieras\n",
        "\n",
        "# Entrenamiento de la red\n",
        "print(\"[INFO]: Entrenando la red...\")\n",
        "# CORREGIR: Ajustar la llamada a fit para usar generadores y steps\n",
        "H_aug = model_aug.fit(\n",
        "            train_generator,\n",
        "            steps_per_epoch = steps_per_epoch, # CORREGIR\n",
        "            validation_data = validation_generator,\n",
        "            validation_steps = validation_steps, # CORREGIR\n",
        "            epochs = epochs) # CORREGIR: Usar la variable epochs\n",
        "            # 'workers' no es un parámetro estándar aquí, se maneja internamente\n",
        "\n",
        "\n",
        "# --- CORREGIR: Guardado y Evaluación ---\n",
        "\n",
        "# Montamos la unidad de Drive (Opcional, si quieres guardar)\n",
        "# drive.mount('/content/drive')\n",
        "# CORREGIR: Define BASE_FOLDER si vas a guardar\n",
        "# BASE_FOLDER = '/content/drive/MyDrive/MiCarpeta/' # EJEMPLO! Cambia a tu ruta\n",
        "# Almacenamos el modelo empleando la función model.save de Keras\n",
        "# print(\"[INFO]: Guardando modelo...\")\n",
        "# model_aug.save(BASE_FOLDER + \"mi_cnn_desde_cero_aug.h5\") # Nombre descriptivo\n",
        "# print(\"Modelo guardado.\")\n",
        "\n",
        "\n",
        "# Evaluación del modelo\n",
        "print(\"[INFO]: Evaluando el modelo...\")\n",
        "# Efectuamos la predicción sobre los datos de TEST preprocesados\n",
        "# CORREGIR: Usar x_test_norm y definir batch_size si no lo has hecho\n",
        "predictions = model_aug.predict(x_test_norm, batch_size=batch_size)\n",
        "\n",
        "# Sacamos el report para test\n",
        "# CORREGIR: Usar y_test_cat y definir labelNames si no lo has hecho\n",
        "# labelNames = [...] # Tu lista de nombres de clases\n",
        "print(classification_report(y_test_cat.argmax(axis=1), predictions.argmax(axis=1), target_names=labelNames))\n",
        "\n",
        "# Gráficas\n",
        "print(\"[INFO]: Mostrando gráficas...\")\n",
        "plt.style.use(\"ggplot\")\n",
        "plt.figure()\n",
        "# CORREGIR: Usar la variable epochs para el rango del gráfico\n",
        "plt.plot(np.arange(0, epochs), H_aug.history[\"loss\"], label=\"train_loss\")\n",
        "plt.plot(np.arange(0, epochs), H_aug.history[\"val_loss\"], label=\"val_loss\")\n",
        "plt.plot(np.arange(0, epochs), H_aug.history[\"accuracy\"], label=\"train_acc\")\n",
        "plt.plot(np.arange(0, epochs), H_aug.history[\"val_accuracy\"], label=\"val_acc\")\n",
        "plt.title(\"Pérdida y Precisión del Entrenamiento\")\n",
        "plt.xlabel(\"Época #\")\n",
        "plt.ylabel(\"Pérdida/Precisión\")\n",
        "plt.legend()\n",
        "plt.show()"
      ]
    },
    {
      "cell_type": "markdown",
      "source": [
        "Resultado: Mejora de accuracy (gracias a que tenemos más muestras)"
      ],
      "metadata": {
        "id": "wLgbJH3fs_eG"
      }
    },
    {
      "cell_type": "markdown",
      "source": [
        "**EJERCICIO PROPUESTO:** Completar las líneas de código marcadas con # (X) IMPUT en:\n",
        "- train_generator\n",
        "- validation_generator\n",
        "- datagen\n",
        "\n",
        "Partes a completar:\n",
        "\n",
        "A) Llevar a cabo la partición de validation cuando se instancia el objeto ImageDataGenerator\n",
        "\n",
        "B) Asignar correctamente las muestras generadas de train y validation al método flow de train_generator y validation_generator\n",
        "\n",
        "Consultar documentación:\n",
        "- https://www.tensorflow.org/api_docs/python/tf/keras/preprocessing/image/ImageDataGenerator\n",
        "- https://www.tensorflow.org/api_docs/python/tf/keras/preprocessing/image/ImageDataGenerator#flow\n"
      ],
      "metadata": {
        "id": "zDbJasz4P5vt"
      }
    }
  ],
  "metadata": {
    "accelerator": "GPU",
    "colab": {
      "provenance": [],
      "toc_visible": true,
      "include_colab_link": true
    },
    "gpuClass": "standard",
    "kernelspec": {
      "display_name": "Python 3",
      "language": "python",
      "name": "python3"
    },
    "language_info": {
      "codemirror_mode": {
        "name": "ipython",
        "version": 3
      },
      "file_extension": ".py",
      "mimetype": "text/x-python",
      "name": "python",
      "nbconvert_exporter": "python",
      "pygments_lexer": "ipython3",
      "version": "3.8.5"
    }
  },
  "nbformat": 4,
  "nbformat_minor": 0
}